{
 "cells": [
  {
   "cell_type": "markdown",
   "id": "7d0be570-8225-4686-ab8f-544a784b2898",
   "metadata": {},
   "source": [
    "#  int to float:"
   ]
  },
  {
   "cell_type": "code",
   "execution_count": 1,
   "id": "9af3089c-f5bf-40a7-b3b2-86f1e613ef98",
   "metadata": {},
   "outputs": [
    {
     "name": "stdout",
     "output_type": "stream",
     "text": [
      "a= 33 <class 'int'>\n",
      "b= 33.0 <class 'float'>\n"
     ]
    }
   ],
   "source": [
    "a=33\n",
    "b=float(a)\n",
    "print(\"a=\",a, type(a))\n",
    "print(\"b=\",b, type(b))\n"
   ]
  },
  {
   "cell_type": "code",
   "execution_count": 3,
   "id": "850c8fa7-ecba-4637-ba46-e79e35c69e86",
   "metadata": {},
   "outputs": [
    {
     "data": {
      "text/plain": [
       "float"
      ]
     },
     "execution_count": 3,
     "metadata": {},
     "output_type": "execute_result"
    }
   ],
   "source": [
    "b=46\n",
    "c=float(b)\n",
    "type(c) "
   ]
  },
  {
   "cell_type": "markdown",
   "id": "20b87465-4d64-41ab-9705-4d89b0d511e2",
   "metadata": {},
   "source": [
    "float to int:"
   ]
  },
  {
   "cell_type": "code",
   "execution_count": 4,
   "id": "2155204c-e6bd-4670-bc5b-79048a3883e9",
   "metadata": {},
   "outputs": [
    {
     "name": "stdout",
     "output_type": "stream",
     "text": [
      "a= 32.135 <class 'float'>\n",
      "b= 32 <class 'int'>\n"
     ]
    }
   ],
   "source": [
    "a=32.135\n",
    "b=int(a)\n",
    "print(\"a=\",a, type(a))\n",
    "print(\"b=\",b, type(b))"
   ]
  },
  {
   "cell_type": "code",
   "execution_count": 5,
   "id": "4e611f4e-eaea-45b6-890d-7888ce629ca3",
   "metadata": {},
   "outputs": [
    {
     "data": {
      "text/plain": [
       "int"
      ]
     },
     "execution_count": 5,
     "metadata": {},
     "output_type": "execute_result"
    }
   ],
   "source": [
    "d=478.432\n",
    "e=int(d)\n",
    "type(e)"
   ]
  },
  {
   "cell_type": "code",
   "execution_count": 6,
   "id": "83606203-b29e-4eae-bdf2-e7f1ac4c335f",
   "metadata": {},
   "outputs": [
    {
     "name": "stdout",
     "output_type": "stream",
     "text": [
      "b= 12 <class 'complex'>\n",
      "a= 12 <class 'int'>\n"
     ]
    }
   ],
   "source": [
    "a=12\n",
    "b=complex(a)\n",
    "print(\"b=\",a,type(b))\n",
    "print(\"a=\",a,type(a))"
   ]
  },
  {
   "cell_type": "code",
   "execution_count": 8,
   "id": "5219cb9d-ace6-4acd-8587-e4665f113038",
   "metadata": {
    "jp-MarkdownHeadingCollapsed": true
   },
   "outputs": [
    {
     "ename": "TypeError",
     "evalue": "int() argument must be a string, a bytes-like object or a real number, not 'complex'",
     "output_type": "error",
     "traceback": [
      "\u001b[1;31m---------------------------------------------------------------------------\u001b[0m",
      "\u001b[1;31mTypeError\u001b[0m                                 Traceback (most recent call last)",
      "Cell \u001b[1;32mIn[8], line 2\u001b[0m\n\u001b[0;32m      1\u001b[0m a\u001b[38;5;241m=\u001b[39m\u001b[38;5;241m6\u001b[39m\u001b[38;5;241m+\u001b[39m\u001b[38;5;241m3\u001b[39mj\n\u001b[1;32m----> 2\u001b[0m b\u001b[38;5;241m=\u001b[39m\u001b[38;5;28mint\u001b[39m(a)\n\u001b[0;32m      3\u001b[0m \u001b[38;5;28mprint\u001b[39m(\u001b[38;5;124m\"\u001b[39m\u001b[38;5;124ma=\u001b[39m\u001b[38;5;124m\"\u001b[39m,a,\u001b[38;5;28mtype\u001b[39m(a))\n\u001b[0;32m      4\u001b[0m \u001b[38;5;28mprint\u001b[39m(\u001b[38;5;124m\"\u001b[39m\u001b[38;5;124mb=\u001b[39m\u001b[38;5;124m\"\u001b[39m,b,\u001b[38;5;28mtype\u001b[39m(b))\n",
      "\u001b[1;31mTypeError\u001b[0m: int() argument must be a string, a bytes-like object or a real number, not 'complex'"
     ]
    }
   ],
   "source": [
    "a=6+3j\n",
    "b=int(a)\n",
    "print(\"a=\",a,type(a))\n",
    "print(\"b=\",b,type(b))"
   ]
  },
  {
   "cell_type": "code",
   "execution_count": 15,
   "id": "2438b7a1-324c-474a-a996-71de3bb8a620",
   "metadata": {},
   "outputs": [
    {
     "data": {
      "text/plain": [
       "complex"
      ]
     },
     "execution_count": 15,
     "metadata": {},
     "output_type": "execute_result"
    }
   ],
   "source": [
    "a=4-4j\n",
    "type(a) "
   ]
  },
  {
   "cell_type": "code",
   "execution_count": 7,
   "id": "aa1c99ec-8681-4a2e-a2e4-f5b254ba3588",
   "metadata": {},
   "outputs": [
    {
     "name": "stdout",
     "output_type": "stream",
     "text": [
      "a= 184.342 <class 'float'>\n",
      "b= (184.342+0j) <class 'complex'>\n"
     ]
    }
   ],
   "source": [
    "a=184.342\n",
    "b=complex(a)\n",
    "print(\"a=\",a,type(a))\n",
    "print(\"b=\",b,type(b))"
   ]
  },
  {
   "cell_type": "code",
   "execution_count": 16,
   "id": "c7c93ab7-45e1-4e6c-8005-8002784e1a20",
   "metadata": {},
   "outputs": [
    {
     "ename": "TypeError",
     "evalue": "float() argument must be a string or a real number, not 'complex'",
     "output_type": "error",
     "traceback": [
      "\u001b[1;31m---------------------------------------------------------------------------\u001b[0m",
      "\u001b[1;31mTypeError\u001b[0m                                 Traceback (most recent call last)",
      "Cell \u001b[1;32mIn[16], line 2\u001b[0m\n\u001b[0;32m      1\u001b[0m a\u001b[38;5;241m=\u001b[39m\u001b[38;5;241m5\u001b[39m\u001b[38;5;241m+\u001b[39m\u001b[38;5;241m8\u001b[39mj\n\u001b[1;32m----> 2\u001b[0m b\u001b[38;5;241m=\u001b[39m\u001b[38;5;28mfloat\u001b[39m(a)\n\u001b[0;32m      3\u001b[0m \u001b[38;5;28mprint\u001b[39m(\u001b[38;5;124m\"\u001b[39m\u001b[38;5;124ma=\u001b[39m\u001b[38;5;124m\"\u001b[39m,a,\u001b[38;5;28mtype\u001b[39m(a))\n\u001b[0;32m      4\u001b[0m \u001b[38;5;28mprint\u001b[39m(\u001b[38;5;124m\"\u001b[39m\u001b[38;5;124mb=\u001b[39m\u001b[38;5;124m\"\u001b[39m,b,\u001b[38;5;28mtype\u001b[39m(b))\n",
      "\u001b[1;31mTypeError\u001b[0m: float() argument must be a string or a real number, not 'complex'"
     ]
    }
   ],
   "source": [
    "a=5+8j\n",
    "b=float(a)\n",
    "print(\"a=\",a,type(a))\n",
    "print(\"b=\",b,type(b))"
   ]
  },
  {
   "cell_type": "code",
   "execution_count": 20,
   "id": "9b2eef00-7a4f-4acd-abf0-02d4f5e57af2",
   "metadata": {},
   "outputs": [
    {
     "name": "stdout",
     "output_type": "stream",
     "text": [
      "a= 145 <class 'int'>\n",
      "b= 145 <class 'str'>\n"
     ]
    },
    {
     "data": {
      "text/plain": [
       "'145'"
      ]
     },
     "execution_count": 20,
     "metadata": {},
     "output_type": "execute_result"
    }
   ],
   "source": [
    "a=145\n",
    "b=str(a)\n",
    "print(\"a=\",a,type(a))\n",
    "print(\"b=\",b,type(b))\n",
    "b"
   ]
  },
  {
   "cell_type": "code",
   "execution_count": null,
   "id": "d13160af-6c8e-482b-b200-3c512dbe7519",
   "metadata": {},
   "outputs": [],
   "source": []
  },
  {
   "cell_type": "code",
   "execution_count": 21,
   "id": "4c15ef57-b39f-40b3-a9ff-8210331be387",
   "metadata": {},
   "outputs": [
    {
     "data": {
      "text/plain": [
       "'32'"
      ]
     },
     "execution_count": 21,
     "metadata": {},
     "output_type": "execute_result"
    }
   ],
   "source": [
    "a=32\n",
    "b=str(a)\n",
    "b"
   ]
  },
  {
   "cell_type": "code",
   "execution_count": 23,
   "id": "b8193a4c-140b-4273-991b-a8772f0c9401",
   "metadata": {},
   "outputs": [
    {
     "name": "stdout",
     "output_type": "stream",
     "text": [
      "a= 3.134678 <class 'float'>\n",
      "b= 3.134678 <class 'str'>\n"
     ]
    },
    {
     "data": {
      "text/plain": [
       "'3.134678'"
      ]
     },
     "execution_count": 23,
     "metadata": {},
     "output_type": "execute_result"
    }
   ],
   "source": [
    "a=3.134678\n",
    "b=str(a)\n",
    "print(\"a=\",a,type(a))\n",
    "print(\"b=\",b,type(b))\n",
    "b"
   ]
  },
  {
   "cell_type": "code",
   "execution_count": 24,
   "id": "ee0a0182-cfea-43e4-a05a-f2a38c8c4e9d",
   "metadata": {},
   "outputs": [
    {
     "name": "stdout",
     "output_type": "stream",
     "text": [
      "a= 1045 <class 'str'>\n",
      "b= 1045 <class 'int'>\n"
     ]
    },
    {
     "data": {
      "text/plain": [
       "1045"
      ]
     },
     "execution_count": 24,
     "metadata": {},
     "output_type": "execute_result"
    }
   ],
   "source": [
    "a=\"1045\"\n",
    "b=int(a)\n",
    "print(\"a=\",a,type(a))\n",
    "print(\"b=\",b,type(b))\n",
    "b"
   ]
  },
  {
   "cell_type": "code",
   "execution_count": 26,
   "id": "12f848f2-8204-40bd-b1e7-d26c6ccb0264",
   "metadata": {},
   "outputs": [
    {
     "ename": "ValueError",
     "evalue": "invalid literal for int() with base 10: 'rohit'",
     "output_type": "error",
     "traceback": [
      "\u001b[1;31m---------------------------------------------------------------------------\u001b[0m",
      "\u001b[1;31mValueError\u001b[0m                                Traceback (most recent call last)",
      "Cell \u001b[1;32mIn[26], line 2\u001b[0m\n\u001b[0;32m      1\u001b[0m a\u001b[38;5;241m=\u001b[39m\u001b[38;5;124m\"\u001b[39m\u001b[38;5;124mrohit\u001b[39m\u001b[38;5;124m\"\u001b[39m\n\u001b[1;32m----> 2\u001b[0m b\u001b[38;5;241m=\u001b[39m\u001b[38;5;28mint\u001b[39m(a)\n\u001b[0;32m      3\u001b[0m \u001b[38;5;28mprint\u001b[39m(\u001b[38;5;124m\"\u001b[39m\u001b[38;5;124ma+\u001b[39m\u001b[38;5;124m\"\u001b[39m,a,\u001b[38;5;28mtype\u001b[39m(a))\n\u001b[0;32m      4\u001b[0m \u001b[38;5;28mprint\u001b[39m(\u001b[38;5;124m\"\u001b[39m\u001b[38;5;124mB+\u001b[39m\u001b[38;5;124m\"\u001b[39m,b,\u001b[38;5;28mtype\u001b[39m(B))\n",
      "\u001b[1;31mValueError\u001b[0m: invalid literal for int() with base 10: 'rohit'"
     ]
    }
   ],
   "source": [
    "a=\"rohit\"\n",
    "b=int(a)\n",
    "print(\"a+\",a,type(a))\n",
    "print(\"B+\",b,type(B))\n",
    "b"
   ]
  },
  {
   "cell_type": "code",
   "execution_count": 27,
   "id": "61e8cdba-6ce4-4262-8af3-b0f217bd2d2c",
   "metadata": {},
   "outputs": [
    {
     "ename": "ValueError",
     "evalue": "could not convert string to float: 'htree'",
     "output_type": "error",
     "traceback": [
      "\u001b[1;31m---------------------------------------------------------------------------\u001b[0m",
      "\u001b[1;31mValueError\u001b[0m                                Traceback (most recent call last)",
      "Cell \u001b[1;32mIn[27], line 2\u001b[0m\n\u001b[0;32m      1\u001b[0m a\u001b[38;5;241m=\u001b[39m\u001b[38;5;124m\"\u001b[39m\u001b[38;5;124mhtree\u001b[39m\u001b[38;5;124m\"\u001b[39m\n\u001b[1;32m----> 2\u001b[0m b\u001b[38;5;241m=\u001b[39m\u001b[38;5;28mfloat\u001b[39m(a)\n\u001b[0;32m      3\u001b[0m b\n",
      "\u001b[1;31mValueError\u001b[0m: could not convert string to float: 'htree'"
     ]
    }
   ],
   "source": [
    "a=\"htree\"\n",
    "b=float(a)\n",
    "b"
   ]
  },
  {
   "cell_type": "code",
   "execution_count": 1,
   "id": "fc69b33b-f261-4cc8-9f48-d043086bea15",
   "metadata": {},
   "outputs": [
    {
     "name": "stdout",
     "output_type": "stream",
     "text": [
      "rohitsharma\n"
     ]
    }
   ],
   "source": [
    "string1=\"rohitsharma\"\n",
    "print(string1)"
   ]
  },
  {
   "cell_type": "code",
   "execution_count": 2,
   "id": "92d1e5b1-a103-4766-aeff-2748c3fd641f",
   "metadata": {},
   "outputs": [
    {
     "name": "stdout",
     "output_type": "stream",
     "text": [
      "msdhoni\n"
     ]
    }
   ],
   "source": [
    "string2=('msdhoni')\n",
    "print(string2)"
   ]
  },
  {
   "cell_type": "code",
   "execution_count": 3,
   "id": "fa5f0541-af89-4e44-9695-f698dbe127d2",
   "metadata": {},
   "outputs": [
    {
     "name": "stdout",
     "output_type": "stream",
     "text": [
      "dhoni finishes off in\n",
      "style\n"
     ]
    }
   ],
   "source": [
    "string3=('''dhoni finishes off in\n",
    "style''')\n",
    "print(string3)"
   ]
  },
  {
   "cell_type": "code",
   "execution_count": 4,
   "id": "6151bc7a-cd09-47eb-865f-f245a810d4f1",
   "metadata": {},
   "outputs": [
    {
     "ename": "SyntaxError",
     "evalue": "invalid syntax. Perhaps you forgot a comma? (2189604852.py, line 1)",
     "output_type": "error",
     "traceback": [
      "\u001b[1;36m  Cell \u001b[1;32mIn[4], line 1\u001b[1;36m\u001b[0m\n\u001b[1;33m    print('rohit is the 'greatesst' player')\u001b[0m\n\u001b[1;37m          ^\u001b[0m\n\u001b[1;31mSyntaxError\u001b[0m\u001b[1;31m:\u001b[0m invalid syntax. Perhaps you forgot a comma?\n"
     ]
    }
   ],
   "source": [
    "print('rohit is the 'greatesst' player')"
   ]
  },
  {
   "cell_type": "code",
   "execution_count": 5,
   "id": "bacfc292-c7c3-47c4-9043-0144f1a093c7",
   "metadata": {},
   "outputs": [
    {
     "ename": "SyntaxError",
     "evalue": "invalid syntax. Perhaps you forgot a comma? (3546690085.py, line 1)",
     "output_type": "error",
     "traceback": [
      "\u001b[1;36m  Cell \u001b[1;32mIn[5], line 1\u001b[1;36m\u001b[0m\n\u001b[1;33m    print(\"sachin is the \"god\" of cricket\")\u001b[0m\n\u001b[1;37m          ^\u001b[0m\n\u001b[1;31mSyntaxError\u001b[0m\u001b[1;31m:\u001b[0m invalid syntax. Perhaps you forgot a comma?\n"
     ]
    }
   ],
   "source": [
    "print(\"sachin is the \"god\" of cricket\")"
   ]
  },
  {
   "cell_type": "code",
   "execution_count": 6,
   "id": "7aa2030a-b610-4d60-929c-d856e28fd262",
   "metadata": {},
   "outputs": [
    {
     "name": "stdout",
     "output_type": "stream",
     "text": [
      "india have won the \"world cup\"\n"
     ]
    }
   ],
   "source": [
    "print('india have won the \"world cup\"')"
   ]
  },
  {
   "cell_type": "code",
   "execution_count": 11,
   "id": "3d5903eb-f00f-49b4-9623-fa95af2fb866",
   "metadata": {},
   "outputs": [
    {
     "name": "stdout",
     "output_type": "stream",
     "text": [
      "she said, \"hi!\"\n"
     ]
    }
   ],
   "source": [
    "s=\"she said, \\\"hi!\\\"\"\n",
    "print(s)"
   ]
  },
  {
   "cell_type": "code",
   "execution_count": 12,
   "id": "4b5397fd-a51e-455a-a092-882410a8f110",
   "metadata": {},
   "outputs": [
    {
     "name": "stdout",
     "output_type": "stream",
     "text": [
      "anil loves \n",
      "jenny\n"
     ]
    }
   ],
   "source": [
    "s=\"anil loves \\njenny\"\n",
    "print(s)"
   ]
  },
  {
   "cell_type": "code",
   "execution_count": 13,
   "id": "03ce06de-b0af-429b-a84d-142d32297def",
   "metadata": {},
   "outputs": [
    {
     "name": "stdout",
     "output_type": "stream",
     "text": [
      "jas\tthe\tboss\n"
     ]
    }
   ],
   "source": [
    "s=\"jas\\tthe\\tboss\"\n",
    "print(s)"
   ]
  },
  {
   "cell_type": "code",
   "execution_count": 14,
   "id": "ba9ea352-7465-45f4-b047-d20c795e88ba",
   "metadata": {},
   "outputs": [
    {
     "name": "stdout",
     "output_type": "stream",
     "text": [
      "python is the \"high level\" language\n"
     ]
    }
   ],
   "source": [
    "s=\"python is the \\\"high level\\\" language\"\n",
    "print(s)"
   ]
  },
  {
   "cell_type": "code",
   "execution_count": 17,
   "id": "34aa7a40-9928-4483-a1b5-e72e3f6da620",
   "metadata": {},
   "outputs": [
    {
     "name": "stdout",
     "output_type": "stream",
     "text": [
      "r\n",
      "o\n"
     ]
    }
   ],
   "source": [
    "s=\"rohitsharma\"\n",
    "print(s[0])\n",
    "print(s[1])\n"
   ]
  },
  {
   "cell_type": "code",
   "execution_count": 1,
   "id": "5c5129fa-160d-46ed-b073-3d776a54de62",
   "metadata": {},
   "outputs": [
    {
     "name": "stdout",
     "output_type": "stream",
     "text": [
      "sachint\n"
     ]
    }
   ],
   "source": [
    "s=\"sachintendulkar\"\n",
    "print(s[:7])"
   ]
  },
  {
   "cell_type": "code",
   "execution_count": 3,
   "id": "7bdbbf94-5f9c-41a8-871b-582755a90812",
   "metadata": {},
   "outputs": [
    {
     "name": "stdout",
     "output_type": "stream",
     "text": [
      "hinte\n"
     ]
    }
   ],
   "source": [
    "s=\"sachintendulkar\"\n",
    "print(s[3:8])"
   ]
  },
  {
   "cell_type": "code",
   "execution_count": 4,
   "id": "04f21edf-1fd9-4fef-8a8d-31a12127d39e",
   "metadata": {},
   "outputs": [
    {
     "name": "stdout",
     "output_type": "stream",
     "text": [
      "cnn\n"
     ]
    }
   ],
   "source": [
    "s=\"sachintendulkar\"\n",
    "print(s[2:9:3])"
   ]
  },
  {
   "cell_type": "code",
   "execution_count": 5,
   "id": "a79d96fc-b25f-4994-9a17-bed52813d262",
   "metadata": {},
   "outputs": [
    {
     "name": "stdout",
     "output_type": "stream",
     "text": [
      "sachintendulkar\n"
     ]
    }
   ],
   "source": [
    "s=\"sachintendulkar\"\n",
    "print(s[0:])"
   ]
  },
  {
   "cell_type": "code",
   "execution_count": 7,
   "id": "fc878b1e-bca6-4ae4-92b5-55d569794a1c",
   "metadata": {},
   "outputs": [
    {
     "name": "stdout",
     "output_type": "stream",
     "text": [
      "kar\n"
     ]
    }
   ],
   "source": [
    "s=\"sachintendulkar\"\n",
    "print(s[-3:])"
   ]
  },
  {
   "cell_type": "code",
   "execution_count": 8,
   "id": "fbc273d2-6890-48d5-b370-0eb6cb7873d1",
   "metadata": {},
   "outputs": [
    {
     "name": "stdout",
     "output_type": "stream",
     "text": [
      "sci\n"
     ]
    }
   ],
   "source": [
    "s=\"sachin\"\n",
    "print(s[::2])"
   ]
  },
  {
   "cell_type": "code",
   "execution_count": 1,
   "id": "5657dd44-7521-439a-aec2-ef56e592e7b2",
   "metadata": {},
   "outputs": [
    {
     "name": "stdout",
     "output_type": "stream",
     "text": [
      "chin\n"
     ]
    }
   ],
   "source": [
    "s=\"sachin\"\n",
    "print(s[-4:6])"
   ]
  },
  {
   "cell_type": "code",
   "execution_count": null,
   "id": "c117c0cc-8163-4f5f-aaf3-a2539a9a5fad",
   "metadata": {},
   "outputs": [],
   "source": [
    "# Access characters using loop:\n"
   ]
  },
  {
   "cell_type": "code",
   "execution_count": 1,
   "id": "d9a92fdd-f979-4d61-a853-7ad382fa500c",
   "metadata": {},
   "outputs": [
    {
     "name": "stdout",
     "output_type": "stream",
     "text": [
      "23\n",
      "56\n",
      "67\n",
      "78\n"
     ]
    }
   ],
   "source": [
    "list=[23,56,67,78]\n",
    "for num in list:\n",
    "    print(num)\n",
    "    "
   ]
  },
  {
   "cell_type": "code",
   "execution_count": 3,
   "id": "680b1f97-6766-4580-a5a3-77db777dd558",
   "metadata": {},
   "outputs": [
    {
     "name": "stdout",
     "output_type": "stream",
     "text": [
      "a\n",
      "sarra saraa saram\n",
      "n\n",
      "sarra saraa saram\n",
      "i\n",
      "sarra saraa saram\n",
      "l\n",
      "sarra saraa saram\n",
      " \n",
      "sarra saraa saram\n",
      "a\n",
      "sarra saraa saram\n",
      "n\n",
      "sarra saraa saram\n",
      "n\n",
      "sarra saraa saram\n",
      "a\n",
      "sarra saraa saram\n",
      "w\n",
      "sarra saraa saram\n",
      "w\n",
      "sarra saraa saram\n",
      "w\n",
      "sarra saraa saram\n"
     ]
    }
   ],
   "source": [
    "srt=\"anil annawww\"\n",
    "for char in srt:\n",
    "    print(char)\n",
    "    print(\"sarra saraa saram\")"
   ]
  },
  {
   "cell_type": "code",
   "execution_count": 5,
   "id": "b81d24e9-ac7a-4ff4-ae00-da49e502442c",
   "metadata": {},
   "outputs": [
    {
     "name": "stdout",
     "output_type": "stream",
     "text": [
      "r is a an allrounder\n",
      "a is a an allrounder\n",
      "i is a an allrounder\n",
      "n is a an allrounder\n",
      "a is a an allrounder\n"
     ]
    }
   ],
   "source": [
    "player=\"raina\"\n",
    "for i in player:\n",
    "    print(f\"{i} is a an allrounder\")"
   ]
  },
  {
   "cell_type": "code",
   "execution_count": 7,
   "id": "81d72473-6d4d-4672-ad26-5cbd82919ca7",
   "metadata": {},
   "outputs": [
    {
     "name": "stdout",
     "output_type": "stream",
     "text": [
      "punjab ka munda y\n",
      "punjab ka munda u\n",
      "punjab ka munda v\n",
      "punjab ka munda r\n",
      "punjab ka munda a\n",
      "punjab ka munda j\n"
     ]
    }
   ],
   "source": [
    "name=\"yuvraj\"\n",
    "for i in name:\n",
    "    print(\"punjab ka munda {}\".format(i))"
   ]
  },
  {
   "cell_type": "code",
   "execution_count": 9,
   "id": "1790d342-9cd0-4832-a797-f6042f3d7ff3",
   "metadata": {},
   "outputs": [
    {
     "name": "stdout",
     "output_type": "stream",
     "text": [
      "raina is an indian cricketer\n",
      "rohit is an indian cricketer\n",
      "sachin is an indian cricketer\n"
     ]
    }
   ],
   "source": [
    "list1=[\"raina\",\"rohit\",\"sachin\"]\n",
    "for i in list1:\n",
    "    print(f\"{i} is an indian cricketer\")"
   ]
  },
  {
   "cell_type": "code",
   "execution_count": 3,
   "id": "1ce16d29-32e0-434c-9ef2-30414ca11bd4",
   "metadata": {},
   "outputs": [
    {
     "name": "stdout",
     "output_type": "stream",
     "text": [
      "rohitsharma\n",
      "r\n",
      "*********\n",
      "o\n",
      "*********\n",
      "h\n",
      "*********\n",
      "i\n",
      "*********\n",
      "t\n",
      "*********\n",
      "s\n",
      "*********\n",
      "h\n",
      "*********\n",
      "a\n",
      "*********\n",
      "r\n",
      "*********\n",
      "m\n",
      "*********\n",
      "a\n",
      "*********\n"
     ]
    }
   ],
   "source": [
    "string=\"rohitsharma\"\n",
    "print(string)\n",
    "for i in string:\n",
    "    print(i)\n",
    "    print(\"*********\")"
   ]
  },
  {
   "cell_type": "code",
   "execution_count": null,
   "id": "606f5a73-249f-4f0b-a797-453326e865d2",
   "metadata": {},
   "outputs": [],
   "source": []
  },
  {
   "cell_type": "code",
   "execution_count": 8,
   "id": "21c860dc-38c2-41b2-9b9b-16c2ace0db64",
   "metadata": {},
   "outputs": [
    {
     "name": "stdout",
     "output_type": "stream",
     "text": [
      "1\n",
      "4\n",
      "6\n"
     ]
    }
   ],
   "source": [
    "list=[1,4,6]\n",
    "for i in list:\n",
    "    print(i)"
   ]
  },
  {
   "cell_type": "code",
   "execution_count": 9,
   "id": "94d84c59-f480-4dc5-b249-a42429d1e3d1",
   "metadata": {},
   "outputs": [
    {
     "name": "stdout",
     "output_type": "stream",
     "text": [
      "hlo!,rohit my age is 35 yrs old\n"
     ]
    }
   ],
   "source": [
    "name=\"rohit\"\n",
    "age=\"35\"\n",
    "print(f'hlo!,{name} my age is {age} yrs old')"
   ]
  },
  {
   "cell_type": "code",
   "execution_count": 12,
   "id": "04070d47-979d-49e6-95f3-76e65cb0f0b5",
   "metadata": {},
   "outputs": [
    {
     "name": "stdout",
     "output_type": "stream",
     "text": [
      "his name isvirat and he is from delhi\n"
     ]
    }
   ],
   "source": [
    "name=\"virat\"\n",
    "place=\"delhi\"\n",
    "print(f\"his name is{name} and he is from {place}\")"
   ]
  },
  {
   "cell_type": "code",
   "execution_count": 13,
   "id": "2b0a4841-2722-4513-b9c6-50ae00523e67",
   "metadata": {},
   "outputs": [
    {
     "name": "stdout",
     "output_type": "stream",
     "text": [
      "hands + on =handson\n"
     ]
    }
   ],
   "source": [
    "f=\"hands\"\n",
    "g=\"on\"\n",
    "print(f\"{f} + {g} = {f+g}\")"
   ]
  },
  {
   "cell_type": "code",
   "execution_count": 15,
   "id": "9350e449-d138-47ac-b7b7-d7a7fbe63342",
   "metadata": {},
   "outputs": [
    {
     "name": "stdout",
     "output_type": "stream",
     "text": [
      "rohit's spouse is ritika\n"
     ]
    }
   ],
   "source": [
    "player=\"rohit\"\n",
    "spouse=\"ritika\"\n",
    "print(\"{}'s spouse is {}\".format(player,spouse))"
   ]
  },
  {
   "cell_type": "code",
   "execution_count": 11,
   "id": "abaadc8a-6bd7-4ef9-a4bb-c1bef0e26f9e",
   "metadata": {},
   "outputs": [
    {
     "name": "stdout",
     "output_type": "stream",
     "text": [
      "(0, 'v')\n",
      "(1, 'i')\n",
      "(2, 'r')\n",
      "(3, 'a')\n",
      "(4, 't')\n"
     ]
    }
   ],
   "source": [
    "string=\"virat\"\n",
    "for i in enumerate(string):\n",
    "    print(i)"
   ]
  },
  {
   "cell_type": "code",
   "execution_count": 26,
   "id": "d2f0a16f-45b4-4939-bcac-814a9763ec44",
   "metadata": {},
   "outputs": [
    {
     "name": "stdout",
     "output_type": "stream",
     "text": [
      "index of 0 : is carrot\n",
      "index of 1 : is beans\n",
      "index of 2 : is spinach\n"
     ]
    }
   ],
   "source": [
    "veg=[\"carrot\",\"beans\",\"spinach\"]\n",
    "for index,i in enumerate (veg):\n",
    "    print(f\"index of {index} : is {i}\")"
   ]
  },
  {
   "cell_type": "code",
   "execution_count": 30,
   "id": "1e7e5c95-e811-4c2d-938c-e76367f241be",
   "metadata": {},
   "outputs": [
    {
     "name": "stdout",
     "output_type": "stream",
     "text": [
      "avpl is a blockbuster\n",
      "svpl is a blockbuster\n",
      "hhvm is a blockbuster\n"
     ]
    }
   ],
   "source": [
    "movies=[\"avpl\",\"svpl\",\"hhvm\"]\n",
    "for index ,movie in enumerate(movies):\n",
    "    print(f\"{movie} is a blockbuster\")"
   ]
  },
  {
   "cell_type": "code",
   "execution_count": 21,
   "id": "397ab75e-5e18-48d2-8293-65e9220dac6b",
   "metadata": {},
   "outputs": [
    {
     "name": "stdout",
     "output_type": "stream",
     "text": [
      "lina\n"
     ]
    }
   ],
   "source": [
    "p=\"anil\"\n",
    "print(p[::-1])"
   ]
  },
  {
   "cell_type": "code",
   "execution_count": 31,
   "id": "3ebfb64b-b891-4159-8f41-ee414ea7f20e",
   "metadata": {},
   "outputs": [
    {
     "name": "stdout",
     "output_type": "stream",
     "text": [
      "(0, 'd')\n",
      "(1, 'h')\n",
      "(2, 'o')\n",
      "(3, 'n')\n",
      "(4, 'i')\n"
     ]
    }
   ],
   "source": [
    "p=\"dhoni\"\n",
    "for i in enumerate(p):\n",
    "    print(i)"
   ]
  },
  {
   "cell_type": "code",
   "execution_count": 37,
   "id": "ec5778c7-e940-4bc0-81b1-061d43b0cb38",
   "metadata": {},
   "outputs": [
    {
     "name": "stdout",
     "output_type": "stream",
     "text": [
      "character at index 0:h\n",
      "character at index 1:a\n",
      "character at index 2:r\n",
      "character at index 3:i\n",
      "character at index 4:h\n",
      "character at index 5:a\n",
      "character at index 6:r\n",
      "character at index 7:a\n"
     ]
    }
   ],
   "source": [
    "s=\"harihara\"\n",
    "for index,i in enumerate(s):\n",
    "    print(f\"character at index {index}:{i\")"
   ]
  },
  {
   "cell_type": "code",
   "execution_count": 62,
   "id": "fe063367-05dc-449a-a327-f800418cf0c2",
   "metadata": {},
   "outputs": [
    {
     "name": "stdout",
     "output_type": "stream",
     "text": [
      "0\n",
      "5\n",
      "10\n",
      "15\n",
      "20\n",
      "25\n",
      "30\n",
      "35\n",
      "40\n",
      "45\n",
      "50\n"
     ]
    }
   ],
   "source": [
    "for i in range(0,55,5):\n",
    "    print(i)"
   ]
  },
  {
   "cell_type": "code",
   "execution_count": 2,
   "id": "0177ea64-6666-4fe8-b72b-eed849085b27",
   "metadata": {},
   "outputs": [
    {
     "name": "stdout",
     "output_type": "stream",
     "text": [
      "[0, 1, 2, 3, 4, 5, 6, 7, 8]\n"
     ]
    }
   ],
   "source": [
    "l=[2,3,5,7,6,1,8,9,10]\n",
    "a=range(0,9)\n",
    "print(list(a))"
   ]
  },
  {
   "cell_type": "code",
   "execution_count": null,
   "id": "69b5bf1c-5d92-4b52-a214-d33179b609e8",
   "metadata": {},
   "outputs": [],
   "source": []
  },
  {
   "cell_type": "code",
   "execution_count": null,
   "id": "46695fb2-7473-4ad8-bfc2-89e4175965cd",
   "metadata": {},
   "outputs": [],
   "source": []
  }
 ],
 "metadata": {
  "kernelspec": {
   "display_name": "Python 3 (ipykernel)",
   "language": "python",
   "name": "python3"
  },
  "language_info": {
   "codemirror_mode": {
    "name": "ipython",
    "version": 3
   },
   "file_extension": ".py",
   "mimetype": "text/x-python",
   "name": "python",
   "nbconvert_exporter": "python",
   "pygments_lexer": "ipython3",
   "version": "3.13.5"
  }
 },
 "nbformat": 4,
 "nbformat_minor": 5
}
