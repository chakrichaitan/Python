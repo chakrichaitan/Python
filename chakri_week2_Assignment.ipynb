{
 "cells": [
  {
   "cell_type": "markdown",
   "id": "804101b5-c38c-434b-9e20-2537e0c3ddef",
   "metadata": {},
   "source": [
    "# Day2"
   ]
  },
  {
   "cell_type": "markdown",
   "id": "b9d0b90b-d33f-4bf2-842c-6cb52ec87fce",
   "metadata": {},
   "source": [
    "# Question1"
   ]
  },
  {
   "cell_type": "code",
   "execution_count": 1,
   "id": "62e6eea6-bb2b-4b45-ac62-29ad81626faf",
   "metadata": {},
   "outputs": [
    {
     "name": "stdin",
     "output_type": "stream",
     "text": [
      "enter the year: 2012\n"
     ]
    },
    {
     "name": "stdout",
     "output_type": "stream",
     "text": [
      "2012 is a leap year\n"
     ]
    }
   ],
   "source": [
    "y=int(input(\"enter the year:\"))\n",
    "if (y%4==0 and y%100!=0) or (y%400==0):\n",
    "    print(f\"{y} is a leap year\")\n",
    "else:\n",
    "    print(f\"{y} is not a leap year\")"
   ]
  },
  {
   "cell_type": "code",
   "execution_count": null,
   "id": "7a24e9dd-13b5-44b7-acde-608ba0cb5a1c",
   "metadata": {},
   "outputs": [],
   "source": [
    "# Question2"
   ]
  },
  {
   "cell_type": "code",
   "execution_count": 4,
   "id": "2858db64-0d24-4af3-ae0a-9aed92143c95",
   "metadata": {},
   "outputs": [
    {
     "name": "stdin",
     "output_type": "stream",
     "text": [
      "enter your number 18\n"
     ]
    },
    {
     "name": "stdout",
     "output_type": "stream",
     "text": [
      "18 is divisible by 3\n"
     ]
    }
   ],
   "source": [
    "num=int(input(\"enter your number\"))\n",
    "if (num%3==0):\n",
    "    print(num,\"is divisible by 3\")\n",
    "else:\n",
    "    print(num,\"is not divisible by 3\")"
   ]
  },
  {
   "cell_type": "markdown",
   "id": "65666a16-0241-4c78-985f-9895465e0ec3",
   "metadata": {},
   "source": [
    "# Question3"
   ]
  },
  {
   "cell_type": "code",
   "execution_count": 6,
   "id": "30d43024-5755-4f52-8ce6-cecccef8f969",
   "metadata": {},
   "outputs": [
    {
     "name": "stdin",
     "output_type": "stream",
     "text": [
      "enter your first number 4\n",
      "enter your second number 12\n"
     ]
    },
    {
     "name": "stdout",
     "output_type": "stream",
     "text": [
      "4 is the smallest number\n"
     ]
    }
   ],
   "source": [
    "num1=int(input(\"enter your first number\"))\n",
    "num2=int(input(\"enter your second number\"))\n",
    "if num1<num2:\n",
    "    print(num1,\"is the smallest number\")\n",
    "else:\n",
    "    print(num2,\"is the smallest number\")\n",
    "    \n",
    "               "
   ]
  },
  {
   "cell_type": "markdown",
   "id": "d36d34a8-690c-44e7-a49b-e8f3cde41b9e",
   "metadata": {},
   "source": [
    "# Question4"
   ]
  },
  {
   "cell_type": "code",
   "execution_count": 7,
   "id": "f38c7096-0e4d-4eb8-9652-30c3b2065b3c",
   "metadata": {},
   "outputs": [
    {
     "name": "stdin",
     "output_type": "stream",
     "text": [
      "enter your first number 34\n",
      "enter your second number 56\n"
     ]
    },
    {
     "name": "stdout",
     "output_type": "stream",
     "text": [
      "56 is the largest number\n"
     ]
    }
   ],
   "source": [
    "num1=int(input(\"enter your first number\"))\n",
    "num2=int(input(\"enter your second number\"))\n",
    "if num1>num2:\n",
    "    print(num1,\"is the largest number\")\n",
    "else:\n",
    "    print(num2,\"is the largest number\")\n",
    "    \n",
    "               "
   ]
  },
  {
   "cell_type": "markdown",
   "id": "7f419345-a5f4-4edd-b4d2-3c3245532d37",
   "metadata": {},
   "source": [
    "# Question5"
   ]
  },
  {
   "cell_type": "code",
   "execution_count": 11,
   "id": "1851b60a-1637-4406-89f3-9c79847e4864",
   "metadata": {},
   "outputs": [
    {
     "name": "stdin",
     "output_type": "stream",
     "text": [
      "enter a letter: y\n"
     ]
    },
    {
     "name": "stdout",
     "output_type": "stream",
     "text": [
      "y is a consonant\n"
     ]
    }
   ],
   "source": [
    "letter=input(\"enter a letter:\")\n",
    "list1=['a','e','i','o','u','A','E','I','O','U']\n",
    "if letter in list1:\n",
    "    print(letter,\"is a vowel\")\n",
    "else:\n",
    "    print(letter,\"is a consonant\")\n",
    "\n"
   ]
  },
  {
   "cell_type": "markdown",
   "id": "e13c275b-89da-4a75-9786-f1fd4a4dd18b",
   "metadata": {},
   "source": [
    "# Question6"
   ]
  },
  {
   "cell_type": "code",
   "execution_count": 7,
   "id": "e6d41d02-14d1-4cb7-8ce9-351be6522715",
   "metadata": {},
   "outputs": [
    {
     "name": "stdin",
     "output_type": "stream",
     "text": [
      "enter the age: 13\n"
     ]
    },
    {
     "name": "stdout",
     "output_type": "stream",
     "text": [
      "Teenage\n"
     ]
    }
   ],
   "source": [
    "age=int(input(\"enter the age:\"))\n",
    "if age<=12:\n",
    "    print(\"Child\")\n",
    "elif age>=13 and age<=19:\n",
    "    print(\"Teenage\")\n",
    "elif age>=20 and age<=64:\n",
    "    print(\"Adult\")\n",
    "else :\n",
    "    print(\"Senoir\")"
   ]
  },
  {
   "cell_type": "markdown",
   "id": "1826ae2b-5587-419b-b810-0442d4f0c900",
   "metadata": {},
   "source": [
    "# Question7"
   ]
  },
  {
   "cell_type": "code",
   "execution_count": 9,
   "id": "80ba795e-1ca5-4bc6-9686-aa86022aed08",
   "metadata": {},
   "outputs": [
    {
     "name": "stdin",
     "output_type": "stream",
     "text": [
      "enter your password: anil\n"
     ]
    },
    {
     "name": "stdout",
     "output_type": "stream",
     "text": [
      "Weak password\n"
     ]
    }
   ],
   "source": [
    "password=input(\"enter your password:\")\n",
    "if len(password)>=8:\n",
    "    print(\"Strong password\")\n",
    "else:\n",
    "    print(\"Weak password\")"
   ]
  },
  {
   "cell_type": "markdown",
   "id": "aeed3ac9-3d32-4ec7-952f-7fe1f69f404c",
   "metadata": {},
   "source": [
    "# Day3"
   ]
  },
  {
   "cell_type": "markdown",
   "id": "4c3b4d95-c65d-4702-be8e-baec965ad69a",
   "metadata": {},
   "source": [
    "for loop is used for iterating over a sequence like a list,tuple,string or dictionary or the result of a range() function one item at a time.\n"
   ]
  },
  {
   "cell_type": "markdown",
   "id": "d323c748-c41e-4c26-bc1a-2b5a76e16637",
   "metadata": {},
   "source": [
    "Syntax for \"for\" loop:\n",
    "for i in sequence:\n",
    "    operation\n",
    "where,\n",
    "for=keyword\n",
    "i=temp.variable\n",
    "in=membership opertor\n",
    "sequence=list/tuple/string/dictionary."
   ]
  },
  {
   "cell_type": "markdown",
   "id": "68669668-b724-428d-8524-52b4b70e0869",
   "metadata": {},
   "source": [
    "An iterable is an object capable of returning its members one at a time\n",
    "built-in iterables in python that are commonly used with \"for\" loop\n",
    "list,string,tuple,dictionary,range()"
   ]
  },
  {
   "cell_type": "code",
   "execution_count": 1,
   "id": "65e05790-1ddb-4f97-852d-4dd0135cab93",
   "metadata": {},
   "outputs": [
    {
     "name": "stdout",
     "output_type": "stream",
     "text": [
      "i\n",
      "t\n",
      "e\n",
      "r\n",
      "a\n",
      "t\n",
      "e\n"
     ]
    }
   ],
   "source": [
    "a=\"iterate\"\n",
    "for i in a:\n",
    "    print(i)"
   ]
  },
  {
   "cell_type": "markdown",
   "id": "53cca2b4-7dc7-4e02-9087-6133c6d408c2",
   "metadata": {},
   "source": [
    "The range() function when used with a for loop serves to generate a sequence of numbers ,which the for loop then iterates over"
   ]
  },
  {
   "cell_type": "code",
   "execution_count": 2,
   "id": "f372f2a3-5c03-407a-a38b-194666f70365",
   "metadata": {},
   "outputs": [
    {
     "name": "stdout",
     "output_type": "stream",
     "text": [
      "1\n",
      "4\n",
      "7\n",
      "10\n",
      "13\n"
     ]
    }
   ],
   "source": [
    "for i in range(1,15,3):\n",
    "    print(i)"
   ]
  },
  {
   "cell_type": "markdown",
   "id": "b98346c4-82f0-44ab-8a2f-ec08c099517e",
   "metadata": {},
   "source": [
    "yes,we can have a for loop inside another for loop\n",
    "this is called \"nested for\"loop                               "
   ]
  },
  {
   "cell_type": "markdown",
   "id": "f9d22333-6fb5-4265-8852-31c68f6e9390",
   "metadata": {},
   "source": [
    "while loop is used for iterating a block of code as long as the condition is true.  we use this loop when you don't know how many iterations in advance"
   ]
  },
  {
   "cell_type": "markdown",
   "id": "29be8b32-9636-4278-9c31-a2c7d57f7be5",
   "metadata": {},
   "source": [
    "syntax of a while loop:\n",
    "while condition:\n",
    "    operation"
   ]
  },
  {
   "cell_type": "markdown",
   "id": "6b210eee-d315-4eeb-bfb9-7645979bf440",
   "metadata": {},
   "source": [
    "An infinite loop is a sequence of instructions in a program that repeats endlessly .\n",
    "a while loop iterates as long as the condition is true ,if the condition is always true it runs forever,To avoid it we can use break statement to exit the loop permanently."
   ]
  },
  {
   "cell_type": "markdown",
   "id": "b819b907-b01a-4467-a45c-a7e6e0e4d614",
   "metadata": {},
   "source": [
    "The break statement is used to terminate the loop permanently.\n",
    "The continue statement is used to skip the current iterartion and proceeds to the next."
   ]
  },
  {
   "cell_type": "markdown",
   "id": "fe54a8d2-8be8-4b96-8230-d66a2a349460",
   "metadata": {},
   "source": [
    "# Day4"
   ]
  },
  {
   "cell_type": "markdown",
   "id": "616a4351-d31c-4a25-9261-23b8f2fc3206",
   "metadata": {},
   "source": [
    "# Question1"
   ]
  },
  {
   "cell_type": "code",
   "execution_count": 2,
   "id": "7666b062-53d2-476b-bc94-a9b2c29d9b17",
   "metadata": {},
   "outputs": [
    {
     "name": "stdin",
     "output_type": "stream",
     "text": [
      "enter your sentence: string methods\n"
     ]
    },
    {
     "name": "stdout",
     "output_type": "stream",
     "text": [
      "String methods\n"
     ]
    }
   ],
   "source": [
    "a=input(\"enter your sentence:\")\n",
    "b=a.capitalize()\n",
    "print(b)"
   ]
  },
  {
   "cell_type": "markdown",
   "id": "c6854b6f-5bd1-48c2-80a2-13c7ead24381",
   "metadata": {},
   "source": [
    "# Question2"
   ]
  },
  {
   "cell_type": "code",
   "execution_count": 3,
   "id": "d732dbae-c8ed-4335-9dce-59143b1ee975",
   "metadata": {},
   "outputs": [
    {
     "name": "stdin",
     "output_type": "stream",
     "text": [
      "enter your string: ROHITSHARMA\n"
     ]
    },
    {
     "name": "stdout",
     "output_type": "stream",
     "text": [
      "rohitsharma\n"
     ]
    }
   ],
   "source": [
    "string=input(\"enter your string:\")\n",
    "string1=string.lower()\n",
    "print(string1)"
   ]
  },
  {
   "cell_type": "markdown",
   "id": "1dd6304a-f450-4b8e-b2ee-120be0880a2c",
   "metadata": {},
   "source": [
    "# Question3"
   ]
  },
  {
   "cell_type": "code",
   "execution_count": 4,
   "id": "794ee9de-8ca1-409a-891b-56a5e5736297",
   "metadata": {},
   "outputs": [
    {
     "name": "stdin",
     "output_type": "stream",
     "text": [
      "enter your string: maximum decimus meridius\n"
     ]
    },
    {
     "name": "stdout",
     "output_type": "stream",
     "text": [
      "MAXIMUM DECIMUS MERIDIUS\n"
     ]
    }
   ],
   "source": [
    "string=input(\"enter your string:\")\n",
    "string1=string.upper()\n",
    "print(string1)"
   ]
  },
  {
   "cell_type": "markdown",
   "id": "fefe5841-6b7b-47fe-856f-992d3c0878cc",
   "metadata": {},
   "source": [
    "# Question4"
   ]
  },
  {
   "cell_type": "code",
   "execution_count": 5,
   "id": "f2346f20-b624-42b2-8c1c-6f17569b5cbc",
   "metadata": {},
   "outputs": [
    {
     "name": "stdin",
     "output_type": "stream",
     "text": [
      "enter your sentence: sun will rise again.\n"
     ]
    },
    {
     "name": "stdout",
     "output_type": "stream",
     "text": [
      "Sun Will Rise Again.\n"
     ]
    }
   ],
   "source": [
    "sent=input(\"enter your sentence:\")\n",
    "sent1=sent.title()\n",
    "print(sent1)"
   ]
  },
  {
   "cell_type": "markdown",
   "id": "8e0710b4-6d6e-4ba5-b080-045dbef2f424",
   "metadata": {},
   "source": [
    "# Question5"
   ]
  },
  {
   "cell_type": "code",
   "execution_count": 7,
   "id": "7319b606-8af5-4eab-8567-2fed0a67178d",
   "metadata": {},
   "outputs": [
    {
     "name": "stdin",
     "output_type": "stream",
     "text": [
      "enter your string:            virataparvam\n"
     ]
    },
    {
     "name": "stdout",
     "output_type": "stream",
     "text": [
      "virataparvam\n"
     ]
    }
   ],
   "source": [
    "string=input(\"enter your string:\")\n",
    "str1=string.lstrip()\n",
    "print(str1)"
   ]
  },
  {
   "cell_type": "markdown",
   "id": "0d6e7874-3b93-4823-9194-3cc5332a66b8",
   "metadata": {},
   "source": [
    "# Question6"
   ]
  },
  {
   "cell_type": "code",
   "execution_count": 8,
   "id": "60f708c3-cad1-4d65-b583-608d6fa8b7d1",
   "metadata": {},
   "outputs": [
    {
     "name": "stdin",
     "output_type": "stream",
     "text": [
      "enter your string: ayodhya            \n"
     ]
    },
    {
     "name": "stdout",
     "output_type": "stream",
     "text": [
      "ayodhya\n"
     ]
    }
   ],
   "source": [
    "string=input(\"enter your string:\")\n",
    "str1=string.rstrip()\n",
    "print(str1)"
   ]
  },
  {
   "cell_type": "markdown",
   "id": "153bf23f-5432-43ca-98d5-8b3e42de6977",
   "metadata": {},
   "source": [
    "# Question7"
   ]
  },
  {
   "cell_type": "code",
   "execution_count": 9,
   "id": "7e01b9bb-cca1-43b3-9eac-07b851d2a62a",
   "metadata": {},
   "outputs": [
    {
     "name": "stdin",
     "output_type": "stream",
     "text": [
      "enter your string:           winter is coming              \n"
     ]
    },
    {
     "name": "stdout",
     "output_type": "stream",
     "text": [
      "winter is coming\n"
     ]
    }
   ],
   "source": [
    "string=input(\"enter your string:\")\n",
    "str1=string.strip()\n",
    "print(str1)"
   ]
  },
  {
   "cell_type": "markdown",
   "id": "858091f9-ba59-498b-9d2e-556e1581b6a4",
   "metadata": {},
   "source": [
    "# Question8"
   ]
  },
  {
   "cell_type": "code",
   "execution_count": 16,
   "id": "2f241057-dea4-4662-a39a-1519182aa4e6",
   "metadata": {},
   "outputs": [
    {
     "name": "stdin",
     "output_type": "stream",
     "text": [
      "enter your sentence: his name am ram and he am studying btech\n",
      "enter the substring you want to replace: am\n",
      "enter the substring with you want to replace: is\n"
     ]
    },
    {
     "name": "stdout",
     "output_type": "stream",
     "text": [
      "his nise is ris and he is studying btech\n"
     ]
    }
   ],
   "source": [
    "sent=input(\"enter your sentence:\")\n",
    "old=input(\"enter the substring you want to replace:\")\n",
    "new=input(\"enter the substring with you want to replace:\")\n",
    "sent1=sent.replace(old,new)\n",
    "print(sent1)"
   ]
  },
  {
   "cell_type": "markdown",
   "id": "dbd90358-936e-4411-981c-4df16d06d1f0",
   "metadata": {},
   "source": [
    "# Question9"
   ]
  },
  {
   "cell_type": "code",
   "execution_count": 29,
   "id": "89b70e9d-eb33-4e59-8404-ec8eb36473d8",
   "metadata": {},
   "outputs": [
    {
     "name": "stdin",
     "output_type": "stream",
     "text": [
      "enter your string: hghhh\n",
      "enter the character: h\n"
     ]
    },
    {
     "name": "stdout",
     "output_type": "stream",
     "text": [
      "the character h appears 4 times\n"
     ]
    }
   ],
   "source": [
    "string=input(\"enter your string:\")\n",
    "character=input(\"enter the character:\")\n",
    "count=0\n",
    "for i in string:\n",
    "    if i==character:\n",
    "        count+=1\n",
    "print(f\"the character {character} appears {count} times\")\n",
    "    GhgGHH"
   ]
  },
  {
   "cell_type": "code",
   "execution_count": 40,
   "id": "c736049a-ee83-4ebc-9f9b-a19d8ba1518d",
   "metadata": {},
   "outputs": [
    {
     "name": "stdin",
     "output_type": "stream",
     "text": [
      "enter your string: Ghhh\n"
     ]
    },
    {
     "name": "stdout",
     "output_type": "stream",
     "text": [
      "ghhh\n"
     ]
    },
    {
     "name": "stdin",
     "output_type": "stream",
     "text": [
      "enter the character: h\n"
     ]
    },
    {
     "name": "stdout",
     "output_type": "stream",
     "text": [
      "h\n",
      "3\n"
     ]
    }
   ],
   "source": [
    "string=input(\"enter your string:\")\n",
    "print(string.lower())\n",
    "character=input(\"enter the character:\")\n",
    "print(character.lower())\n",
    "count=string.count(character)\n",
    "print(count)\n"
   ]
  },
  {
   "cell_type": "markdown",
   "id": "17b9a2cb-145b-4217-87e7-415e284eeafb",
   "metadata": {},
   "source": [
    "# Question10"
   ]
  },
  {
   "cell_type": "code",
   "execution_count": 44,
   "id": "82be2b76-8e7e-4ec4-9478-c7b260cc7eb4",
   "metadata": {},
   "outputs": [
    {
     "name": "stdin",
     "output_type": "stream",
     "text": [
      "enter the string: samananta\n",
      "enter the substring: a\n"
     ]
    },
    {
     "name": "stdout",
     "output_type": "stream",
     "text": [
      "1\n"
     ]
    }
   ],
   "source": [
    "string=input(\"enter the string:\")\n",
    "substr=input(\"enter the substring:\")\n",
    "print(string.index(substr))"
   ]
  },
  {
   "cell_type": "markdown",
   "id": "ca34cb3a-5fc6-4f38-822b-08970ede678f",
   "metadata": {},
   "source": [
    "# Question11"
   ]
  },
  {
   "cell_type": "code",
   "execution_count": 2,
   "id": "471df2a1-324d-4afb-b00b-89739ef8fd17",
   "metadata": {},
   "outputs": [
    {
     "name": "stdin",
     "output_type": "stream",
     "text": [
      "Enter the main string:  samantha\n",
      "Enter the substring to find:  a\n"
     ]
    },
    {
     "name": "stdout",
     "output_type": "stream",
     "text": [
      "1\n",
      "3\n",
      "7\n"
     ]
    }
   ],
   "source": [
    "main_string = input(\"Enter the main string: \")\n",
    "substring = input(\"Enter the substring to find: \")\n",
    "start = 0\n",
    "while True:\n",
    "    index = main_string.find(substring, start)\n",
    "    if index == -1:\n",
    "        break\n",
    "    print(index)\n",
    "    start = index + 1"
   ]
  },
  {
   "cell_type": "code",
   "execution_count": null,
   "id": "b2e48755-5a5b-41a3-9f0c-6d78db22c880",
   "metadata": {},
   "outputs": [],
   "source": []
  },
  {
   "cell_type": "markdown",
   "id": "c7dbde31-d2a4-40c1-87db-4c847b7e8972",
   "metadata": {},
   "source": [
    "# Question12"
   ]
  },
  {
   "cell_type": "code",
   "execution_count": 4,
   "id": "9aded4e0-3ad1-46eb-acf8-5378644107a7",
   "metadata": {},
   "outputs": [
    {
     "name": "stdin",
     "output_type": "stream",
     "text": [
      "enter your comma seperated string: python,is,a,intepreted,lang,uage\n"
     ]
    },
    {
     "name": "stdout",
     "output_type": "stream",
     "text": [
      "['python', 'is', 'a', 'intepreted', 'lang', 'uage']\n"
     ]
    }
   ],
   "source": [
    "a=input(\"enter your comma seperated string:\")\n",
    "b=a.split(\",\")\n",
    "print(b)"
   ]
  },
  {
   "cell_type": "markdown",
   "id": "a0608aaa-9545-4e03-b247-0687b6043dd0",
   "metadata": {},
   "source": [
    "# Question13"
   ]
  },
  {
   "cell_type": "code",
   "execution_count": 8,
   "id": "cb001002-b401-4350-8020-8b7145bcadc4",
   "metadata": {},
   "outputs": [
    {
     "name": "stdin",
     "output_type": "stream",
     "text": [
      "enter your filename: c.txt\n"
     ]
    },
    {
     "name": "stdout",
     "output_type": "stream",
     "text": [
      "This is a text file\n"
     ]
    }
   ],
   "source": [
    "filename=input(\"enter your filename:\")\n",
    "if filename.endswith(\".txt\"):\n",
    "    print(\"This is a text file\")\n",
    "else:\n",
    "    print(\"This is not necessarily  a text file\")"
   ]
  },
  {
   "cell_type": "markdown",
   "id": "093c5013-030a-46ad-8450-e41a087cb707",
   "metadata": {},
   "source": [
    "# Question14"
   ]
  },
  {
   "cell_type": "code",
   "execution_count": 11,
   "id": "9f2806f6-c210-44c3-b12e-13f09aaf6410",
   "metadata": {},
   "outputs": [
    {
     "name": "stdin",
     "output_type": "stream",
     "text": [
      "enter the text: subject name is python\n"
     ]
    },
    {
     "name": "stdout",
     "output_type": "stream",
     "text": [
      "This line is likely an email subject.\n"
     ]
    }
   ],
   "source": [
    "txt=input(\"enter the text:\")\n",
    "if txt.startswith(\"subject\"):\n",
    "    print(\"This line is likely an email subject.\")\n",
    "else:\n",
    "    print(\"This line is likely an email subject.\")"
   ]
  },
  {
   "cell_type": "markdown",
   "id": "f1844e33-e3a3-48ea-a4a4-3d5f2e5eeb17",
   "metadata": {},
   "source": [
    "# Question15"
   ]
  },
  {
   "cell_type": "code",
   "execution_count": 12,
   "id": "e41b747d-c279-445a-ad17-26cd2f45979a",
   "metadata": {},
   "outputs": [
    {
     "name": "stdin",
     "output_type": "stream",
     "text": [
      "enter your string: rohit123\n"
     ]
    },
    {
     "name": "stdout",
     "output_type": "stream",
     "text": [
      "Alphanumeric string\n"
     ]
    }
   ],
   "source": [
    "an=input(\"enter your string:\")\n",
    "if an.isalnum():\n",
    "    print(\"Alphanumeric string\")\n",
    "else:\n",
    "    print(\"Not an alphanumeric string\")"
   ]
  },
  {
   "cell_type": "markdown",
   "id": "c833d395-db8f-4fe7-859d-99dcbd8c0ade",
   "metadata": {},
   "source": [
    "# Question16"
   ]
  },
  {
   "cell_type": "code",
   "execution_count": 13,
   "id": "75d3556f-cd63-4c64-b8e9-5b2917a948d1",
   "metadata": {},
   "outputs": [
    {
     "name": "stdin",
     "output_type": "stream",
     "text": [
      "enter your string: 12\n"
     ]
    },
    {
     "name": "stdout",
     "output_type": "stream",
     "text": [
      "Not an alphabetic string\n"
     ]
    }
   ],
   "source": [
    "alp=input(\"enter your string:\")\n",
    "if an.isalpha():\n",
    "    print(\"Alphabetic string\")\n",
    "else:\n",
    "    print(\"Not an alphabetic string\")"
   ]
  },
  {
   "cell_type": "markdown",
   "id": "05497e6a-cd5c-42a0-aaaa-8cac219f5a04",
   "metadata": {},
   "source": [
    "# Question17"
   ]
  },
  {
   "cell_type": "code",
   "execution_count": 16,
   "id": "e48fd54b-f80e-4dfc-9995-a96bc882c9dc",
   "metadata": {},
   "outputs": [
    {
     "name": "stdin",
     "output_type": "stream",
     "text": [
      "enter your string: 1.33\n"
     ]
    },
    {
     "name": "stdout",
     "output_type": "stream",
     "text": [
      "Not a decimal string\n"
     ]
    }
   ],
   "source": [
    "dec=input(\"enter your string:\")\n",
    "if dec.isdecimal():\n",
    "    print(\"Decimal string\")\n",
    "else:\n",
    "    print(\"Not a decimal string\")"
   ]
  },
  {
   "cell_type": "markdown",
   "id": "af5d0098-6848-4ffa-982f-6aca61db3235",
   "metadata": {},
   "source": [
    "# Question18"
   ]
  },
  {
   "cell_type": "code",
   "execution_count": 18,
   "id": "cc89cbcc-be7e-4ef8-8f44-8aa30af7441f",
   "metadata": {},
   "outputs": [
    {
     "name": "stdin",
     "output_type": "stream",
     "text": [
      "enter your string: 123\n"
     ]
    },
    {
     "name": "stdout",
     "output_type": "stream",
     "text": [
      "Digit string\n"
     ]
    }
   ],
   "source": [
    "dig=input(\"enter your string:\")\n",
    "if dig.isdigit():\n",
    "    print(\"Digit string\")\n",
    "else :\n",
    "    print(\"Not a digit string\")"
   ]
  },
  {
   "cell_type": "markdown",
   "id": "458379b5-2413-40c7-9057-b859771eeade",
   "metadata": {},
   "source": [
    "# Question19"
   ]
  },
  {
   "cell_type": "code",
   "execution_count": 19,
   "id": "f02c2d53-67dd-483c-a4d4-f239cc039158",
   "metadata": {},
   "outputs": [
    {
     "name": "stdin",
     "output_type": "stream",
     "text": [
      "enter your string: 12.22\n"
     ]
    },
    {
     "name": "stdout",
     "output_type": "stream",
     "text": [
      "Not a numeric string\n"
     ]
    }
   ],
   "source": [
    "num=input(\"enter your string:\")\n",
    "if num.isnumeric():\n",
    "    print(\"Numeric string\")\n",
    "else:\n",
    "    print(\"Not a numeric string\")"
   ]
  },
  {
   "cell_type": "markdown",
   "id": "878fddf8-73fb-4b32-a9df-c64c9a92a982",
   "metadata": {},
   "source": [
    "# Question20"
   ]
  },
  {
   "cell_type": "code",
   "execution_count": 21,
   "id": "56d1e354-474f-4a89-aa67-af61a956c2d1",
   "metadata": {},
   "outputs": [
    {
     "name": "stdin",
     "output_type": "stream",
     "text": [
      "enter your string: asdrg\n"
     ]
    },
    {
     "name": "stdout",
     "output_type": "stream",
     "text": [
      "All lowercase\n"
     ]
    }
   ],
   "source": [
    "low=input(\"enter your string:\")\n",
    "if low.islower():\n",
    "    print(\"All lowercase\")\n",
    "else:\n",
    "    print(\"Not all lowercase\")"
   ]
  },
  {
   "cell_type": "markdown",
   "id": "8b1a44fc-73d4-47ab-b26d-b2c3abe0e7f2",
   "metadata": {},
   "source": [
    "# Question21"
   ]
  },
  {
   "cell_type": "code",
   "execution_count": 22,
   "id": "43cfb22f-eb0e-4148-ad4e-27b469d39a0e",
   "metadata": {},
   "outputs": [
    {
     "name": "stdin",
     "output_type": "stream",
     "text": [
      "enter your string: AFFDDRFdJH\n"
     ]
    },
    {
     "name": "stdout",
     "output_type": "stream",
     "text": [
      "Not all uppercase\n"
     ]
    }
   ],
   "source": [
    "up=input(\"enter your string:\")\n",
    "if up.islower():\n",
    "    print(\"All uppercase\")\n",
    "else:\n",
    "    print(\"Not all uppercase\")"
   ]
  },
  {
   "cell_type": "markdown",
   "id": "edd0a37b-bf35-4609-b06e-6b7b6dc63b62",
   "metadata": {},
   "source": [
    "# Question22"
   ]
  },
  {
   "cell_type": "code",
   "execution_count": 3,
   "id": "b4f678a7-d4a6-420e-a33a-75a5833d06df",
   "metadata": {},
   "outputs": [
    {
     "name": "stdin",
     "output_type": "stream",
     "text": [
      "enter your string: Rohit Sharma\n"
     ]
    },
    {
     "name": "stdout",
     "output_type": "stream",
     "text": [
      "Title case string\n"
     ]
    }
   ],
   "source": [
    "srt=input(\"enter your string:\")\n",
    "if srt.istitle():\n",
    "    print(\"Title case string\")\n",
    "else:\n",
    "    print(\"Not a title case string\")"
   ]
  },
  {
   "cell_type": "markdown",
   "id": "6aaf39c8-4666-40af-a4ea-8218e10f887f",
   "metadata": {},
   "source": [
    "# Question23"
   ]
  },
  {
   "cell_type": "code",
   "execution_count": 23,
   "id": "7c990a92-7a60-4679-a5c2-e976207667cf",
   "metadata": {},
   "outputs": [
    {
     "name": "stdin",
     "output_type": "stream",
     "text": [
      "enter your string: hi      \n"
     ]
    },
    {
     "name": "stdout",
     "output_type": "stream",
     "text": [
      "Not a whitespace string\n"
     ]
    }
   ],
   "source": [
    "string1=input(\"enter your string:\")\n",
    "if string1.isspace():\n",
    "    print(\"Whitespace string\")\n",
    "else:\n",
    "    print(\"Not a whitespace string\")"
   ]
  },
  {
   "cell_type": "markdown",
   "id": "485d09d1-a7b0-404e-9fca-c11b548437ae",
   "metadata": {},
   "source": [
    "# Question24"
   ]
  },
  {
   "cell_type": "code",
   "execution_count": 32,
   "id": "bebc9e3c-4383-4087-a3f2-1a15bdf19c10",
   "metadata": {},
   "outputs": [
    {
     "name": "stdin",
     "output_type": "stream",
     "text": [
      "enter your string: 65\n",
      "enter the desired width you want to pad: 6\n"
     ]
    },
    {
     "name": "stdout",
     "output_type": "stream",
     "text": [
      "000065\n"
     ]
    }
   ],
   "source": [
    "pd=input(\"enter your string:\")\n",
    "pad=int(input(\"enter the desired width you want to pad:\"))\n",
    "print(pd.zfill(pad))"
   ]
  },
  {
   "cell_type": "markdown",
   "id": "4995ef17-3de9-490b-9898-c04165f7d4b7",
   "metadata": {},
   "source": [
    "# Question25"
   ]
  },
  {
   "cell_type": "code",
   "execution_count": 36,
   "id": "149b3c24-6340-4883-b504-cd9361e22ee8",
   "metadata": {},
   "outputs": [
    {
     "name": "stdin",
     "output_type": "stream",
     "text": [
      "enter the string: rohit\n",
      "enter your desired width: 9\n"
     ]
    },
    {
     "name": "stdout",
     "output_type": "stream",
     "text": [
      "**rohit**\n"
     ]
    }
   ],
   "source": [
    "str11=input(\"enter the string:\")\n",
    "length=int(input(\"enter your desired width:\"))\n",
    "print(str11.center(length,\"*\"))\n"
   ]
  },
  {
   "cell_type": "markdown",
   "id": "06f1c307-a387-45cc-b67a-135226d26480",
   "metadata": {},
   "source": [
    "# Question26"
   ]
  },
  {
   "cell_type": "code",
   "execution_count": 40,
   "id": "c9a7c3c6-b184-47f0-9c71-e27c50878cb6",
   "metadata": {},
   "outputs": [
    {
     "name": "stdin",
     "output_type": "stream",
     "text": [
      "enter your first string: fddaWA\n",
      "enter your second string: ssaSD\n"
     ]
    },
    {
     "name": "stdout",
     "output_type": "stream",
     "text": [
      "No case-insensitive match\n"
     ]
    }
   ],
   "source": [
    "str12=input(\"enter your first string:\")\n",
    "str13=input(\"enter your second string:\")\n",
    "s1=str12.casefold()\n",
    "s2=str13.casefold()\n",
    "if s1==s2:\n",
    "    print(\"Case-insensitive match\")\n",
    "else:\n",
    "    print(\"No case-insensitive match\")"
   ]
  },
  {
   "cell_type": "code",
   "execution_count": null,
   "id": "0f3c7039-15d0-4fcf-b811-c4a1c997f044",
   "metadata": {},
   "outputs": [],
   "source": []
  }
 ],
 "metadata": {
  "kernelspec": {
   "display_name": "Python 3 (ipykernel)",
   "language": "python",
   "name": "python3"
  },
  "language_info": {
   "codemirror_mode": {
    "name": "ipython",
    "version": 3
   },
   "file_extension": ".py",
   "mimetype": "text/x-python",
   "name": "python",
   "nbconvert_exporter": "python",
   "pygments_lexer": "ipython3",
   "version": "3.11.11"
  }
 },
 "nbformat": 4,
 "nbformat_minor": 5
}
