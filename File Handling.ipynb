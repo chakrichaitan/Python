{
 "cells": [
  {
   "cell_type": "markdown",
   "id": "bc82e742-f551-4754-bb95-071ede474a27",
   "metadata": {},
   "source": [
    "# write()"
   ]
  },
  {
   "cell_type": "code",
   "execution_count": 2,
   "id": "112f04e1-f621-44d6-af7b-64aaa248a698",
   "metadata": {},
   "outputs": [],
   "source": [
    "f=open(\"india independence.txt\",mode='w')\n",
    "f.write(\"india got the independence on august 15.1947\")\n",
    "f.close()"
   ]
  },
  {
   "cell_type": "code",
   "execution_count": 3,
   "id": "a237f463-5635-4fc0-8fa6-8cb115c78413",
   "metadata": {},
   "outputs": [],
   "source": [
    "f=open(\"india independence.txt\",mode='w')\n",
    "f.write(\"india got the independence on august 15.1947.and on jan 26 1950 india have became democratic country\")\n",
    "f.close()"
   ]
  },
  {
   "cell_type": "code",
   "execution_count": 6,
   "id": "fa5294c4-7ae8-452a-b5bc-93351d7d7cfa",
   "metadata": {},
   "outputs": [],
   "source": [
    "text=\"india lift the world cup after 28 years the party starts in the dressing room and it's the indian captain who was in the final night\"\n",
    "f=open(\"world cup.txt\",'w')\n",
    "f.write(text)\n",
    "f.close()"
   ]
  },
  {
   "cell_type": "markdown",
   "id": "8a3dc391-c4cc-44f2-bffa-f42c891f37ad",
   "metadata": {},
   "source": [
    "# append()"
   ]
  },
  {
   "cell_type": "code",
   "execution_count": 7,
   "id": "8aa02841-6a53-49c4-b9f3-8ad918a87f11",
   "metadata": {},
   "outputs": [],
   "source": [
    "f=open(\"cricket.txt\",\"a\")\n",
    "f.write(\"cricket i s the second most watched game in the world\")\n",
    "f.close()\n"
   ]
  },
  {
   "cell_type": "code",
   "execution_count": 8,
   "id": "b4b24957-4d9d-4407-8525-e2ecd1b83d85",
   "metadata": {},
   "outputs": [],
   "source": [
    "f=open(\"cricket.txt\",\"a\")\n",
    "f.write(\"only football is above the cricket\")\n",
    "f.close()"
   ]
  },
  {
   "cell_type": "code",
   "execution_count": 9,
   "id": "6e119852-6faa-4a25-9d0b-c280af4367d7",
   "metadata": {},
   "outputs": [],
   "source": [
    "f=open(\"cricket.txt\",\"a\")\n",
    "f.write(\"cricket has become a part of indian culture since decades\")\n",
    "f.close()"
   ]
  },
  {
   "cell_type": "code",
   "execution_count": 10,
   "id": "5cbe7d98-f51a-481c-91fc-ba8de6a081d9",
   "metadata": {},
   "outputs": [],
   "source": [
    "f=open(\"cricket.txt\",\"a\")\n",
    "f.write(\"BCCI controls the cricket in in dia\")\n",
    "f.close()"
   ]
  },
  {
   "cell_type": "markdown",
   "id": "81eec8e8-71f8-475c-936d-72916d740f39",
   "metadata": {},
   "source": [
    "# read()"
   ]
  },
  {
   "cell_type": "code",
   "execution_count": 11,
   "id": "67b4bb53-90c1-421f-8754-9c34b9afe765",
   "metadata": {},
   "outputs": [
    {
     "name": "stdout",
     "output_type": "stream",
     "text": [
      "cricket i s the second most watched game in the worldonly football is above the cricketcricket has become a part of indian culture since decadesBCCI controls the cricket in in dia\n"
     ]
    }
   ],
   "source": [
    "f=open(\"cricket.txt\",\"r\")\n",
    "read=f.read()\n",
    "print(read)"
   ]
  },
  {
   "cell_type": "code",
   "execution_count": 12,
   "id": "0873f3d2-d30c-4df3-901e-bd4fccc34d9c",
   "metadata": {},
   "outputs": [
    {
     "name": "stdout",
     "output_type": "stream",
     "text": [
      "india lift the world cup after 28 years the party starts in the dressing room and it's the indian captain who was in the final night\n"
     ]
    }
   ],
   "source": [
    "f=open(\"world cup.txt\",\"r\")\n",
    "read=f.read()\n",
    "print(read)"
   ]
  },
  {
   "cell_type": "code",
   "execution_count": 14,
   "id": "0d7d3a41-231c-4d97-8039-98de2efaf870",
   "metadata": {},
   "outputs": [
    {
     "name": "stdout",
     "output_type": "stream",
     "text": [
      "india got the independence on august 15.1947.and on jan 26 1950 india have became democratic country\n"
     ]
    }
   ],
   "source": [
    "f=open(\"india independence.txt\",\"r\")\n",
    "independence=f.read()\n",
    "print(independence)"
   ]
  },
  {
   "cell_type": "markdown",
   "id": "a8e32df5-abc4-4699-825b-6b753a7b669a",
   "metadata": {},
   "source": [
    "# with statement"
   ]
  },
  {
   "cell_type": "code",
   "execution_count": 16,
   "id": "a678c25a-6986-4e40-805b-7722c0426f30",
   "metadata": {},
   "outputs": [],
   "source": [
    "f=open(\"python.txt\",\"w\")\n",
    "f.write(\"python is a programming language\")\n",
    "f.close()"
   ]
  },
  {
   "cell_type": "code",
   "execution_count": 20,
   "id": "c6aa92b2-8ae8-4e6f-84de-7c5b1faa38e4",
   "metadata": {},
   "outputs": [],
   "source": [
    "with open(\"python1.txt\",\"w\") as f:\n",
    "    f.write(\"python is a programming language\")\n"
   ]
  },
  {
   "cell_type": "code",
   "execution_count": 21,
   "id": "ba0dfc51-b8ce-4259-9a9b-398b48e1b1a5",
   "metadata": {},
   "outputs": [],
   "source": [
    "with open(\"cricket.txt\",\"a\") as f:\n",
    "    f.write(\"sachin is considered as 'God of cricket'in india\")\n",
    "    "
   ]
  },
  {
   "cell_type": "code",
   "execution_count": 2,
   "id": "1c0487fd-b9d1-49ed-a44d-619b49bcb30c",
   "metadata": {},
   "outputs": [
    {
     "name": "stdout",
     "output_type": "stream",
     "text": [
      "india got the independence on august 15.1947.and on jan 26 1950 india have became democratic country\n"
     ]
    }
   ],
   "source": [
    "with open(\"india independence.txt\",\"r\") as f:\n",
    "    read=f.read()\n",
    "    print(read)"
   ]
  },
  {
   "cell_type": "markdown",
   "id": "b60f36b2-74ca-430d-9005-c346622a516a",
   "metadata": {},
   "source": [
    "# write()"
   ]
  },
  {
   "cell_type": "code",
   "execution_count": 3,
   "id": "57e5c1de-4a82-4a6a-8243-06e3df811b78",
   "metadata": {},
   "outputs": [],
   "source": [
    "f=open(\"test.txt\",\"x\")\n",
    "f.write(\"python fullstack\")\n",
    "f.close()"
   ]
  },
  {
   "cell_type": "code",
   "execution_count": 4,
   "id": "ea4cc946-9783-4ccd-afbf-01b7476ba629",
   "metadata": {},
   "outputs": [
    {
     "ename": "FileExistsError",
     "evalue": "[Errno 17] File exists: 'test.txt'",
     "output_type": "error",
     "traceback": [
      "\u001b[1;31m---------------------------------------------------------------------------\u001b[0m",
      "\u001b[1;31mFileExistsError\u001b[0m                           Traceback (most recent call last)",
      "Cell \u001b[1;32mIn[4], line 1\u001b[0m\n\u001b[1;32m----> 1\u001b[0m f\u001b[38;5;241m=\u001b[39m\u001b[38;5;28mopen\u001b[39m(\u001b[38;5;124m\"\u001b[39m\u001b[38;5;124mtest.txt\u001b[39m\u001b[38;5;124m\"\u001b[39m,\u001b[38;5;124m\"\u001b[39m\u001b[38;5;124mx\u001b[39m\u001b[38;5;124m\"\u001b[39m)\n\u001b[0;32m      2\u001b[0m f\u001b[38;5;241m.\u001b[39mwrite(\u001b[38;5;124m\"\u001b[39m\u001b[38;5;124mjava fullstack\u001b[39m\u001b[38;5;124m\"\u001b[39m)\n\u001b[0;32m      3\u001b[0m f\u001b[38;5;241m.\u001b[39mclose()\n",
      "File \u001b[1;32m~\\anaconda3\\Lib\\site-packages\\IPython\\core\\interactiveshell.py:324\u001b[0m, in \u001b[0;36m_modified_open\u001b[1;34m(file, *args, **kwargs)\u001b[0m\n\u001b[0;32m    317\u001b[0m \u001b[38;5;28;01mif\u001b[39;00m file \u001b[38;5;129;01min\u001b[39;00m {\u001b[38;5;241m0\u001b[39m, \u001b[38;5;241m1\u001b[39m, \u001b[38;5;241m2\u001b[39m}:\n\u001b[0;32m    318\u001b[0m     \u001b[38;5;28;01mraise\u001b[39;00m \u001b[38;5;167;01mValueError\u001b[39;00m(\n\u001b[0;32m    319\u001b[0m         \u001b[38;5;124mf\u001b[39m\u001b[38;5;124m\"\u001b[39m\u001b[38;5;124mIPython won\u001b[39m\u001b[38;5;124m'\u001b[39m\u001b[38;5;124mt let you open fd=\u001b[39m\u001b[38;5;132;01m{\u001b[39;00mfile\u001b[38;5;132;01m}\u001b[39;00m\u001b[38;5;124m by default \u001b[39m\u001b[38;5;124m\"\u001b[39m\n\u001b[0;32m    320\u001b[0m         \u001b[38;5;124m\"\u001b[39m\u001b[38;5;124mas it is likely to crash IPython. If you know what you are doing, \u001b[39m\u001b[38;5;124m\"\u001b[39m\n\u001b[0;32m    321\u001b[0m         \u001b[38;5;124m\"\u001b[39m\u001b[38;5;124myou can use builtins\u001b[39m\u001b[38;5;124m'\u001b[39m\u001b[38;5;124m open.\u001b[39m\u001b[38;5;124m\"\u001b[39m\n\u001b[0;32m    322\u001b[0m     )\n\u001b[1;32m--> 324\u001b[0m \u001b[38;5;28;01mreturn\u001b[39;00m io_open(file, \u001b[38;5;241m*\u001b[39margs, \u001b[38;5;241m*\u001b[39m\u001b[38;5;241m*\u001b[39mkwargs)\n",
      "\u001b[1;31mFileExistsError\u001b[0m: [Errno 17] File exists: 'test.txt'"
     ]
    }
   ],
   "source": [
    "f=open(\"test.txt\",\"x\")\n",
    "f.write(\"java fullstack\")\n",
    "f.close()"
   ]
  },
  {
   "cell_type": "markdown",
   "id": "4eb5db53-dc62-4259-a524-33c0339ba2e5",
   "metadata": {},
   "source": [
    "# JSON Files"
   ]
  },
  {
   "cell_type": "code",
   "execution_count": 9,
   "id": "7bf0f559-35f7-494b-8dfb-0d7fd5de0478",
   "metadata": {},
   "outputs": [],
   "source": [
    "import json\n",
    "data=\"\"\"{'name':'chakri','age':23,'course':'btech'}\"\"\"\n",
    "with open(\"emp_data.json\",\"w\") as f:\n",
    "    json.dump(data,f)\n"
   ]
  },
  {
   "cell_type": "code",
   "execution_count": 12,
   "id": "4b6b3897-ffb5-4b74-9d32-7a9c8b1b8d3c",
   "metadata": {},
   "outputs": [],
   "source": [
    "import json\n",
    "employ_info={\"id001\":{'name':'chakri','age':32,'des':'dev'},\n",
    "             \"id002\":{'name':'rohit','age':34,'des':'dev'},\n",
    "             \"id003\":{'name':'ravi','age':26,'des':'tes'}}\n",
    "with open(\"emp_data.json\",\"w\") as f:\n",
    "    json.dump(employ_info,f)"
   ]
  },
  {
   "cell_type": "code",
   "execution_count": 13,
   "id": "25784776-c936-4f42-83b5-cd18a46023de",
   "metadata": {},
   "outputs": [
    {
     "name": "stdout",
     "output_type": "stream",
     "text": [
      "{'id001': {'name': 'chakri', 'age': 32, 'des': 'dev'}, 'id002': {'name': 'rohit', 'age': 34, 'des': 'dev'}, 'id003': {'name': 'ravi', 'age': 26, 'des': 'tes'}}\n"
     ]
    }
   ],
   "source": [
    "with open(\"emp_data.json\",\"r\") as f:\n",
    "    read=json.load(f)\n",
    "print(read)"
   ]
  },
  {
   "cell_type": "markdown",
   "id": "058a212e-18d0-497a-9d6e-33dba67138db",
   "metadata": {},
   "source": [
    "# ML Models"
   ]
  },
  {
   "cell_type": "code",
   "execution_count": 15,
   "id": "28639b08-34e8-4d54-8f36-6cacedd6bbc2",
   "metadata": {},
   "outputs": [],
   "source": [
    "import pickle\n",
    "with open(\"model.pickle\",\"wb\") as f:\n",
    "    pickle.dump(data,f)"
   ]
  },
  {
   "cell_type": "code",
   "execution_count": 16,
   "id": "ebd26191-3abe-44f3-9e91-dc9853e0a80a",
   "metadata": {},
   "outputs": [
    {
     "name": "stdout",
     "output_type": "stream",
     "text": [
      "{'name':'chakri','age':23,'course':'btech'}\n"
     ]
    }
   ],
   "source": [
    "import pickle\n",
    "with open(\"model.pickle\",\"rb\") as f:\n",
    "    data=pickle.load(f)\n",
    "print(data)"
   ]
  },
  {
   "cell_type": "code",
   "execution_count": null,
   "id": "324e59ed-bc55-4a8e-9831-d3ac0ba8913c",
   "metadata": {},
   "outputs": [],
   "source": []
  }
 ],
 "metadata": {
  "kernelspec": {
   "display_name": "Python 3 (ipykernel)",
   "language": "python",
   "name": "python3"
  },
  "language_info": {
   "codemirror_mode": {
    "name": "ipython",
    "version": 3
   },
   "file_extension": ".py",
   "mimetype": "text/x-python",
   "name": "python",
   "nbconvert_exporter": "python",
   "pygments_lexer": "ipython3",
   "version": "3.11.11"
  }
 },
 "nbformat": 4,
 "nbformat_minor": 5
}
