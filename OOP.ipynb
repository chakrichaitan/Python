{
 "cells": [
  {
   "cell_type": "markdown",
   "id": "17812e9b-d046-47d3-aebe-39d3009053e2",
   "metadata": {},
   "source": [
    "# object orirnted programming"
   ]
  },
  {
   "cell_type": "code",
   "execution_count": 3,
   "id": "00a8ea24-de96-4552-8ce2-94c8ef16fabe",
   "metadata": {},
   "outputs": [
    {
     "name": "stdout",
     "output_type": "stream",
     "text": [
      "['ram', 'ana', 'rana']\n"
     ]
    }
   ],
   "source": [
    "students=['ram','ana']\n",
    "class student:\n",
    "    def __init__(self,value):\n",
    "        self.value=value\n",
    "    def add(self):\n",
    "        students.append(self.value)\n",
    "        print(students)\n",
    "std=student('rana')\n",
    "std.add()"
   ]
  },
  {
   "cell_type": "code",
   "execution_count": 14,
   "id": "a5a9cbfd-926b-4b12-bdc1-84d264464c04",
   "metadata": {},
   "outputs": [
    {
     "name": "stdout",
     "output_type": "stream",
     "text": [
      "area of square: 9\n",
      "area of rectanglr: 20\n",
      "area of tringle: 5.0\n"
     ]
    }
   ],
   "source": [
    "class area:\n",
    "    def __init__(self,a,l,b,h):\n",
    "        self.a=a\n",
    "        self.l=l\n",
    "        self.b=b\n",
    "        self.h=h\n",
    "    def square(self):\n",
    "        print(\"area of square:\",self.a**2)\n",
    "    def rectangle(self):\n",
    "        print(\"area of rectanglr:\",self.l*self.b)\n",
    "    def triangle(self):\n",
    "        print(\"area of tringle:\",1/2*(self.b*self.h))\n",
    "ar=area(3,4,5,2)\n",
    "ar.square()\n",
    "ar.rectangle()\n",
    "ar.triangle()\n",
    "        "
   ]
  },
  {
   "cell_type": "code",
   "execution_count": null,
   "id": "24caee9c-dcbc-4360-bbc4-1080ced4adf4",
   "metadata": {},
   "outputs": [],
   "source": [
    "#vWrite a Python program to create a Vehicle class with max_speed and mileage instance attributes."
   ]
  },
  {
   "cell_type": "code",
   "execution_count": 4,
   "id": "5c7b16c6-de81-4f94-8a2d-8d792849e8bf",
   "metadata": {},
   "outputs": [
    {
     "name": "stdout",
     "output_type": "stream",
     "text": [
      "135 45\n"
     ]
    }
   ],
   "source": [
    "class vehicle:\n",
    "    def __init__(self,max_speed,mileage):\n",
    "        self.max_speed=max_speed\n",
    "        self.mileage=mileage\n",
    "veh=vehicle(135,45)\n",
    "print(veh.max_speed,veh.mileage)"
   ]
  },
  {
   "cell_type": "code",
   "execution_count": 5,
   "id": "77bcda12-267b-4fc2-92f0-728352879806",
   "metadata": {},
   "outputs": [],
   "source": [
    "#Create a Vehicle class without any variables and methods\n",
    "class vehicle:\n",
    "    pass"
   ]
  },
  {
   "cell_type": "code",
   "execution_count": 6,
   "id": "5d6361e6-551a-459e-88a7-d3d5a477809a",
   "metadata": {},
   "outputs": [
    {
     "name": "stdout",
     "output_type": "stream",
     "text": [
      "135 45\n"
     ]
    }
   ],
   "source": [
    "#Create a child class Bus that will inherit all of the variables and methods of the Vehicle class\n",
    "class vehicle:\n",
    "    def __init__(self,max_speed,mileage):\n",
    "        self.max_speed=max_speed\n",
    "        self.mileage=mileage\n",
    "class bus(vehicle):\n",
    "    pass\n",
    "bus1=bus(135,45)\n",
    "print(bus1.max_speed,bus1.mileage)"
   ]
  },
  {
   "cell_type": "markdown",
   "id": "ce69bf50-69d2-424d-8b55-cec5015616d5",
   "metadata": {},
   "source": [
    "# inheritance"
   ]
  },
  {
   "cell_type": "code",
   "execution_count": null,
   "id": "ecaaa26d-fa49-407c-a1d9-8bc3587783dd",
   "metadata": {},
   "outputs": [],
   "source": [
    "# single inheritance"
   ]
  },
  {
   "cell_type": "code",
   "execution_count": 8,
   "id": "de732775-6c06-43e8-b76f-5cd00f8fd497",
   "metadata": {},
   "outputs": [
    {
     "data": {
      "text/plain": [
       "15"
      ]
     },
     "execution_count": 8,
     "metadata": {},
     "output_type": "execute_result"
    }
   ],
   "source": [
    "class shape:\n",
    "    def rectangle(self,l,b):\n",
    "        return l*b\n",
    "class anothershape(shape):\n",
    "    def square(self,a):\n",
    "        return a**2\n",
    "sh=anothershape()\n",
    "sh.rectangle(3,5)"
   ]
  },
  {
   "cell_type": "code",
   "execution_count": null,
   "id": "9d60bd28-a958-45c6-98a7-ad17d4481f59",
   "metadata": {},
   "outputs": [],
   "source": [
    "#Create a Bus class that inherits from the Vehicle class. Give the capacity argument of Bus.seating_capacity() a default value of 50.\n"
   ]
  },
  {
   "cell_type": "code",
   "execution_count": 11,
   "id": "9c3b7631-e4db-429f-8df9-68beecd2a9b4",
   "metadata": {},
   "outputs": [
    {
     "name": "stdout",
     "output_type": "stream",
     "text": [
      "olva 135 45\n",
      "the seating capacity of olva is 50\n"
     ]
    }
   ],
   "source": [
    "class vehicle:\n",
    "    def __init__(self,name,max_speed,mileage):\n",
    "        self.name=name\n",
    "        self.max_speed=max_speed\n",
    "        self.mileage=mileage\n",
    "    def seating_capacity(self,capacity):\n",
    "        print(f\"the seating capacity of {self.name} is {capacity}\")\n",
    "class bus(vehicle):\n",
    "    def seating_capacity(capacity=50):\n",
    "        return super().seating_capacity(capacity=50)\n",
    "bus1=bus('olva',135,45)\n",
    "print(bus1.name,bus1.max_speed,bus1.mileage)\n",
    "bus1.seating_capacity()"
   ]
  },
  {
   "cell_type": "code",
   "execution_count": 22,
   "id": "108b0561-f0f1-4f11-bffe-d604cdd4ee05",
   "metadata": {},
   "outputs": [
    {
     "name": "stdout",
     "output_type": "stream",
     "text": [
      "studentid:12 name:chakri age: 23\n"
     ]
    }
   ],
   "source": [
    "#multiple\n",
    "class student:\n",
    "    def __init__(self,std_id,name,age):\n",
    "        self.std_id=std_id\n",
    "        self.name=name\n",
    "        self.age=age\n",
    "    def display_student(self):\n",
    "        print(f\"studentid:{self.std_id} name:{self.name} age: {self.age}\")\n",
    "class college:\n",
    "    def __init__(self,clgname,dep,course):\n",
    "        self.clgname=clgname\n",
    "        self.dep=dep\n",
    "        self.course=course\n",
    "    def display_college(self):\n",
    "        return f\"clgname:{self.clgname} dep:{self.dep} course:{self.course}\"\n",
    "class collegestudent(student,college):\n",
    "    def __init__(self,std_id,name,age,clgname,dep,course):\n",
    "        student.__init__(self,std_id,name,age)\n",
    "        college.__init__(self,clgname,dep,course)\n",
    "    def display_clgstudent(self):\n",
    "        self.display_student()\n",
    "        self.display_college()\n",
    "clg=collegestudent('12','chakri',23,'acem','ce','btech')\n",
    "clg.display_clgstudent()"
   ]
  },
  {
   "cell_type": "code",
   "execution_count": 8,
   "id": "19c19031-ce73-4013-9eb3-47e4584e631c",
   "metadata": {},
   "outputs": [
    {
     "name": "stdout",
     "output_type": "stream",
     "text": [
      "Name: Alice, Age: 20\n",
      "Student ID: S123, Course: Computer Science\n",
      "College: ABC University\n",
      "Student ID: S123, Course: Computer Science\n"
     ]
    }
   ],
   "source": [
    "# Multiple Inheritance Example in Python\n",
    "\n",
    "# Parent Class 1\n",
    "class Person:\n",
    "    def __init__(self, name, age):\n",
    "        self.name = name\n",
    "        self.age = age\n",
    "    \n",
    "    def display_person(self):\n",
    "        print(f\"Name: {self.name}, Age: {self.age}\")\n",
    "\n",
    "# Parent Class 2\n",
    "class Student:\n",
    "    def __init__(self, student_id, course):\n",
    "        self.student_id = student_id\n",
    "        self.course = course\n",
    "    \n",
    "    def display_student(self):\n",
    "        print(f\"Student ID: {self.student_id}, Course: {self.course}\")\n",
    "\n",
    "# Child class inheriting from both Person and Student\n",
    "class CollegeStudent(Person, Student):\n",
    "    def __init__(self, name, age, student_id, course, college):\n",
    "        # Initialize Person\n",
    "        Person.__init__(self, name, age)\n",
    "        # Initialize Student\n",
    "        Student.__init__(self, student_id, course)\n",
    "        # Own property\n",
    "        self.college = college\n",
    "    \n",
    "    def display_college_student(self):\n",
    "        self.display_person()\n",
    "        self.display_student()\n",
    "        print(f\"College: {self.college}\")\n",
    "\n",
    "\n",
    "# Testing the multiple inheritance\n",
    "cs1 = CollegeStudent(\"Alice\", 20, \"S123\", \"Computer Science\", \"ABC University\")\n",
    "cs1.display_college_student()\n",
    "cs1.display_student()\n"
   ]
  },
  {
   "cell_type": "code",
   "execution_count": 28,
   "id": "91076ab5-e1cc-4128-996d-68b3313e3ea1",
   "metadata": {},
   "outputs": [
    {
     "name": "stdout",
     "output_type": "stream",
     "text": [
      "brand: audi model: 2023\n",
      "max_speed: 135 mileage: 32\n",
      "price:120000\n"
     ]
    }
   ],
   "source": [
    "class vehicle:\n",
    "    def __init__(self,brand,model):\n",
    "        self.brand=brand\n",
    "        self.model=model\n",
    "    def display_vehicle(self):\n",
    "        print(f\"brand: {self.brand} model: {self.model}\")\n",
    "class car(vehicle):\n",
    "    def __init__(self,brand,model,max_speed,mileage):\n",
    "        super().__init__(brand,model)\n",
    "        self.max_speed=max_speed\n",
    "        self.mileage=mileage\n",
    "    def display_car(self):\n",
    "        self.display_vehicle()\n",
    "        print( f\"max_speed: {self.max_speed} mileage: {self.mileage}\")\n",
    "class electriccar(car):\n",
    "    def __init__(self,brand,model,max_speed,mileage,price):\n",
    "        super().__init__(brand,model,max_speed,mileage)\n",
    "        self.price=price\n",
    "    def display_electriccar(self):\n",
    "        self.display_car()\n",
    "        print( f\"price:{self.price}\")\n",
    "ec=electriccar('audi','2023',135,32,120000)\n",
    "ec.display_electriccar()"
   ]
  },
  {
   "cell_type": "markdown",
   "id": "bd054ab6-a994-46a6-80b3-07143f479f48",
   "metadata": {},
   "source": [
    "#Create a program using multilevel inheritance with these classes:\n",
    "\n",
    "Animal (base class)\n",
    "\n",
    "Properties: name\n",
    "\n",
    "Method: display_animal() → prints the name\n",
    "\n",
    "Mammal (child of Animal)\n",
    "\n",
    "Properties: name, blood_type\n",
    "\n",
    "Method: display_mammal() → prints name + blood type\n",
    "\n",
    "Dog (child of Mammal → grandchild of Animal)\n",
    "\n",
    "Properties: name, blood_type, breed\n",
    "\n",
    "Method: display_dog() → prints name + blood type + breed"
   ]
  },
  {
   "cell_type": "code",
   "execution_count": 36,
   "id": "61defdc8-0344-4a63-a255-722d70e18b54",
   "metadata": {},
   "outputs": [
    {
     "name": "stdout",
     "output_type": "stream",
     "text": [
      "name:jimmy blood_type: o+ breed:husky\n"
     ]
    }
   ],
   "source": [
    "class animal:\n",
    "    def __init__(self,name):\n",
    "        self.name=name\n",
    "    def display_animal(self):\n",
    "        return f\"name:{self.name}\"\n",
    "class mamma1(animal):\n",
    "    def __init__(self,name,blood_type):\n",
    "        super().__init__(name)\n",
    "        self.blood_type=blood_type\n",
    "    def display_mamma1(self):\n",
    "        content=self.display_animal()\n",
    "        return f\"{content} blood_type: {self.blood_type}\"\n",
    "class dog(mamma1):\n",
    "    def __init__(self,name,blood_type,breed):\n",
    "        super().__init__(name,blood_type)\n",
    "        self.breed=breed\n",
    "    def display_dog(self):\n",
    "        contents= self.display_mamma1()\n",
    "        return f\"{contents} breed:{self.breed}\"\n",
    "dg=dog('jimmy','o+','husky')\n",
    "print(dg.display_dog())\n",
    "#dg.display_mamma1()"
   ]
  },
  {
   "cell_type": "code",
   "execution_count": 55,
   "id": "94f952bc-3c48-491b-b7e9-af37331dafb1",
   "metadata": {},
   "outputs": [
    {
     "name": "stdout",
     "output_type": "stream",
     "text": [
      "brand:tata model:2002 fuel_type=diesel capacity:120l\n",
      "max_load: 2000kg\n"
     ]
    }
   ],
   "source": [
    "class vehicle:\n",
    "    def __init__(self,brand,model,fuel_type,capacity):\n",
    "        self.brand=brand\n",
    "        self.model=model\n",
    "        self.fuel_type=fuel_type\n",
    "        self.capacity=capacity\n",
    "    def vehicle_info(self):\n",
    "          print( f\"brand:{self.brand} model:{self.model} fuel_type={self.fuel_type} capacity:{self.capacity}\")\n",
    "class car(vehicle):\n",
    "    def __init__(self,brand,model,fuel_type,capacity,num_doors):\n",
    "        vehicle.__init__(self,brand,model,fuel_type,capacity)\n",
    "        self.num_doors=num_doors\n",
    "    def car_info(self):\n",
    "        print(self.vehicle_info())\n",
    "        print(f\"num_doors:{self.num_doors}\")\n",
    "class bike(vehicle):\n",
    "    def __init__(self,brand,model,fuel_type,capacity,bike_type):\n",
    "        vehicle.__init__(self,brand,model,fuel_type,capacity)\n",
    "        self.bike_type=bike_type\n",
    "    def bike_info(self):\n",
    "        print(self.vehicle_info())\n",
    "        print(f\"bike_type:{self.bike_type}\")\n",
    "class truck(vehicle):\n",
    "     def __init__(self,brand,model,fuel_type,capacity,max_load):\n",
    "        vehicle.__init__(self,brand,model,fuel_type,capacity)\n",
    "        self.max_load=max_load\n",
    "     def truck_info(self):\n",
    "        self.vehicle_info()\n",
    "        print(f\"max_load: {self.max_load}\")\n",
    "truck1=truck('tata','2002','diesel','120l','2000kg')\n",
    "truck1.truck_info()\n",
    "\n",
    "\n",
    "\n"
   ]
  },
  {
   "cell_type": "code",
   "execution_count": 3,
   "id": "8b14e677-23eb-4ed3-87e8-c7d3c78eb036",
   "metadata": {},
   "outputs": [
    {
     "name": "stdout",
     "output_type": "stream",
     "text": [
      "[4, 6, 7, 8]\n"
     ]
    }
   ],
   "source": [
    "std=[4,6,7]\n",
    "class stds:\n",
    "    def __init__(self,value):\n",
    "        self.value=value\n",
    "    def add(self,std):\n",
    "        std.append(self.value)\n",
    "student=stds(8)\n",
    "student.add(std)\n",
    "print(std)"
   ]
  },
  {
   "cell_type": "code",
   "execution_count": 8,
   "id": "17d26802-8824-4cb2-b2f3-df6952b6d5e6",
   "metadata": {},
   "outputs": [
    {
     "name": "stdout",
     "output_type": "stream",
     "text": [
      "name:chakri age:23\n",
      "name:chakri age:23\n",
      "student id:218p1a0514 department:cse\n",
      "exam score: 87\n",
      "sports score:95\n",
      "avg scores:182/2\n"
     ]
    }
   ],
   "source": [
    "#hybrid\n",
    "class person:\n",
    "    def __init__(self,name,age):\n",
    "        self.age=age\n",
    "        self.name=name\n",
    "\n",
    "    def person_info(self):\n",
    "        print(f\"name:{self.name} age:{self.age}\")\n",
    "class student(person):\n",
    "    def __init__(self,name,age,std_id,dep):\n",
    "        person.__init__(self,name,age)\n",
    "        self.std_id=std_id\n",
    "        self.dep=dep\n",
    "    def student_info(self):\n",
    "        self.person_info()\n",
    "        print(f\"student id:{self.std_id} department:{self.dep}\")\n",
    "class exam:\n",
    "    def __init__(self,score):\n",
    "        self.score=score\n",
    "    def exam_info(self):\n",
    "        print(f\"exam score: {self.score}\")\n",
    "class sports:\n",
    "    def __init__(self,scores):\n",
    "        self.scores=scores\n",
    "    def sports_info(self):\n",
    "        print(f\"sports score:{self.scores}\")\n",
    "class result(student,exam,sports):\n",
    "    def __init__(self,name,age,std_id,dep,score,scores):\n",
    "        person.__init__(self,name,age)\n",
    "        student.__init__(self,name,age,std_id,dep)\n",
    "        exam.__init__(self,score)\n",
    "        sports.__init__(self,scores)\n",
    "    def display_result(self):\n",
    "        self.person_info()\n",
    "        self.student_info()\n",
    "        self.exam_info()\n",
    "        self.sports_info()\n",
    "        print(f\"avg scores:{self.score + self.scores}/2\")\n",
    "res=result('chakri',23,'218p1a0514','cse',87,95)\n",
    "res.display_result()"
   ]
  },
  {
   "cell_type": "markdown",
   "id": "8186f338-5c54-49be-9cb0-a6865363d00c",
   "metadata": {},
   "source": [
    "# encapsulation"
   ]
  },
  {
   "cell_type": "code",
   "execution_count": 20,
   "id": "ae6edfe2-b6dc-4045-ab96-af5fc6fd43c5",
   "metadata": {},
   "outputs": [
    {
     "name": "stdout",
     "output_type": "stream",
     "text": [
      "deposited:200 ,newbalance:5200\n",
      "withdraw:5000,currentbalance:200\n"
     ]
    },
    {
     "data": {
      "text/plain": [
       "200"
      ]
     },
     "execution_count": 20,
     "metadata": {},
     "output_type": "execute_result"
    }
   ],
   "source": [
    "class bankaccount:\n",
    "    def __init__(self,name,bankaccountno,balance):\n",
    "        self.name=name\n",
    "        self.__bankaccountno=bankaccountno\n",
    "        self.__balance=balance\n",
    "    def deposit(self,amount):\n",
    "        if amount>0:\n",
    "            self.__balance+=amount\n",
    "            print(f\"deposited:{amount} ,newbalance:{self.__balance}\")\n",
    "        else:\n",
    "            print(\"deposit must be positive\")\n",
    "    def withdraw(self,amount):\n",
    "        if 0<amount<=self.__balance:\n",
    "            self.__balance-=amount\n",
    "            print(f\"withdraw:{amount},currentbalance:{self.__balance}\")\n",
    "    def get_balance(self):\n",
    "        return self.__balance\n",
    "ba=bankaccount('chakri',234567,5000)\n",
    "ba.deposit(200)\n",
    "ba.withdraw(5000)\n",
    "ba.get_balance()\n",
    "            "
   ]
  },
  {
   "cell_type": "markdown",
   "id": "f96c02ab-f1c4-45f0-b8c4-ee4be290e9b5",
   "metadata": {},
   "source": [
    "# polymorphism"
   ]
  },
  {
   "cell_type": "code",
   "execution_count": 6,
   "id": "61214710-6bf5-40be-a2fb-98cdb96cbc2e",
   "metadata": {},
   "outputs": [
    {
     "name": "stdout",
     "output_type": "stream",
     "text": [
      "paid 1000 using creditcard\n",
      "paid 1000 using UPI\n"
     ]
    }
   ],
   "source": [
    "class payment:\n",
    "    def pay(self,amount):\n",
    "        self.amount=amount\n",
    "        pass\n",
    "class creditcardpayment(payment):\n",
    "    def __init__(self,amount):\n",
    "        self.amount=amount\n",
    "    def pay(self):\n",
    "        print(f\"paid {self.amount} using creditcard\")\n",
    "class upipayment(payment):\n",
    "    def __init__(self,amount):\n",
    "        self.amount=amount\n",
    "    def pay(self):\n",
    "        print(f\"paid {self.amount} using UPI\")\n",
    "class paypalpayment(payment):\n",
    "    def __init__(self,amount):\n",
    "        self.amount=amount\n",
    "    def pay(self):\n",
    "        print(f\"paid{self.amount} using paypal\")\n",
    "ccp=creditcardpayment(1000)\n",
    "upi=upipayment(1000)\n",
    "pp=paypalpayment(1000)\n",
    "ccp.pay()\n",
    "upi.pay()"
   ]
  },
  {
   "cell_type": "code",
   "execution_count": 9,
   "id": "5031675d-ebdf-4b3e-9156-d9505deabbdf",
   "metadata": {},
   "outputs": [
    {
     "name": "stdout",
     "output_type": "stream",
     "text": [
      "sending email: you are selected\n"
     ]
    }
   ],
   "source": [
    "class notification:\n",
    "    def send(self,message):\n",
    "        self.message=message\n",
    "        pass\n",
    "class emailnotification(notification):\n",
    "    def __init__(self,message):\n",
    "        self.message=message\n",
    "    def send(self):\n",
    "        print(f\"sending email: {self.message}\")\n",
    "class SMSnotification(notification):\n",
    "    def __init__(self,message):\n",
    "        self.message=message\n",
    "    def send(self):\n",
    "        print(f\"sending SMS: {self.message}\")\n",
    "class whatsappnotification(notification):\n",
    "    def __init__(self,message):\n",
    "        self.message=message\n",
    "    def send(self):\n",
    "        print(f\"sending whatsapp: {self.message}\")\n",
    "emes=emailnotification(\"you are selected\")\n",
    "SMS=SMSnotification(\"you are selected\")\n",
    "what=whatsappnotification(\"you are selected\")\n",
    "emes.send()"
   ]
  },
  {
   "cell_type": "markdown",
   "id": "251d7f46-b085-4c2e-b8f7-c7ed6802b6d9",
   "metadata": {},
   "source": [
    "# Abstraction\n",
    "\n"
   ]
  },
  {
   "cell_type": "code",
   "execution_count": 15,
   "id": "a8ae76db-d718-4351-84c4-d5f3f34e6978",
   "metadata": {},
   "outputs": [
    {
     "ename": "NameError",
     "evalue": "name 'name' is not defined",
     "output_type": "error",
     "traceback": [
      "\u001b[31m---------------------------------------------------------------------------\u001b[39m",
      "\u001b[31mNameError\u001b[39m                                 Traceback (most recent call last)",
      "\u001b[36mCell\u001b[39m\u001b[36m \u001b[39m\u001b[32mIn[15]\u001b[39m\u001b[32m, line 25\u001b[39m\n\u001b[32m     23\u001b[39m         \u001b[38;5;28mself\u001b[39m.display()\n\u001b[32m     24\u001b[39m         \u001b[38;5;28mprint\u001b[39m (\u001b[33mf\u001b[39m\u001b[33m\"\u001b[39m\u001b[33msalary:\u001b[39m\u001b[38;5;132;01m{\u001b[39;00m\u001b[38;5;28mself\u001b[39m.hourly_rate\u001b[38;5;250m \u001b[39m*\u001b[38;5;250m \u001b[39m\u001b[38;5;28mself\u001b[39m.hours_worked\u001b[38;5;132;01m}\u001b[39;00m\u001b[33m\"\u001b[39m)\n\u001b[32m---> \u001b[39m\u001b[32m25\u001b[39m emp=\u001b[43mptemployee\u001b[49m\u001b[43m(\u001b[49m\u001b[33;43m'\u001b[39;49m\u001b[33;43mchakri\u001b[39;49m\u001b[33;43m'\u001b[39;49m\u001b[43m,\u001b[49m\u001b[32;43m45\u001b[39;49m\u001b[43m,\u001b[49m\u001b[32;43m4\u001b[39;49m\u001b[43m,\u001b[49m\u001b[32;43m450\u001b[39;49m\u001b[43m)\u001b[49m\n\u001b[32m     26\u001b[39m emp.calculate_salary()\n",
      "\u001b[36mCell\u001b[39m\u001b[36m \u001b[39m\u001b[32mIn[15]\u001b[39m\u001b[32m, line 19\u001b[39m, in \u001b[36mptemployee.__init__\u001b[39m\u001b[34m(self, anme, id, hourly_rate, hours_worked)\u001b[39m\n\u001b[32m     18\u001b[39m \u001b[38;5;28;01mdef\u001b[39;00m\u001b[38;5;250m \u001b[39m\u001b[34m__init__\u001b[39m(\u001b[38;5;28mself\u001b[39m,anme,\u001b[38;5;28mid\u001b[39m,hourly_rate,hours_worked):\n\u001b[32m---> \u001b[39m\u001b[32m19\u001b[39m     \u001b[38;5;28msuper\u001b[39m().\u001b[34m__init__\u001b[39m(\u001b[43mname\u001b[49m,\u001b[38;5;28mid\u001b[39m)\n\u001b[32m     20\u001b[39m     \u001b[38;5;28mself\u001b[39m.hourly_rate=hourly_rate\n\u001b[32m     21\u001b[39m     \u001b[38;5;28mself\u001b[39m.hours_worked=hours_worked\n",
      "\u001b[31mNameError\u001b[39m: name 'name' is not defined"
     ]
    }
   ],
   "source": [
    "from abc import abstractmethod,ABC\n",
    "class employee(ABC):\n",
    "    def __init__(self,name,id):\n",
    "        self.name=name\n",
    "        self.id=id\n",
    "    def display(self):\n",
    "        return f\"name:{self.name},id:{self.id}\"\n",
    "    @abstractmethod\n",
    "    def calculate_salary(self):\n",
    "        pass\n",
    "class ftemployee(employee):\n",
    "    def __init__(self,name,id,monthly_salary):\n",
    "        super(),__init__(name,id)\n",
    "        self.monthly_salary=monthly_salary\n",
    "    def calculate_salary(self):\n",
    "        return f\"monthly_slary:{self.monthly_salary}\"\n",
    "class ptemployee(employee):\n",
    "    def __init__(self,anme,id,hourly_rate,hours_worked):\n",
    "        super().__init__(name,id)\n",
    "        self.hourly_rate=hourly_rate\n",
    "        self.hours_worked=hours_worked\n",
    "    def calculate_salary(self):\n",
    "        self.display()\n",
    "        print (f\"salary:{self.hourly_rate * self.hours_worked}\")\n",
    "emp=ptemployee('chakri',45,4,450)\n",
    "emp.calculate_salary()"
   ]
  },
  {
   "cell_type": "code",
   "execution_count": null,
   "id": "2de83aa8-c592-4163-8330-fc66547a6f84",
   "metadata": {},
   "outputs": [],
   "source": []
  }
 ],
 "metadata": {
  "kernelspec": {
   "display_name": "Python 3 (ipykernel)",
   "language": "python",
   "name": "python3"
  },
  "language_info": {
   "codemirror_mode": {
    "name": "ipython",
    "version": 3
   },
   "file_extension": ".py",
   "mimetype": "text/x-python",
   "name": "python",
   "nbconvert_exporter": "python",
   "pygments_lexer": "ipython3",
   "version": "3.11.11"
  }
 },
 "nbformat": 4,
 "nbformat_minor": 5
}
