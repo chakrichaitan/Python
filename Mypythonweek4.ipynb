{
 "cells": [
  {
   "cell_type": "markdown",
   "id": "cfa87e9a-8f1c-4da9-8763-50ff7d75cd94",
   "metadata": {},
   "source": [
    "# Dictionary"
   ]
  },
  {
   "cell_type": "code",
   "execution_count": 6,
   "id": "1b494ea6-3937-4563-8141-f3a21e1257bc",
   "metadata": {},
   "outputs": [
    {
     "name": "stdout",
     "output_type": "stream",
     "text": [
      "<class 'dict'>\n",
      "{'name': 'chakri', 'age': 23, 'height': 5.8}\n"
     ]
    }
   ],
   "source": [
    "dict1={'name':'chakri','age':23,'height':5.8}\n",
    "print(type(dict1))\n",
    "print(dict1)\n"
   ]
  },
  {
   "cell_type": "markdown",
   "id": "4fdbb882-8be1-481b-8afc-84c82828bea4",
   "metadata": {},
   "source": [
    "# access values from dictionary"
   ]
  },
  {
   "cell_type": "code",
   "execution_count": 12,
   "id": "6eb90f6f-dad9-4304-a0dd-13b72b199469",
   "metadata": {},
   "outputs": [
    {
     "name": "stdout",
     "output_type": "stream",
     "text": [
      "aple\n",
      "45\n"
     ]
    }
   ],
   "source": [
    "fruits={\"name\":\"aple\",\"cost\":45,\"type\":\"fruit\"}\n",
    "print(fruits[\"name\"])\n",
    "print(fruits[\"cost\"])"
   ]
  },
  {
   "cell_type": "code",
   "execution_count": 13,
   "id": "604e13ca-2299-4741-8a6f-383e64f3df78",
   "metadata": {},
   "outputs": [
    {
     "ename": "KeyError",
     "evalue": "0",
     "output_type": "error",
     "traceback": [
      "\u001b[1;31m---------------------------------------------------------------------------\u001b[0m",
      "\u001b[1;31mKeyError\u001b[0m                                  Traceback (most recent call last)",
      "Cell \u001b[1;32mIn[13], line 1\u001b[0m\n\u001b[1;32m----> 1\u001b[0m \u001b[38;5;28mprint\u001b[39m(fruits[\u001b[38;5;241m0\u001b[39m])\n",
      "\u001b[1;31mKeyError\u001b[0m: 0"
     ]
    }
   ],
   "source": [
    "print(fruits[0])"
   ]
  },
  {
   "cell_type": "markdown",
   "id": "1bf32296-7494-4dca-a7ee-d6cd98a112b2",
   "metadata": {},
   "source": [
    "# fuctions of dictionary"
   ]
  },
  {
   "cell_type": "code",
   "execution_count": 4,
   "id": "5fe31408-e417-411e-a986-99b42c794097",
   "metadata": {},
   "outputs": [
    {
     "name": "stdout",
     "output_type": "stream",
     "text": [
      "rohit\n",
      "39\n"
     ]
    }
   ],
   "source": [
    "#.get()\n",
    "players={\"name\":\"rohit\",\"age\":39,\"nation\":\"india\"}\n",
    "print(players.get(\"name\"))\n",
    "print(players.get(\"age\"))"
   ]
  },
  {
   "cell_type": "code",
   "execution_count": 9,
   "id": "6c7e05c0-5f57-4ce4-9b1b-51e32a04a6d7",
   "metadata": {},
   "outputs": [
    {
     "name": "stdout",
     "output_type": "stream",
     "text": [
      "['name', 'id', 'salary']\n"
     ]
    }
   ],
   "source": [
    "#.keys()\n",
    "employee={\"name\":\"ram\",\"id\":1234,\"salary\":12343}\n",
    "keys=employee.keys()\n",
    "print(list(keys))"
   ]
  },
  {
   "cell_type": "code",
   "execution_count": 10,
   "id": "690717fe-3e2c-4477-a15c-0b8a8d72e110",
   "metadata": {},
   "outputs": [
    {
     "name": "stdout",
     "output_type": "stream",
     "text": [
      "dict_values(['kir', 123, 'devoloper'])\n",
      "['kir', 123, 'devoloper']\n"
     ]
    }
   ],
   "source": [
    "#values()\n",
    "tech={\"name\":\"kir\",\"id\":123,\"designation\":\"devoloper\"}\n",
    "values=tech.values()\n",
    "print(values)\n",
    "print(list(values))"
   ]
  },
  {
   "cell_type": "code",
   "execution_count": 12,
   "id": "7610e2f1-a720-40c6-9289-2f0362055067",
   "metadata": {},
   "outputs": [
    {
     "name": "stdout",
     "output_type": "stream",
     "text": [
      "dict_items([('name', 'tui'), ('room', 34), ('floor', 4)])\n",
      "[('name', 'tui'), ('room', 34), ('floor', 4)]\n"
     ]
    }
   ],
   "source": [
    "hostel={\"name\":\"tui\",\"room\":34,\"floor\":4}\n",
    "print(hostel.items())\n",
    "print(list(hostel.items()))"
   ]
  },
  {
   "cell_type": "code",
   "execution_count": 15,
   "id": "de432629-17d2-44c0-a59f-7693f0d553c4",
   "metadata": {},
   "outputs": [
    {
     "data": {
      "text/plain": [
       "{3: 4, 6: 8, 9: 6}"
      ]
     },
     "execution_count": 15,
     "metadata": {},
     "output_type": "execute_result"
    }
   ],
   "source": [
    "#update\n",
    "d1={}\n",
    "d2={3:4,6:8,9:6}\n",
    "d1.update(d2)\n",
    "d1"
   ]
  },
  {
   "cell_type": "code",
   "execution_count": 19,
   "id": "a9ddcb31-3d64-45d7-90dd-0a2bd60c5534",
   "metadata": {},
   "outputs": [
    {
     "name": "stdout",
     "output_type": "stream",
     "text": [
      "{'a': 32, 'b': 33, 'c': 21}\n",
      "{'d': 31, 'e': 43, 'a': 32, 'b': 33, 'c': 21}\n"
     ]
    }
   ],
   "source": [
    "d1={\"a\":32,\"b\":33,\"c\":21}\n",
    "d2={\"d\":31,\"e\":43}\n",
    "d2.update(d1)\n",
    "print(d1)\n",
    "print(d2)"
   ]
  },
  {
   "cell_type": "code",
   "execution_count": 27,
   "id": "c8c21ac6-f9c2-4b98-b282-2e192a92e784",
   "metadata": {},
   "outputs": [
    {
     "data": {
      "text/plain": [
       "{'name': 'rohit', 'age': 43, 'team': 'mi', 'cups': 5, 'spouse': 'ritika'}"
      ]
     },
     "execution_count": 27,
     "metadata": {},
     "output_type": "execute_result"
    }
   ],
   "source": [
    "player={\"name\":\"rohit\",\"age\":43,\"team\":\"mi\"}\n",
    "player.update({'cups':5})\n",
    "player.update({\"spouse\":\"ritika\"})\n",
    "player"
   ]
  },
  {
   "cell_type": "code",
   "execution_count": 34,
   "id": "0e1685b4-903d-4689-9c71-f5e6f6c6df01",
   "metadata": {},
   "outputs": [
    {
     "data": {
      "text/plain": [
       "{'school': 'chak', 'name': 'chak', 'class': 'chak'}"
      ]
     },
     "execution_count": 34,
     "metadata": {},
     "output_type": "execute_result"
    }
   ],
   "source": [
    "#fromkeys()\n",
    "data_keys={\"name\",\"class\",\"school\"}\n",
    "dict.fromkeys(data_keys,\"chak\")\n"
   ]
  },
  {
   "cell_type": "code",
   "execution_count": 35,
   "id": "fcb4b8d2-63a4-43f5-b2e5-e540d46d78f7",
   "metadata": {},
   "outputs": [
    {
     "data": {
      "text/plain": [
       "{'school': 'high', 'name': 4, 'class': 'chakri'}"
      ]
     },
     "execution_count": 35,
     "metadata": {},
     "output_type": "execute_result"
    }
   ],
   "source": [
    "#zip()\n",
    "keys={\"name\",\"class\",\"school\"}\n",
    "values={\"chakri\",4,\"high\"}\n",
    "dict(zip(keys,values))"
   ]
  },
  {
   "cell_type": "code",
   "execution_count": 36,
   "id": "3a5a27a7-b9b1-4efd-b7a8-a24f0547716a",
   "metadata": {},
   "outputs": [
    {
     "data": {
      "text/plain": [
       "{'name': 'name', 'class': 'sub'}"
      ]
     },
     "execution_count": 36,
     "metadata": {},
     "output_type": "execute_result"
    }
   ],
   "source": [
    "std={\"name\":3,\"class\":3,\"school\":3}\n",
    "tea={\"name\":5,\"sub\":5}\n",
    "dict(zip(std,tea))"
   ]
  },
  {
   "cell_type": "markdown",
   "id": "a2305eb4-628e-4f9f-a79c-c21a4583668a",
   "metadata": {},
   "source": [
    "# Nested Dictionary"
   ]
  },
  {
   "cell_type": "code",
   "execution_count": 12,
   "id": "a7533b56-e821-4d8a-874d-7a204261e4f6",
   "metadata": {},
   "outputs": [
    {
     "name": "stdout",
     "output_type": "stream",
     "text": [
      "{'marathahalli': {'name': 'anil', 'age': 21, 'salary': 25000, 'des': 'devoloper'}, 'btm layout': {'name': 'chakri', 'age': 22, 'salary': 29000, 'des': 'devoloper'}, 'krpuram': {'name': 'rohit', 'age': 32, 'salary': 24000, 'des': 'tester'}}\n"
     ]
    },
    {
     "data": {
      "text/plain": [
       "'chakri'"
      ]
     },
     "execution_count": 12,
     "metadata": {},
     "output_type": "execute_result"
    }
   ],
   "source": [
    "employee_details={\"marathahalli\":{\"name\":\"anil\",\"age\":21,\"salary\":25000, \"des\":\"devoloper\"},\n",
    "                  \"btm layout\":{\"name\":\"chakri\",\"age\":22,\"salary\":29000,\"des\":\"devoloper\"},\n",
    "                  \"krpuram\":{\"name\":\"rohit\",\"age\":32,\"salary\":24000,\"des\":\"tester\"}}\n",
    "print(employee_details)\n",
    "employee_details[\"btm layout\"][\"name\"]"
   ]
  },
  {
   "cell_type": "code",
   "execution_count": 13,
   "id": "d3fb0a93-3047-4521-ab96-49e558f8b979",
   "metadata": {},
   "outputs": [
    {
     "data": {
      "text/plain": [
       "{'age': 21, 'salary': 25000, 'des': 'devoloper'}"
      ]
     },
     "execution_count": 13,
     "metadata": {},
     "output_type": "execute_result"
    }
   ],
   "source": [
    "#pop()\n",
    "employee_details={\"name\":\"anil\",\"age\":21,\"salary\":25000, \"des\":\"devoloper\"}\n",
    "employee_details.pop(\"name\")\n",
    "employee_details"
   ]
  },
  {
   "cell_type": "code",
   "execution_count": 14,
   "id": "581326c4-73a8-46b6-8900-e1b8b436b7ff",
   "metadata": {},
   "outputs": [
    {
     "data": {
      "text/plain": [
       "{'name': 'anil', 'age': 21, 'salary': 25000}"
      ]
     },
     "execution_count": 14,
     "metadata": {},
     "output_type": "execute_result"
    }
   ],
   "source": [
    "#popitem()\n",
    "employee_details={\"name\":\"anil\",\"age\":21,\"salary\":25000, \"des\":\"devoloper\"}\n",
    "employee_details.popitem()\n",
    "employee_details\n"
   ]
  },
  {
   "cell_type": "code",
   "execution_count": 15,
   "id": "e2f90b1b-95db-4148-af6e-0356d6e7ffc6",
   "metadata": {},
   "outputs": [
    {
     "data": {
      "text/plain": [
       "{}"
      ]
     },
     "execution_count": 15,
     "metadata": {},
     "output_type": "execute_result"
    }
   ],
   "source": [
    "employee_details={\"name\":\"anil\",\"age\":21,\"salary\":25000, \"des\":\"devoloper\"}\n",
    "employee_details.clear()\n",
    "employee_details"
   ]
  },
  {
   "cell_type": "code",
   "execution_count": null,
   "id": "284611a6-f4ef-4e28-b0c5-12a298f88286",
   "metadata": {},
   "outputs": [],
   "source": []
  }
 ],
 "metadata": {
  "kernelspec": {
   "display_name": "Python 3 (ipykernel)",
   "language": "python",
   "name": "python3"
  },
  "language_info": {
   "codemirror_mode": {
    "name": "ipython",
    "version": 3
   },
   "file_extension": ".py",
   "mimetype": "text/x-python",
   "name": "python",
   "nbconvert_exporter": "python",
   "pygments_lexer": "ipython3",
   "version": "3.13.5"
  }
 },
 "nbformat": 4,
 "nbformat_minor": 5
}
