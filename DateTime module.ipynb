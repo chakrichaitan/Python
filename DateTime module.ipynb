{
 "cells": [
  {
   "cell_type": "markdown",
   "id": "a91310ee-d211-4328-968d-6b1d614103ad",
   "metadata": {},
   "source": [
    "# DateTime"
   ]
  },
  {
   "cell_type": "code",
   "execution_count": 2,
   "id": "d8424f48-0cf3-406d-9d07-ef7ba1d2e1ed",
   "metadata": {},
   "outputs": [
    {
     "name": "stdout",
     "output_type": "stream",
     "text": [
      "the total time taken to process: 4.143375635147095\n"
     ]
    }
   ],
   "source": [
    "import time\n",
    "import datetime\n",
    "start_time=time.time()\n",
    "for i in range(30000000):\n",
    "    pass\n",
    "end_time=time.time()\n",
    "total_time=end_time-start_time\n",
    "print(\"the total time taken to process:\",total_time)"
   ]
  },
  {
   "cell_type": "markdown",
   "id": "7ce51e81-db0a-4070-980c-979136b366e8",
   "metadata": {},
   "source": [
    "# time.perf_counter()"
   ]
  },
  {
   "cell_type": "code",
   "execution_count": 6,
   "id": "62f76762-51e7-4e56-be41-53052540041c",
   "metadata": {},
   "outputs": [
    {
     "name": "stdout",
     "output_type": "stream",
     "text": [
      "prime number\n",
      "0.0006442070007324219\n"
     ]
    }
   ],
   "source": [
    "import time\n",
    "import datetime\n",
    "start_time=time.time()\n",
    "def prime_num(num):\n",
    "    if num<=1:\n",
    "        print(\"number should be greater than 2\")\n",
    "    for i in range(2,num+1):\n",
    "        if num%i==0:\n",
    "            print(\"prime number\")\n",
    "        else:\n",
    "            (\"not prime\")\n",
    "\n",
    "prime_num(11)\n",
    "end_time=time.time()\n",
    "total_time=(end_time-start_time)\n",
    "print(total_time)"
   ]
  },
  {
   "cell_type": "code",
   "execution_count": 12,
   "id": "032073e1-8330-4050-ad67-6c4bcb83482d",
   "metadata": {},
   "outputs": [
    {
     "name": "stdout",
     "output_type": "stream",
     "text": [
      "234543\n",
      "0.00041579996468499303\n"
     ]
    }
   ],
   "source": [
    "import time\n",
    "import datetime\n",
    "start_time=time.perf_counter()\n",
    "def reverse(num):\n",
    "    rev=0\n",
    "    while num>0:\n",
    "        remainder=num%10\n",
    "        rev=(rev*10)+remainder\n",
    "        num=num//10\n",
    "    print(rev)\n",
    "reverse(345432)\n",
    "end_time=time.perf_counter()\n",
    "total=end_time-start_time\n",
    "print(total)"
   ]
  },
  {
   "cell_type": "code",
   "execution_count": null,
   "id": "4f07a4ac-80b1-4c38-85a9-6a2f3dfcb931",
   "metadata": {},
   "outputs": [],
   "source": [
    "import time\n",
    "import datetime"
   ]
  },
  {
   "cell_type": "code",
   "execution_count": 3,
   "id": "ab56740e-5626-447a-9cca-b93f596291b1",
   "metadata": {},
   "outputs": [
    {
     "name": "stdout",
     "output_type": "stream",
     "text": [
      "hello\n",
      "dinesh\n"
     ]
    }
   ],
   "source": [
    "print(\"hello\")\n",
    "time.sleep(2)\n",
    "print(\"dinesh\")\n",
    "time.sleep(2)"
   ]
  },
  {
   "cell_type": "code",
   "execution_count": 8,
   "id": "15823bb2-9845-4766-832a-ddcf5666b07a",
   "metadata": {},
   "outputs": [
    {
     "name": "stdout",
     "output_type": "stream",
     "text": [
      "the factorial of 5 is\n",
      "120\n"
     ]
    }
   ],
   "source": [
    "def factorial(num):\n",
    "    print(\"the factorial of\",num,\"is\")\n",
    "    time.sleep(3)\n",
    "    fact=1\n",
    "    for i in range(1,num+1):\n",
    "        fact=fact*i\n",
    "    print(fact)\n",
    "factorial(5)"
   ]
  },
  {
   "cell_type": "code",
   "execution_count": 10,
   "id": "cf1f7796-561f-4de0-8994-4605855eeee4",
   "metadata": {},
   "outputs": [
    {
     "name": "stdout",
     "output_type": "stream",
     "text": [
      "08:29:36.923371\n"
     ]
    }
   ],
   "source": [
    "current_time=datetime.datetime.today().time()\n",
    "print(current_time)"
   ]
  },
  {
   "cell_type": "code",
   "execution_count": 13,
   "id": "18148276-56ea-4731-9f3f-267f286f3b45",
   "metadata": {},
   "outputs": [
    {
     "name": "stdout",
     "output_type": "stream",
     "text": [
      "2025-08-21 08:31:09.487375\n"
     ]
    }
   ],
   "source": [
    "current_day=datetime.datetime.today()\n",
    "print(current_day)"
   ]
  },
  {
   "cell_type": "code",
   "execution_count": 15,
   "id": "55178ff4-0412-45ec-bd00-7dbd968c04d4",
   "metadata": {},
   "outputs": [
    {
     "ename": "AttributeError",
     "evalue": "module 'datetime' has no attribute 'year'",
     "output_type": "error",
     "traceback": [
      "\u001b[1;31m---------------------------------------------------------------------------\u001b[0m",
      "\u001b[1;31mAttributeError\u001b[0m                            Traceback (most recent call last)",
      "Cell \u001b[1;32mIn[15], line 1\u001b[0m\n\u001b[1;32m----> 1\u001b[0m datetime\u001b[38;5;241m.\u001b[39myear()\n",
      "\u001b[1;31mAttributeError\u001b[0m: module 'datetime' has no attribute 'year'"
     ]
    }
   ],
   "source": [
    "from datetime import datetime timedelta\n",
    "import datetime\n",
    "now=datetime.datetime.today()\n",
    "print(\"current day:\", "
   ]
  },
  {
   "cell_type": "code",
   "execution_count": 4,
   "id": "3e03d0ff-4b8a-40b0-99a8-dd5d0a49f4f3",
   "metadata": {},
   "outputs": [
    {
     "data": {
      "text/plain": [
       "datetime.datetime(2025, 8, 21, 21, 20, 18, 978931)"
      ]
     },
     "execution_count": 4,
     "metadata": {},
     "output_type": "execute_result"
    }
   ],
   "source": [
    "import datetime\n",
    "import time\n",
    "current_date=datetime.datetime.now()\n",
    "current_date"
   ]
  },
  {
   "cell_type": "code",
   "execution_count": 9,
   "id": "af729ad3-672f-43c7-bf8e-3dd1291f5daf",
   "metadata": {},
   "outputs": [
    {
     "name": "stdout",
     "output_type": "stream",
     "text": [
      "2025-08-21 21:22:27.970499\n"
     ]
    }
   ],
   "source": [
    "current_datetime=datetime.datetime.today()\n",
    "print(current_datetime)\n"
   ]
  },
  {
   "cell_type": "code",
   "execution_count": 10,
   "id": "38065a28-73d5-4857-bfd8-c71d98c7b633",
   "metadata": {},
   "outputs": [
    {
     "name": "stdout",
     "output_type": "stream",
     "text": [
      "2025-08-21\n"
     ]
    }
   ],
   "source": [
    "current_date=datetime.datetime.now().date()\n",
    "print(current_date)"
   ]
  },
  {
   "cell_type": "code",
   "execution_count": 11,
   "id": "ae133bf1-3e11-4e33-b8c3-ac812b5b470a",
   "metadata": {},
   "outputs": [
    {
     "name": "stdout",
     "output_type": "stream",
     "text": [
      "2025-08-21\n"
     ]
    }
   ],
   "source": [
    "current_date=datetime.datetime.today().date()\n",
    "print(current_date)"
   ]
  },
  {
   "cell_type": "code",
   "execution_count": 12,
   "id": "2fa65676-47f0-4dee-887a-c330f0f3c4ba",
   "metadata": {},
   "outputs": [
    {
     "name": "stdout",
     "output_type": "stream",
     "text": [
      "21:27:17.661313\n"
     ]
    }
   ],
   "source": [
    "current_time=datetime.datetime.now().time()\n",
    "print(current_time)"
   ]
  },
  {
   "cell_type": "code",
   "execution_count": 13,
   "id": "70c8e0b9-eae4-4cf0-b05e-22b0b059826f",
   "metadata": {},
   "outputs": [
    {
     "name": "stdout",
     "output_type": "stream",
     "text": [
      "21:27:59.970663\n"
     ]
    }
   ],
   "source": [
    "current_time=datetime.datetime.today().time()\n",
    "print(current_time)"
   ]
  },
  {
   "cell_type": "code",
   "execution_count": 14,
   "id": "06ed739e-ac98-46ee-9293-54e3b7a2ff55",
   "metadata": {},
   "outputs": [
    {
     "data": {
      "text/plain": [
       "21"
      ]
     },
     "execution_count": 14,
     "metadata": {},
     "output_type": "execute_result"
    }
   ],
   "source": [
    "datetime.datetime.today().hour"
   ]
  },
  {
   "cell_type": "code",
   "execution_count": 15,
   "id": "aaccde99-1bee-4e73-aff5-1c4f4055fd7a",
   "metadata": {},
   "outputs": [
    {
     "data": {
      "text/plain": [
       "21"
      ]
     },
     "execution_count": 15,
     "metadata": {},
     "output_type": "execute_result"
    }
   ],
   "source": [
    "datetime.datetime.now().hour"
   ]
  },
  {
   "cell_type": "code",
   "execution_count": 16,
   "id": "81c9047f-066a-4bfa-b100-885b7f8d8877",
   "metadata": {},
   "outputs": [
    {
     "data": {
      "text/plain": [
       "8"
      ]
     },
     "execution_count": 16,
     "metadata": {},
     "output_type": "execute_result"
    }
   ],
   "source": [
    "datetime.datetime.now().month"
   ]
  },
  {
   "cell_type": "code",
   "execution_count": 17,
   "id": "5a62be3d-b368-493c-aef4-8246976f9cc0",
   "metadata": {},
   "outputs": [
    {
     "data": {
      "text/plain": [
       "8"
      ]
     },
     "execution_count": 17,
     "metadata": {},
     "output_type": "execute_result"
    }
   ],
   "source": [
    "datetime.datetime.today().month"
   ]
  },
  {
   "cell_type": "code",
   "execution_count": 19,
   "id": "80289383-d17c-465e-a88a-6300fc1bcac7",
   "metadata": {},
   "outputs": [
    {
     "data": {
      "text/plain": [
       "2025"
      ]
     },
     "execution_count": 19,
     "metadata": {},
     "output_type": "execute_result"
    }
   ],
   "source": [
    "datetime.datetime.now().year"
   ]
  },
  {
   "cell_type": "code",
   "execution_count": 21,
   "id": "4bd3ee6d-8569-49c1-9ceb-01700153ed30",
   "metadata": {},
   "outputs": [
    {
     "data": {
      "text/plain": [
       "29"
      ]
     },
     "execution_count": 21,
     "metadata": {},
     "output_type": "execute_result"
    }
   ],
   "source": [
    "datetime.datetime.now().minute"
   ]
  },
  {
   "cell_type": "code",
   "execution_count": 22,
   "id": "eea76ccc-44f0-4079-b85a-e0fe471eeb42",
   "metadata": {},
   "outputs": [
    {
     "data": {
      "text/plain": [
       "6"
      ]
     },
     "execution_count": 22,
     "metadata": {},
     "output_type": "execute_result"
    }
   ],
   "source": [
    "datetime.datetime.now().second"
   ]
  },
  {
   "cell_type": "code",
   "execution_count": 23,
   "id": "3b37eaa1-23b9-494d-9379-f98f7d4577f1",
   "metadata": {},
   "outputs": [
    {
     "data": {
      "text/plain": [
       "155318"
      ]
     },
     "execution_count": 23,
     "metadata": {},
     "output_type": "execute_result"
    }
   ],
   "source": [
    "datetime.datetime.now().microsecond"
   ]
  },
  {
   "cell_type": "markdown",
   "id": "a33d94c0-9cbf-4f16-a327-e22fb38ec32c",
   "metadata": {},
   "source": [
    "# timedelta"
   ]
  },
  {
   "cell_type": "code",
   "execution_count": 25,
   "id": "341c2626-8d23-4d7f-b99f-3f945cc6955b",
   "metadata": {},
   "outputs": [
    {
     "name": "stdout",
     "output_type": "stream",
     "text": [
      "current_date: 2025-08-21 21:39:34.601324\n",
      "future_date: 2025-08-30 21:39:34.601324\n",
      "past_date: 2025-07-28 21:39:34.601324\n"
     ]
    }
   ],
   "source": [
    "from datetime import datetime,timedelta\n",
    "now=datetime.today()\n",
    "print(\"current_date:\",now)\n",
    "future_date=now+timedelta(weeks=1,days=2)\n",
    "print(\"future_date:\",future_date)\n",
    "past_date=now-timedelta(weeks=3,days=3)\n",
    "print(\"past_date:\",past_date)"
   ]
  },
  {
   "cell_type": "code",
   "execution_count": 32,
   "id": "d95815be-559b-4765-b183-8b6c18099f3a",
   "metadata": {},
   "outputs": [
    {
     "name": "stdout",
     "output_type": "stream",
     "text": [
      "2025-08-21 21:47:15.240610\n",
      "2025-09-04 21:47:15.240610\n"
     ]
    }
   ],
   "source": [
    "from datetime import datetime,timedelta\n",
    "current_date=datetime.now()\n",
    "print(current_date)\n",
    "new_date=current_date+timedelta(weeks=2)\n",
    "print(new_date)"
   ]
  },
  {
   "cell_type": "code",
   "execution_count": 52,
   "id": "255f6c20-57db-495a-b630-70117df87d1c",
   "metadata": {},
   "outputs": [
    {
     "name": "stdout",
     "output_type": "stream",
     "text": [
      "2025-08-21 22:07:44.712129\n"
     ]
    },
    {
     "data": {
      "text/plain": [
       "'4'"
      ]
     },
     "execution_count": 52,
     "metadata": {},
     "output_type": "execute_result"
    }
   ],
   "source": [
    "now=datetime.now()\n",
    "print(now)\n",
    "now.strftime(\"%u\")"
   ]
  },
  {
   "cell_type": "markdown",
   "id": "bab5e070-1eca-47b9-828f-fb4e681f6649",
   "metadata": {},
   "source": [
    "# strptime"
   ]
  },
  {
   "cell_type": "code",
   "execution_count": 60,
   "id": "af01b973-a379-4679-979d-b76f26dee88a",
   "metadata": {},
   "outputs": [
    {
     "name": "stdout",
     "output_type": "stream",
     "text": [
      "2002-12-14\n"
     ]
    }
   ],
   "source": [
    "import datetime\n",
    "date1=\"14/12/2002\"\n",
    "date_format=\"%d/%m/%Y\"\n",
    "formatted=datetime.datetime.strptime(date1,date_format).date()\n",
    "print(formatted)"
   ]
  },
  {
   "cell_type": "code",
   "execution_count": null,
   "id": "fef35458-3061-40da-8269-ec3354b66c29",
   "metadata": {},
   "outputs": [],
   "source": []
  },
  {
   "cell_type": "code",
   "execution_count": null,
   "id": "7e55bcc2-5510-458c-9b65-650a210c1d95",
   "metadata": {},
   "outputs": [],
   "source": []
  }
 ],
 "metadata": {
  "kernelspec": {
   "display_name": "Python 3 (ipykernel)",
   "language": "python",
   "name": "python3"
  },
  "language_info": {
   "codemirror_mode": {
    "name": "ipython",
    "version": 3
   },
   "file_extension": ".py",
   "mimetype": "text/x-python",
   "name": "python",
   "nbconvert_exporter": "python",
   "pygments_lexer": "ipython3",
   "version": "3.11.11"
  }
 },
 "nbformat": 4,
 "nbformat_minor": 5
}
