{
 "cells": [
  {
   "cell_type": "markdown",
   "id": "d0b6a373-0399-4c02-b048-51e035e842f1",
   "metadata": {},
   "source": [
    "# Day 2"
   ]
  },
  {
   "cell_type": "markdown",
   "id": "8344c7d8-e2cd-4f20-a4da-9c05176cb7ce",
   "metadata": {},
   "source": [
    "# if statemnt:"
   ]
  },
  {
   "cell_type": "code",
   "execution_count": 3,
   "id": "4753a219-09d2-46b0-acaa-15fc01b4efcd",
   "metadata": {},
   "outputs": [
    {
     "name": "stdin",
     "output_type": "stream",
     "text": [
      "enter your age: 34\n"
     ]
    },
    {
     "name": "stdout",
     "output_type": "stream",
     "text": [
      "yes,you are eligible for voting\n"
     ]
    }
   ],
   "source": [
    "age=int(input(\"enter your age:\"))\n",
    "if age>18:\n",
    "    print(\"yes,you are eligible for voting\")"
   ]
  },
  {
   "cell_type": "markdown",
   "id": "bbf865ef-9901-4ef0-9ed8-b20c95d9ab5c",
   "metadata": {},
   "source": [
    "# if else statement:"
   ]
  },
  {
   "cell_type": "code",
   "execution_count": 4,
   "id": "c5464c8f-96f7-4a3c-851d-9dc6eeeee335",
   "metadata": {},
   "outputs": [
    {
     "name": "stdout",
     "output_type": "stream",
     "text": [
      "the number is positive\n"
     ]
    }
   ],
   "source": [
    "a=32\n",
    "if a>=0:\n",
    "    print(\"the number is positive\")\n",
    "else:\n",
    "    print(\"the number is negative\")"
   ]
  },
  {
   "cell_type": "code",
   "execution_count": 5,
   "id": "dccfd92f-d315-4880-aa03-daa097150f76",
   "metadata": {},
   "outputs": [
    {
     "name": "stdin",
     "output_type": "stream",
     "text": [
      "enter your value: -6\n"
     ]
    },
    {
     "name": "stdout",
     "output_type": "stream",
     "text": [
      "the value is negative\n"
     ]
    }
   ],
   "source": [
    "b=int(input(\"enter your value:\"))\n",
    "if b>=0:\n",
    "    print(\"the value is positive\")\n",
    "else:\n",
    "    print(\"the value is negative\")\n",
    "      "
   ]
  },
  {
   "cell_type": "markdown",
   "id": "a8b23255-38c2-41fa-a7c8-878786ce579f",
   "metadata": {},
   "source": [
    "# elif statements:"
   ]
  },
  {
   "cell_type": "code",
   "execution_count": 8,
   "id": "ba2e3480-c10c-452a-9118-13fc88f6c416",
   "metadata": {},
   "outputs": [
    {
     "name": "stdin",
     "output_type": "stream",
     "text": [
      "enter your value 0\n"
     ]
    },
    {
     "name": "stdout",
     "output_type": "stream",
     "text": [
      "the number is zero\n"
     ]
    }
   ],
   "source": [
    "num=int(input(\"enter your value\"))\n",
    "if num>0:\n",
    "    print(\"the number is positive\")\n",
    "elif num<0:\n",
    "    print(\"the number is negative\")\n",
    "else:\n",
    "    print(\"the number is zero\")"
   ]
  },
  {
   "cell_type": "markdown",
   "id": "d1d33dc4-3702-4b41-8072-5e54223219a1",
   "metadata": {},
   "source": [
    "# nested if statement:"
   ]
  },
  {
   "cell_type": "code",
   "execution_count": 9,
   "id": "61c5ad65-73c2-4a0f-8886-8ddf06993ef5",
   "metadata": {},
   "outputs": [
    {
     "name": "stdin",
     "output_type": "stream",
     "text": [
      "enter your number: 33\n"
     ]
    },
    {
     "name": "stdout",
     "output_type": "stream",
     "text": [
      "The number is positive\n",
      "odd,but it is a positive nymber\n"
     ]
    }
   ],
   "source": [
    "numb=int(input(\"enter your number:\"))\n",
    "if numb>0:\n",
    "    print(\"The number is positive\")\n",
    "    if numb%2==0:\n",
    "        print(\"it is also an even number\")\n",
    "    else:\n",
    "        print(\"odd,but it is a positive nymber\")\n",
    "elif numb<0:\n",
    "    print(\"the number is negative\")\n",
    "else:\n",
    "    print(\"the number is zero\")"
   ]
  },
  {
   "cell_type": "code",
   "execution_count": 13,
   "id": "d8fd3eb7-6b55-4508-8b13-b474a3f5a7fd",
   "metadata": {},
   "outputs": [
    {
     "name": "stdin",
     "output_type": "stream",
     "text": [
      "enter your username gghc\n",
      "enter your passsword jlhhf\n"
     ]
    },
    {
     "name": "stdout",
     "output_type": "stream",
     "text": [
      "invalid credentials\n"
     ]
    }
   ],
   "source": [
    "username=input(\"enter your username\")\n",
    "password=input(\"enter your passsword\")\n",
    "if username==\"rohit123\" and password==\"woh\" :\n",
    "    print(\"login successfull\")\n",
    "else:\n",
    "    print(\"invalid credentials\")"
   ]
  },
  {
   "cell_type": "code",
   "execution_count": 1,
   "id": "95adfa27-0009-439a-bb73-33a53fbc9ebb",
   "metadata": {},
   "outputs": [
    {
     "name": "stdin",
     "output_type": "stream",
     "text": [
      "enter your score: 76\n"
     ]
    },
    {
     "name": "stdout",
     "output_type": "stream",
     "text": [
      "Grade:C\n"
     ]
    }
   ],
   "source": [
    "score=int(input(\"enter your score:\"))\n",
    "if score>=90:\n",
    "    print(\"Grade:A\")\n",
    "elif (score>=80 and score<=89):\n",
    "    print(\"grade:B\")\n",
    "elif (score>=70 and score<=79):\n",
    "    print(\"Grade:C\")\n",
    "elif (score>=60 and score<=69):\n",
    "    print(\"Grade:D\")\n",
    "else :\n",
    "    print(\"Grade:E\")"
   ]
  },
  {
   "cell_type": "markdown",
   "id": "ecba94c9-f56b-46b7-b7d8-eb42fba9ae46",
   "metadata": {},
   "source": [
    "# Day3"
   ]
  },
  {
   "cell_type": "markdown",
   "id": "88d6dbbb-4486-490f-ab5a-a52c6f409919",
   "metadata": {},
   "source": [
    "# Loops"
   ]
  },
  {
   "cell_type": "code",
   "execution_count": 3,
   "id": "515243de-910c-4a5d-9e1b-fac6b60fcfd6",
   "metadata": {},
   "outputs": [
    {
     "name": "stdout",
     "output_type": "stream",
     "text": [
      "alternate number: 1\n",
      "alternate number: 3\n",
      "alternate number: 5\n",
      "alternate number: 7\n",
      "alternate number: 9\n",
      "alternate number: 11\n",
      "alternate number: 13\n",
      "alternate number: 15\n",
      "alternate number: 17\n",
      "alternate number: 19\n",
      "alternate number: 21\n",
      "alternate number: 23\n",
      "alternate number: 25\n",
      "alternate number: 27\n",
      "alternate number: 29\n",
      "alternate number: 31\n",
      "alternate number: 33\n",
      "alternate number: 35\n",
      "alternate number: 37\n",
      "alternate number: 39\n",
      "alternate number: 41\n",
      "alternate number: 43\n",
      "alternate number: 45\n",
      "alternate number: 47\n",
      "alternate number: 49\n"
     ]
    }
   ],
   "source": [
    "for i in range(1,51,2):\n",
    "    print(\"alternate number:\",i)"
   ]
  },
  {
   "cell_type": "code",
   "execution_count": 2,
   "id": "bbb135cb-c0b6-44c0-a55b-98b93fb54752",
   "metadata": {},
   "outputs": [
    {
     "name": "stdout",
     "output_type": "stream",
     "text": [
      "5\n",
      "8\n",
      "11\n",
      "14\n",
      "17\n",
      "20\n",
      "23\n"
     ]
    }
   ],
   "source": [
    "for i in range(5,25,3):\n",
    "    print(i)"
   ]
  },
  {
   "cell_type": "markdown",
   "id": "5216f7a2-bd9f-4eb9-b96f-9e666703db92",
   "metadata": {},
   "source": [
    "# program to find sum of first 10 numbers"
   ]
  },
  {
   "cell_type": "code",
   "execution_count": 5,
   "id": "4b4cbb32-c2c0-4e8e-afc9-606ee7ba70e6",
   "metadata": {},
   "outputs": [
    {
     "name": "stdout",
     "output_type": "stream",
     "text": [
      "0\n",
      "The sum is: 1\n",
      "The sum is: 3\n",
      "The sum is: 6\n",
      "The sum is: 10\n",
      "The sum is: 15\n",
      "The sum is: 21\n",
      "The sum is: 28\n",
      "The sum is: 36\n",
      "The sum is: 45\n",
      "The sum is: 55\n",
      "55\n"
     ]
    }
   ],
   "source": [
    "sum=0\n",
    "print(sum)\n",
    "for i in range(1,11):\n",
    "    sum+=i\n",
    "    print(\"The sum is:\",sum)\n",
    "print(sum)"
   ]
  },
  {
   "cell_type": "code",
   "execution_count": 7,
   "id": "a68cb9ac-8b95-4d15-a1cf-2f217ba3be47",
   "metadata": {},
   "outputs": [
    {
     "name": "stdout",
     "output_type": "stream",
     "text": [
      "1\n",
      "2\n",
      "3\n",
      "4\n",
      "5\n"
     ]
    }
   ],
   "source": [
    "count=1\n",
    "while count<=5:\n",
    "    print(count)\n",
    "    count+=1"
   ]
  },
  {
   "cell_type": "code",
   "execution_count": 3,
   "id": "171c29ab-3640-439f-b73d-5ddbf820b8a6",
   "metadata": {},
   "outputs": [
    {
     "name": "stdout",
     "output_type": "stream",
     "text": [
      "1\n",
      "3\n",
      "6\n",
      "10\n",
      "15\n",
      "21\n",
      "28\n",
      "36\n",
      "45\n",
      "55\n"
     ]
    }
   ],
   "source": [
    "num=1\n",
    "sum=0\n",
    "while num<=10:\n",
    "    sum+=num\n",
    "    num=num+1\n",
    "    print(sum)"
   ]
  },
  {
   "cell_type": "code",
   "execution_count": 5,
   "id": "a1535116-7879-40ec-a809-1da4f3c57f30",
   "metadata": {},
   "outputs": [
    {
     "name": "stdout",
     "output_type": "stream",
     "text": [
      "1\n",
      "2\n",
      "6\n",
      "24\n",
      "120\n",
      "720\n",
      "5040\n",
      "40320\n",
      "362880\n"
     ]
    }
   ],
   "source": [
    "mul=1\n",
    "for i in range(1,10):\n",
    "    mul*=i\n",
    "    print(mul)\n",
    "    "
   ]
  },
  {
   "cell_type": "code",
   "execution_count": 11,
   "id": "788e10ad-9ad7-42d3-9ce1-b6b8c2a36939",
   "metadata": {},
   "outputs": [
    {
     "name": "stdout",
     "output_type": "stream",
     "text": [
      "Total amount: 4664\n"
     ]
    }
   ],
   "source": [
    "list2=[23,45,42,4554]\n",
    "sum=0\n",
    "for i in list2:\n",
    "    sum+=i\n",
    "print(f\"Total amount: {sum}\")"
   ]
  },
  {
   "cell_type": "code",
   "execution_count": 21,
   "id": "85bbaf41-a7da-48ec-8eb8-cb5ad98050cb",
   "metadata": {},
   "outputs": [
    {
     "name": "stdout",
     "output_type": "stream",
     "text": [
      "1\n",
      "2\n",
      "3\n",
      "4\n",
      "5\n",
      "6\n",
      "7\n",
      "8\n",
      "9\n",
      "10\n",
      "11\n",
      "12\n"
     ]
    }
   ],
   "source": [
    "for i in range(1,500):\n",
    "    if i%13==0:\n",
    "        break\n",
    "    print(i)"
   ]
  },
  {
   "cell_type": "code",
   "execution_count": 24,
   "id": "00463452-fffb-4dc6-9fd4-bfc2f2f7a0a3",
   "metadata": {},
   "outputs": [
    {
     "name": "stdout",
     "output_type": "stream",
     "text": [
      "20\n",
      "18\n",
      "16\n",
      "14\n",
      "12\n",
      "10\n",
      "8\n",
      "6\n",
      "4\n",
      "2\n"
     ]
    }
   ],
   "source": [
    "count=20\n",
    "while count>0:\n",
    "    print(count)\n",
    "    count=count-2"
   ]
  },
  {
   "cell_type": "markdown",
   "id": "e935c261-ecd4-4892-8b06-fb0c38f980a7",
   "metadata": {},
   "source": [
    "# Day4"
   ]
  },
  {
   "cell_type": "code",
   "execution_count": 2,
   "id": "4069caef-25ee-476f-bdbe-515d9f60efca",
   "metadata": {},
   "outputs": [
    {
     "data": {
      "text/plain": [
       "'Sdrwtg'"
      ]
     },
     "execution_count": 2,
     "metadata": {},
     "output_type": "execute_result"
    }
   ],
   "source": [
    "a=\"sdrwtg\"\n",
    "b=a.capitalize()\n",
    "b"
   ]
  },
  {
   "cell_type": "code",
   "execution_count": 3,
   "id": "b9d8fb32-ca2c-42c9-bc02-02ea368b8434",
   "metadata": {},
   "outputs": [
    {
     "name": "stdout",
     "output_type": "stream",
     "text": [
      "Wbgufd fhgfd\n"
     ]
    }
   ],
   "source": [
    "a=\"wbgufD Fhgfd\"\n",
    "b=a.capitalize()\n",
    "print(b)"
   ]
  },
  {
   "cell_type": "code",
   "execution_count": 5,
   "id": "63398a7f-9c25-4560-963f-4d95f03e8988",
   "metadata": {},
   "outputs": [
    {
     "name": "stdout",
     "output_type": "stream",
     "text": [
      "Hhdgfchf\n"
     ]
    }
   ],
   "source": [
    "a=\"hhdgfchf\"\n",
    "b=a.capitalize()\n",
    "print(b)\n"
   ]
  },
  {
   "cell_type": "code",
   "execution_count": 6,
   "id": "8920a8d2-341a-4b02-aabe-ff3c16531774",
   "metadata": {},
   "outputs": [
    {
     "name": "stdout",
     "output_type": "stream",
     "text": [
      "defyte\n"
     ]
    }
   ],
   "source": [
    "#lower()\n",
    "c=\"Defyte\"\n",
    "d=c.lower()\n",
    "print(d)"
   ]
  },
  {
   "cell_type": "code",
   "execution_count": 7,
   "id": "ada13b9c-a4fb-471c-ab82-7dbabeb9f169",
   "metadata": {},
   "outputs": [
    {
     "name": "stdout",
     "output_type": "stream",
     "text": [
      "ggedfg\n"
     ]
    }
   ],
   "source": [
    "c=\"GGEDFG\"\n",
    "print(c.lower())"
   ]
  },
  {
   "cell_type": "code",
   "execution_count": 8,
   "id": "73eb5eae-bf70-4255-ae79-379d1950d4aa",
   "metadata": {},
   "outputs": [
    {
     "name": "stdout",
     "output_type": "stream",
     "text": [
      "JHDGYCV\n"
     ]
    }
   ],
   "source": [
    "#upper()\n",
    "c=\"jhdgycv\"\n",
    "print(c.upper())"
   ]
  },
  {
   "cell_type": "code",
   "execution_count": 10,
   "id": "d76b59d0-3582-4d92-b795-dbc96d098ea5",
   "metadata": {},
   "outputs": [
    {
     "name": "stdout",
     "output_type": "stream",
     "text": [
      "Rohit Sharma\n"
     ]
    }
   ],
   "source": [
    "#title()\n",
    "a=\"rohit sharma\"\n",
    "print(a.title())"
   ]
  },
  {
   "cell_type": "code",
   "execution_count": 16,
   "id": "9dc54ec0-062f-4a8b-bfa3-e6832ba88fab",
   "metadata": {},
   "outputs": [
    {
     "name": "stdout",
     "output_type": "stream",
     "text": [
      "msdhon    i\n"
     ]
    }
   ],
   "source": [
    "#lstrip()\n",
    "a=\"   msdhon    i\"\n",
    "print(a.lstrip())"
   ]
  },
  {
   "cell_type": "code",
   "execution_count": 19,
   "id": "d6cff50b-73fc-4320-b17d-11855450c1ef",
   "metadata": {},
   "outputs": [
    {
     "name": "stdout",
     "output_type": "stream",
     "text": [
      "33\n",
      "      gsgy jbsg              shww\n",
      "gsgy jbsg              shww\n",
      "27\n"
     ]
    }
   ],
   "source": [
    "a=\"      gsgy jbsg              shww\"\n",
    "print(len(a))\n",
    "print(a)\n",
    "d=a.lstrip()\n",
    "print(d)\n",
    "print(len(d))"
   ]
  },
  {
   "cell_type": "code",
   "execution_count": 21,
   "id": "bffdeab8-a28f-4c0f-bbf3-0c81bda64422",
   "metadata": {},
   "outputs": [
    {
     "name": "stdout",
     "output_type": "stream",
     "text": [
      "jkuwu       \n",
      "12\n",
      "jkuwu\n",
      "5\n"
     ]
    }
   ],
   "source": [
    "#rstrip()\n",
    "a=\"jkuwu       \"\n",
    "print(a)\n",
    "print(len(a))\n",
    "b=a.rstrip()\n",
    "print(b)\n",
    "print(len(b))"
   ]
  },
  {
   "cell_type": "code",
   "execution_count": 22,
   "id": "aa29690b-3625-4182-8c56-730f82f0712e",
   "metadata": {},
   "outputs": [
    {
     "name": "stdout",
     "output_type": "stream",
     "text": [
      "i am human\n"
     ]
    }
   ],
   "source": [
    "#replace()\n",
    "a=\"i is human\"\n",
    "b=a.replace(\"is\",\"am\")\n",
    "print(b)"
   ]
  },
  {
   "cell_type": "code",
   "execution_count": 24,
   "id": "f6af8eff-9842-4992-b97f-9dcfbb320a1d",
   "metadata": {},
   "outputs": [
    {
     "name": "stdout",
     "output_type": "stream",
     "text": [
      "he is raina and he is dhoni\n"
     ]
    }
   ],
   "source": [
    "a=\"he am raina and he am dhoni\"\n",
    "print(a.replace(\"am\",\"is\",2))"
   ]
  },
  {
   "cell_type": "code",
   "execution_count": 25,
   "id": "b737f489-c8c1-41be-b9d9-a1556424a6b2",
   "metadata": {},
   "outputs": [
    {
     "name": "stdout",
     "output_type": "stream",
     "text": [
      "    dhoni    finishes of in    style     \n",
      "41\n",
      "dhoni    finishes of in    style     \n",
      "37\n",
      "    dhoni    finishes of in    style\n",
      "    dhoni    finishes off in    style     \n"
     ]
    }
   ],
   "source": [
    "a=\"    dhoni    finishes of in    style     \"\n",
    "print(a)\n",
    "print(len(a))\n",
    "b=a.lstrip()\n",
    "print(b)\n",
    "print(len(b))\n",
    "c=a.rstrip()\n",
    "print(c)\n",
    "print(a.replace(\"of\",\"off\"))\n",
    "\n"
   ]
  },
  {
   "cell_type": "code",
   "execution_count": 30,
   "id": "0a790bd5-7983-489c-b6ea-6bca1dbfdc09",
   "metadata": {},
   "outputs": [
    {
     "name": "stdout",
     "output_type": "stream",
     "text": [
      "5\n"
     ]
    }
   ],
   "source": [
    "#count()\n",
    "a=\"machine learning is the branch of AI that studies the building of machine\"\n",
    "b=a.count('a')\n",
    "print(b)"
   ]
  },
  {
   "cell_type": "code",
   "execution_count": 3,
   "id": "cfe08014-e3be-4e0d-a0cd-b51f87dd335b",
   "metadata": {},
   "outputs": [
    {
     "name": "stdout",
     "output_type": "stream",
     "text": [
      "1\n",
      "2\n"
     ]
    },
    {
     "ename": "TypeError",
     "evalue": "'int' object is not iterable",
     "output_type": "error",
     "traceback": [
      "\u001b[1;31m---------------------------------------------------------------------------\u001b[0m",
      "\u001b[1;31mTypeError\u001b[0m                                 Traceback (most recent call last)",
      "Cell \u001b[1;32mIn[3], line 4\u001b[0m\n\u001b[0;32m      1\u001b[0m a \u001b[38;5;241m=\u001b[39m [[\u001b[38;5;241m1\u001b[39m, \u001b[38;5;241m2\u001b[39m],\u001b[38;5;241m1\u001b[39m,[\u001b[38;5;241m3\u001b[39m, \u001b[38;5;241m4\u001b[39m], [\u001b[38;5;241m5\u001b[39m, \u001b[38;5;241m6\u001b[39m]]\n\u001b[0;32m      3\u001b[0m \u001b[38;5;28;01mfor\u001b[39;00m sublist \u001b[38;5;129;01min\u001b[39;00m a:\n\u001b[1;32m----> 4\u001b[0m     \u001b[38;5;28;01mfor\u001b[39;00m item \u001b[38;5;129;01min\u001b[39;00m sublist:\n\u001b[0;32m      5\u001b[0m         \u001b[38;5;28mprint\u001b[39m(item)\n",
      "\u001b[1;31mTypeError\u001b[0m: 'int' object is not iterable"
     ]
    }
   ],
   "source": [
    "a = [[1, 2],1,[3, 4], [5, 6]]\n",
    "\n",
    "for sublist in a:\n",
    "    for item in sublist:\n",
    "        print(item)"
   ]
  },
  {
   "cell_type": "code",
   "execution_count": null,
   "id": "df031b5f-72cf-410d-b68a-9ab6583c68f7",
   "metadata": {},
   "outputs": [],
   "source": []
  }
 ],
 "metadata": {
  "kernelspec": {
   "display_name": "Python 3 (ipykernel)",
   "language": "python",
   "name": "python3"
  },
  "language_info": {
   "codemirror_mode": {
    "name": "ipython",
    "version": 3
   },
   "file_extension": ".py",
   "mimetype": "text/x-python",
   "name": "python",
   "nbconvert_exporter": "python",
   "pygments_lexer": "ipython3",
   "version": "3.13.5"
  }
 },
 "nbformat": 4,
 "nbformat_minor": 5
}
