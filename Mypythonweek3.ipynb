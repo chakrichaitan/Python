{
 "cells": [
  {
   "cell_type": "markdown",
   "id": "cd00429b-3298-4ec1-9b4a-dd5eab07ca1f",
   "metadata": {},
   "source": [
    "# list"
   ]
  },
  {
   "cell_type": "code",
   "execution_count": 5,
   "id": "d4b76af1-f972-4d2c-b088-4ed0d7ec0c9a",
   "metadata": {},
   "outputs": [
    {
     "name": "stdout",
     "output_type": "stream",
     "text": [
      "<class 'list'>\n"
     ]
    },
    {
     "data": {
      "text/plain": [
       "8"
      ]
     },
     "execution_count": 5,
     "metadata": {},
     "output_type": "execute_result"
    }
   ],
   "source": [
    "list11=[12,34,435,5,4,44,5,6]\n",
    "print(type(list11))\n",
    "len(list11)"
   ]
  },
  {
   "cell_type": "code",
   "execution_count": 9,
   "id": "64363888-e33b-474a-a543-a7c78160f881",
   "metadata": {},
   "outputs": [
    {
     "name": "stdout",
     "output_type": "stream",
     "text": [
      "<class 'int'>\n",
      "<class 'complex'>\n",
      "<class 'int'>\n"
     ]
    }
   ],
   "source": [
    "list12=[\"ster\",[12,34,56,75,77],12,34,56,[34,44,43],(6+7j)]\n",
    "print(type(list12[3]))\n",
    "print(type(list12[6]))\n",
    "print(type(list12[1][4]))"
   ]
  },
  {
   "cell_type": "code",
   "execution_count": 9,
   "id": "8ef27bdf-f926-4a1c-b622-12513e39f957",
   "metadata": {},
   "outputs": [
    {
     "name": "stdout",
     "output_type": "stream",
     "text": [
      "<class 'str'>\n",
      "<class 'list'>\n"
     ]
    },
    {
     "data": {
      "text/plain": [
       "4"
      ]
     },
     "execution_count": 9,
     "metadata": {},
     "output_type": "execute_result"
    }
   ],
   "source": [
    "list1=[\"ashdgf\",[12,23,344],[12.33,3.3],[22,3,34]]\n",
    "print(type(list1[0]))\n",
    "print(type(list1[1]))\n",
    "len(list1)"
   ]
  },
  {
   "cell_type": "code",
   "execution_count": 13,
   "id": "61d26e61-8721-4de1-bbd3-f182dd5d276e",
   "metadata": {},
   "outputs": [
    {
     "data": {
      "text/plain": [
       "[2, 4, 'jfhtr', 'jfg', 'chakri', 'fghrtrr', [12, 34, 'python', 56]]"
      ]
     },
     "execution_count": 13,
     "metadata": {},
     "output_type": "execute_result"
    }
   ],
   "source": [
    "list123=[2,4,\"jfhtr\",\"jfg\",(3+7j),\"fghrtrr\",[12,34,24,56]]\n",
    "list123[4]=\"chakri\"\n",
    "list123[6][2]=\"python\"\n",
    "list123"
   ]
  },
  {
   "cell_type": "code",
   "execution_count": 15,
   "id": "25ed2d08-6fbd-428b-bdfa-6a98bd137e50",
   "metadata": {},
   "outputs": [
    {
     "name": "stdout",
     "output_type": "stream",
     "text": [
      "33\n",
      "sef\n"
     ]
    }
   ],
   "source": [
    "ls12=[\"sdfg\",12,33,33,\"sef\",\"dejfjge\"]\n",
    "print(ls12[-4])\n",
    "print(ls12[4])"
   ]
  },
  {
   "cell_type": "code",
   "execution_count": 19,
   "id": "29a68594-215f-47fc-8455-f2ba870940e4",
   "metadata": {},
   "outputs": [
    {
     "name": "stdout",
     "output_type": "stream",
     "text": [
      "[12, 45, 4, 7, 9, 2, 655]\n",
      "[55, 74, 86, 674, 655, 2, 9, 7, 4, 45, 12]\n",
      "[9, 2, 655, 674]\n",
      "[86, 674, 655, 2, 9]\n",
      "[55, 74, 86, 674, 655, 2, 9, 7]\n",
      "[45, 7, 2]\n"
     ]
    }
   ],
   "source": [
    "lss=[12,45,4,7,9,2,655,674,86,74,55]\n",
    "print(lss[:7])\n",
    "print(lss[::-1])\n",
    "print(lss[4:8])\n",
    "print(lss[-3:-8:-1])\n",
    "print(lss[-1:2:-1])\n",
    "print(lss[1:7:2])"
   ]
  },
  {
   "cell_type": "code",
   "execution_count": 19,
   "id": "37491501-1f07-4fc2-8633-dc82f0f3041e",
   "metadata": {},
   "outputs": [
    {
     "name": "stdout",
     "output_type": "stream",
     "text": [
      "[45, 56, 67, 76, 54, 644]\n",
      "[54, 644, 54, 76, 67, 56, 45, 23, 12]\n",
      "[54, 54, 67, 45, 12]\n"
     ]
    }
   ],
   "source": [
    "list2=[12,23,45,56,67,76,54,644,54]\n",
    "print(list2[2:8])\n",
    "print(list2[::-1])\n",
    "print(list2[::-2])\n"
   ]
  },
  {
   "cell_type": "code",
   "execution_count": 28,
   "id": "8251ab6a-fa9d-4e45-b272-71ca22149390",
   "metadata": {},
   "outputs": [
    {
     "name": "stdout",
     "output_type": "stream",
     "text": [
      "[44, 78, 89]\n",
      "[64, 65, 45, 12]\n"
     ]
    }
   ],
   "source": [
    "ls2=[2,3,4,5,[44,6,78,87,89,6],[12,45,65,64]]\n",
    "len(ls2)\n",
    "print(ls2[4][:5:2])\n",
    "print(ls2[5][::-1])"
   ]
  },
  {
   "cell_type": "code",
   "execution_count": 31,
   "id": "400643be-5cb7-40f2-9516-4619244798a9",
   "metadata": {},
   "outputs": [
    {
     "name": "stdout",
     "output_type": "stream",
     "text": [
      "23 32 23 56 64 6 6 6 443 "
     ]
    }
   ],
   "source": [
    "ls1=[23,32,23,56,64,6,6,6,443]\n",
    "for i in ls1:\n",
    "    print(i,end=\" \")"
   ]
  },
  {
   "cell_type": "code",
   "execution_count": 36,
   "id": "3c91240a-93ea-4ecc-ae7a-96fbd31c6b33",
   "metadata": {},
   "outputs": [
    {
     "name": "stdout",
     "output_type": "stream",
     "text": [
      "ABSS\n",
      "SERFD\n",
      "EWDQ\n",
      "DDFB\n"
     ]
    }
   ],
   "source": [
    "ls3=[\"abss\",\"serfd\",\"ewdq\",\"ddfb\"]\n",
    "for i in ls3:\n",
    "    print(i.upper())"
   ]
  },
  {
   "cell_type": "code",
   "execution_count": 26,
   "id": "cd770fbc-949f-4517-9915-69a6a5f4aaf7",
   "metadata": {},
   "outputs": [
    {
     "name": "stdout",
     "output_type": "stream",
     "text": [
      "my mane is rohit\n",
      "**********\n",
      "my mane is mahi\n",
      "**********\n",
      "my mane is virat\n",
      "**********\n",
      "my mane is raina\n",
      "**********\n"
     ]
    }
   ],
   "source": [
    "ls12=[\"rohit\",\"mahi\",\"virat\",\"raina\"]\n",
    "for i in ls12:\n",
    "    print(\"my mane is {}\".format(i))\n",
    "    print(\"*\"*10)"
   ]
  },
  {
   "cell_type": "code",
   "execution_count": 29,
   "id": "1cc3c07c-c877-4499-b3b8-dd3782598d26",
   "metadata": {},
   "outputs": [
    {
     "name": "stdout",
     "output_type": "stream",
     "text": [
      "index of rohit is 0\n",
      "index of mahi is 1\n",
      "index of virat is 2\n",
      "index of raina is 3\n"
     ]
    }
   ],
   "source": [
    "ls12=[\"rohit\",\"mahi\",\"virat\",\"raina\"]\n",
    "for index,i in enumerate(ls12):\n",
    "    print(f\"index of {i} is {index}\")"
   ]
  },
  {
   "cell_type": "markdown",
   "id": "0f00c33b-8155-46fe-9e19-24058d0424eb",
   "metadata": {},
   "source": [
    "# list constructor"
   ]
  },
  {
   "cell_type": "code",
   "execution_count": 1,
   "id": "e9d1a8e8-b7ba-471d-b0af-0c56704af390",
   "metadata": {},
   "outputs": [
    {
     "name": "stdout",
     "output_type": "stream",
     "text": [
      "['r', 'o', 'h', 'i', 't']\n"
     ]
    }
   ],
   "source": [
    "string=\"rohit\"\n",
    "my_string=list(string)\n",
    "print(my_string)"
   ]
  },
  {
   "cell_type": "code",
   "execution_count": 4,
   "id": "f7649986-22f8-473a-b423-0579d40a6209",
   "metadata": {},
   "outputs": [
    {
     "name": "stdout",
     "output_type": "stream",
     "text": [
      "['a', 'n', 'i', 'l']\n"
     ]
    }
   ],
   "source": [
    "names='anil'\n",
    "new_names=list(names)\n",
    "print(new_names)"
   ]
  },
  {
   "cell_type": "code",
   "execution_count": 5,
   "id": "0881edab-26c5-4e6b-8b6e-4a747c822166",
   "metadata": {},
   "outputs": [
    {
     "name": "stdout",
     "output_type": "stream",
     "text": [
      "[23, 43, 45, 'ani']\n"
     ]
    }
   ],
   "source": [
    "tuple1=(23,43,45,\"ani\")\n",
    "new_tuple=list(tuple1)\n",
    "print(new_tuple)"
   ]
  },
  {
   "cell_type": "code",
   "execution_count": 6,
   "id": "071c61a8-1dd5-4f26-8530-f6d489408c85",
   "metadata": {},
   "outputs": [
    {
     "name": "stdout",
     "output_type": "stream",
     "text": [
      "[2, 3, 4, 53, 5]\n"
     ]
    }
   ],
   "source": [
    "set1=(2,3,4,53,5)\n",
    "new_set=list(set1)\n",
    "print(new_set)"
   ]
  },
  {
   "cell_type": "code",
   "execution_count": 9,
   "id": "054b09ac-a1aa-490e-bb9e-0a56514b901f",
   "metadata": {},
   "outputs": [
    {
     "name": "stdout",
     "output_type": "stream",
     "text": [
      "[0, 1, 2, 3, 4, 5, 6, 7, 8, 9]\n"
     ]
    }
   ],
   "source": [
    "ra=range(0,10)\n",
    "print(list(ra))"
   ]
  },
  {
   "cell_type": "code",
   "execution_count": 10,
   "id": "0b7798c4-c64a-4148-97f5-d272f1227398",
   "metadata": {},
   "outputs": [
    {
     "name": "stdout",
     "output_type": "stream",
     "text": [
      "['a', 'b']\n"
     ]
    }
   ],
   "source": [
    "dic={\"a\":2,\"b\":4}\n",
    "print(list(dic))"
   ]
  },
  {
   "cell_type": "markdown",
   "id": "40e45c45-3d19-4d37-aae9-edc0873e360d",
   "metadata": {},
   "source": [
    "# list functions/methodsA"
   ]
  },
  {
   "cell_type": "markdown",
   "id": "8573c190-ef8d-425a-a4b2-fbb5bb23c586",
   "metadata": {},
   "source": [
    "# append"
   ]
  },
  {
   "cell_type": "code",
   "execution_count": 4,
   "id": "2eaf14cd-b284-4f97-834b-a95fc7d9b392",
   "metadata": {},
   "outputs": [
    {
     "name": "stdout",
     "output_type": "stream",
     "text": [
      "['carrot', 'spinach', 'beans']\n"
     ]
    }
   ],
   "source": [
    "veg=[\"carrot\",\"spinach\"]\n",
    "veg.append(\"beans\")\n",
    "print(veg)"
   ]
  },
  {
   "cell_type": "code",
   "execution_count": 9,
   "id": "932a11c5-fe17-4ee8-8bc2-9758b26c92f1",
   "metadata": {},
   "outputs": [
    {
     "name": "stdout",
     "output_type": "stream",
     "text": [
      "[1, 3, 45, 6, [3, 4, 5]]\n",
      "5\n"
     ]
    }
   ],
   "source": [
    "ls1=[1,3,45,6]\n",
    "ls2=[3,4,5]\n",
    "ls1.append(ls2)\n",
    "print(ls1)\n",
    "print(len(ls1))\n"
   ]
  },
  {
   "cell_type": "code",
   "execution_count": 2,
   "id": "45c383a6-3950-4031-8b1c-9106e715bb9c",
   "metadata": {},
   "outputs": [
    {
     "name": "stdout",
     "output_type": "stream",
     "text": [
      "['anil', 'ani', 'bhar', 'kal', 'hi', 12, [12, 45, 67, 44]]\n"
     ]
    }
   ],
   "source": [
    "name=[\"anil\",\"ani\",\"bhar\",\"kal\",\"hi\"]\n",
    "num=[12,45,67,44]\n",
    "name.append(12)\n",
    "name.append(num)\n",
    "print(name)"
   ]
  },
  {
   "cell_type": "code",
   "execution_count": 3,
   "id": "70d70f83-e2b1-45eb-87bb-d719acf14033",
   "metadata": {},
   "outputs": [
    {
     "name": "stdout",
     "output_type": "stream",
     "text": [
      "['ear', 'nose', 1, 23, 4, 'rohit', [23, 4, 5, 66]]\n"
     ]
    }
   ],
   "source": [
    "ls=[\"ear\",\"nose\",1,23,4]\n",
    "ls11=[23,4,5,66]\n",
    "ls.append(\"rohit\")\n",
    "ls.append(ls11)\n",
    "print(ls)"
   ]
  },
  {
   "cell_type": "code",
   "execution_count": 1,
   "id": "f54000a4-fdd8-4246-963e-6a2634e223fe",
   "metadata": {},
   "outputs": [
    {
     "name": "stdout",
     "output_type": "stream",
     "text": [
      "even list [12, 34, 56, 78, 66, 76]\n",
      "odd  list [23, 45, 7, 7, 87, 87, 89]\n"
     ]
    }
   ],
   "source": [
    "ls=[12,34,23,45,56,78,66,7,7,87,87,89,76]\n",
    "even=[]\n",
    "odd=[]\n",
    "for i in ls:\n",
    "    if i%2==0:\n",
    "        even.append(i)\n",
    "    else:\n",
    "        odd.append(i)\n",
    "        \n",
    "print(\"even list\",even)\n",
    "print(\"odd  list\",odd)\n",
    "        "
   ]
  },
  {
   "cell_type": "markdown",
   "id": "495e4f46-a727-43d1-8712-7bfa47d2a0d0",
   "metadata": {},
   "source": [
    "# extend"
   ]
  },
  {
   "cell_type": "code",
   "execution_count": 9,
   "id": "a5ee3859-38fd-4eef-a01b-f0a99fab1bd3",
   "metadata": {},
   "outputs": [
    {
     "name": "stdout",
     "output_type": "stream",
     "text": [
      "[1, 3, 45, 6, 6, 2, 4, 5, 7]\n"
     ]
    }
   ],
   "source": [
    "ls1=[1,3,45,6,6]\n",
    "ls2=[2,4,5,7]\n",
    "ls1.extend(ls2)\n",
    "print(ls1)"
   ]
  },
  {
   "cell_type": "code",
   "execution_count": 4,
   "id": "135b360b-be59-4b03-951d-d912d174649f",
   "metadata": {},
   "outputs": [
    {
     "name": "stdout",
     "output_type": "stream",
     "text": [
      "[2, 5, 6, 77, 'anu', 'anuuu']\n"
     ]
    }
   ],
   "source": [
    "num=[2,5,6,77]\n",
    "name=[\"anu\",\"anuuu\"]\n",
    "num.extend(name)\n",
    "print(num)"
   ]
  },
  {
   "cell_type": "markdown",
   "id": "fa6d0de5-0938-4225-8d61-cfdf3f99a6d5",
   "metadata": {},
   "source": [
    "# insert"
   ]
  },
  {
   "cell_type": "code",
   "execution_count": 10,
   "id": "994d7a51-dfb3-453a-880a-36e0ce645428",
   "metadata": {},
   "outputs": [
    {
     "name": "stdout",
     "output_type": "stream",
     "text": [
      "['python', 'chakri', 12, 34, 54, 65, 5]\n"
     ]
    }
   ],
   "source": [
    "lss=[\"python\",12,34,54,65,5]\n",
    "lss.insert(1,\"chakri\")\n",
    "print(lss)"
   ]
  },
  {
   "cell_type": "code",
   "execution_count": 5,
   "id": "c0883593-d898-4ce3-bf53-ed376d7974c5",
   "metadata": {},
   "outputs": [
    {
     "name": "stdout",
     "output_type": "stream",
     "text": [
      "[45, 54, 'nit', 'kit', 'ro', 23, 56, 78, 6]\n"
     ]
    }
   ],
   "source": [
    "players=[45,54,\"nit\",\"kit\",23,56,78,6]\n",
    "players.insert(4,\"ro\")\n",
    "print(players)"
   ]
  },
  {
   "cell_type": "markdown",
   "id": "778aac11-7613-4b28-a622-069ac447a172",
   "metadata": {},
   "source": [
    "# remove"
   ]
  },
  {
   "cell_type": "code",
   "execution_count": 11,
   "id": "cca70308-9430-49b9-8dd4-c9ba217991c5",
   "metadata": {},
   "outputs": [
    {
     "name": "stdout",
     "output_type": "stream",
     "text": [
      "[22, 3, 43, 56, 44]\n"
     ]
    }
   ],
   "source": [
    "list11=[\"in\",22,3,43,56,44]\n",
    "list11.remove(\"in\")\n",
    "print(list11)\n",
    "        "
   ]
  },
  {
   "cell_type": "code",
   "execution_count": 12,
   "id": "c987d70c-25fb-4b86-8eef-2ae7f0d36ed1",
   "metadata": {},
   "outputs": [
    {
     "name": "stdout",
     "output_type": "stream",
     "text": [
      "item deletd\n"
     ]
    }
   ],
   "source": [
    "names=[\"math\",\"sci\",\"tel\",\"chem\"]\n",
    "val=\"tel\"\n",
    "if val in names:\n",
    "    names.remove(\"tel\")\n",
    "    print(\"item deletd\")\n",
    "else:\n",
    "    print(\"not deketed\")"
   ]
  },
  {
   "cell_type": "code",
   "execution_count": 9,
   "id": "4ae46ba7-1da8-48a9-8645-28e92f786b9e",
   "metadata": {},
   "outputs": [
    {
     "name": "stdout",
     "output_type": "stream",
     "text": [
      "not found\n"
     ]
    }
   ],
   "source": [
    "games=[\"koko\",\"cric\",\"footb\",\"chess\",\"read\"]\n",
    "del_item=\"rewq\"\n",
    "if del_item in games:\n",
    "    games.remove(\"read\")\n",
    "    print(\"deleted\")\n",
    "else:\n",
    "    print(\"not found\")"
   ]
  },
  {
   "cell_type": "markdown",
   "id": "7f80e29d-e9fd-4de5-b52e-9eb651635f11",
   "metadata": {},
   "source": [
    "# pop"
   ]
  },
  {
   "cell_type": "code",
   "execution_count": 1,
   "id": "ee7bddb5-23fd-4ce0-93ac-c7eecf2214b8",
   "metadata": {},
   "outputs": [
    {
     "name": "stdout",
     "output_type": "stream",
     "text": [
      "[12, 21, 23, 3, 78]\n"
     ]
    }
   ],
   "source": [
    "ls1=[12,21,23,3,33,78]\n",
    "ls1.pop(4)\n",
    "print(ls1)"
   ]
  },
  {
   "cell_type": "code",
   "execution_count": 13,
   "id": "1fc610e1-e4bc-4cb0-bd4d-b6e990e3803f",
   "metadata": {},
   "outputs": [
    {
     "name": "stdout",
     "output_type": "stream",
     "text": [
      "['nadel', 'jokovich', 'fedarer']\n",
      "['nadel', 'jokovich']\n"
     ]
    }
   ],
   "source": [
    "tennis=[\"nadel\",\"jokovich\",\"fedarer\",\"serena\"]\n",
    "tennis.pop(3)\n",
    "print(tennis)\n",
    "tennis.pop()\n",
    "print(tennis)"
   ]
  },
  {
   "cell_type": "markdown",
   "id": "dcd1ffc9-a9ee-4138-a440-1334085fb6f5",
   "metadata": {},
   "source": [
    "# clear"
   ]
  },
  {
   "cell_type": "code",
   "execution_count": 15,
   "id": "dd9a5566-94e0-4226-9b7d-9c818698c1ff",
   "metadata": {},
   "outputs": [
    {
     "name": "stdout",
     "output_type": "stream",
     "text": [
      "[]\n"
     ]
    }
   ],
   "source": [
    "lss=[34,44,54,56,65]\n",
    "lss.clear()\n",
    "print(lss)"
   ]
  },
  {
   "cell_type": "markdown",
   "id": "045007f7-72eb-4eb8-a591-c4733b666a49",
   "metadata": {},
   "source": [
    "# del keyword"
   ]
  },
  {
   "cell_type": "code",
   "execution_count": 20,
   "id": "e5de6ddf-e1f0-4724-b142-bf36daa12436",
   "metadata": {},
   "outputs": [
    {
     "name": "stdout",
     "output_type": "stream",
     "text": [
      "['math', 'sci', 'soci']\n"
     ]
    }
   ],
   "source": [
    "sub=[\"math\",\"sci\",\"ki\",\"soci\"]\n",
    "del sub[2]\n",
    "print(sub)"
   ]
  },
  {
   "cell_type": "markdown",
   "id": "531cd9db-2781-4f5e-8bea-97da37d3701d",
   "metadata": {},
   "source": [
    "# sort"
   ]
  },
  {
   "cell_type": "code",
   "execution_count": 24,
   "id": "6a7a5a04-1de8-41a2-ba55-120712091006",
   "metadata": {},
   "outputs": [
    {
     "name": "stdout",
     "output_type": "stream",
     "text": [
      "[2, 4, 5, 5, 6, 24, 33, 55]\n",
      "[55, 33, 24, 6, 5, 5, 4, 2]\n"
     ]
    }
   ],
   "source": [
    "num=[2,4,5,5,33,24,55,6]\n",
    "num.sort()\n",
    "print(list(num))\n",
    "num.sort(reverse=True)\n",
    "print(list(num))"
   ]
  },
  {
   "cell_type": "markdown",
   "id": "d3de638f-ee9e-4b93-983b-265de4cff5d1",
   "metadata": {},
   "source": [
    "# reverse"
   ]
  },
  {
   "cell_type": "code",
   "execution_count": 25,
   "id": "38a9d194-8b97-40f6-a405-71db25f88e9b",
   "metadata": {},
   "outputs": [
    {
     "name": "stdout",
     "output_type": "stream",
     "text": [
      "['pum', 'ora', 'banana', 'apple']\n"
     ]
    }
   ],
   "source": [
    "fruit=[\"apple\",\"banana\",\"ora\",\"pum\"]\n",
    "fruit.reverse()\n",
    "print(list(fruit))"
   ]
  },
  {
   "cell_type": "markdown",
   "id": "2201b575-0d50-4d06-8a35-2e060a7c7183",
   "metadata": {},
   "source": [
    "# index"
   ]
  },
  {
   "cell_type": "code",
   "execution_count": 28,
   "id": "ec9538e5-2fe7-4898-af8f-66d9bf7c6164",
   "metadata": {},
   "outputs": [
    {
     "name": "stdout",
     "output_type": "stream",
     "text": [
      "2\n"
     ]
    }
   ],
   "source": [
    "web=[\"html\",\"http\",\"js\",\"css\"]\n",
    "webb=web.index(\"js\")\n",
    "print(webb)\n"
   ]
  },
  {
   "cell_type": "markdown",
   "id": "5ab50b8f-e08d-4e7b-a949-36df98457a4c",
   "metadata": {},
   "source": [
    "# count"
   ]
  },
  {
   "cell_type": "code",
   "execution_count": 31,
   "id": "36285ea6-e982-4d24-bd56-3bd96d02adda",
   "metadata": {},
   "outputs": [
    {
     "data": {
      "text/plain": [
       "2"
      ]
     },
     "execution_count": 31,
     "metadata": {},
     "output_type": "execute_result"
    }
   ],
   "source": [
    "app=[\"coco\",\"goo\",\"goo\",\"google\"]\n",
    "app.count(\"goo\")"
   ]
  },
  {
   "cell_type": "markdown",
   "id": "ca153a32-76fe-4aec-a3aa-e5883c9c8a87",
   "metadata": {},
   "source": [
    "# len"
   ]
  },
  {
   "cell_type": "code",
   "execution_count": 32,
   "id": "86ce5ea3-e22d-4867-a573-5a72aa1ffd15",
   "metadata": {},
   "outputs": [
    {
     "name": "stdout",
     "output_type": "stream",
     "text": [
      "[5, 5, 12, 34, 67, 78, 876]\n"
     ]
    }
   ],
   "source": [
    "numbers=[12,34,5,5,78,67,876]\n",
    "num=sorted(numbers)\n",
    "print(num)"
   ]
  },
  {
   "cell_type": "markdown",
   "id": "eb4ad5bb-95bb-4563-a998-4c4adc43ca39",
   "metadata": {},
   "source": [
    "# sorteda"
   ]
  },
  {
   "cell_type": "code",
   "execution_count": 1,
   "id": "a371ba5b-3ebb-4966-b6a8-02a7acdebfbb",
   "metadata": {},
   "outputs": [
    {
     "name": "stdout",
     "output_type": "stream",
     "text": [
      "[3, 4, 5, 5, 54, 254, 554]\n"
     ]
    }
   ],
   "source": [
    "num=[4,5,3,5,254,554,54]\n",
    "num1=sorted(num)\n",
    "print(num1)"
   ]
  },
  {
   "cell_type": "markdown",
   "id": "2ac9cdba-2199-4da9-8d3f-94402720e927",
   "metadata": {},
   "source": [
    "# list comprehention"
   ]
  },
  {
   "cell_type": "code",
   "execution_count": 9,
   "id": "9ca99191-3d13-4879-a8f8-f71a7adfe88d",
   "metadata": {},
   "outputs": [
    {
     "name": "stdout",
     "output_type": "stream",
     "text": [
      "[0, 1, 4, 9, 16, 25, 36, 49, 64, 81]\n"
     ]
    }
   ],
   "source": [
    "sq=[]\n",
    "for i in range(0,10):\n",
    "    sq.append(i**2)\n",
    "print(sq)"
   ]
  },
  {
   "cell_type": "code",
   "execution_count": 3,
   "id": "71a766cc-ff4c-4e8e-911d-325a671190c7",
   "metadata": {},
   "outputs": [
    {
     "data": {
      "text/plain": [
       "[0, 1, 4, 9, 16, 25, 36, 49, 64, 81]"
      ]
     },
     "execution_count": 3,
     "metadata": {},
     "output_type": "execute_result"
    }
   ],
   "source": [
    "sq=[i**2 for i in range(0,10)]\n",
    "sq"
   ]
  },
  {
   "cell_type": "code",
   "execution_count": 7,
   "id": "8f71230d-1b12-4778-aa99-a475aa405570",
   "metadata": {},
   "outputs": [
    {
     "name": "stdout",
     "output_type": "stream",
     "text": [
      "[1, 8, 27, 64, 125, 216, 343, 512, 729, 1000, 1331, 1728, 2197, 2744, 3375, 4096, 4913, 5832, 6859]"
     ]
    }
   ],
   "source": [
    "cu=[i**3 for i in range(1,20)]\n",
    "print(cu,end=\"\")"
   ]
  },
  {
   "cell_type": "code",
   "execution_count": 2,
   "id": "60301df3-0614-45af-a7b4-480a7f239a03",
   "metadata": {},
   "outputs": [
    {
     "name": "stdout",
     "output_type": "stream",
     "text": [
      "['ANIL', 'ANI', 'ANU', 'ANO', 'ANA']\n"
     ]
    }
   ],
   "source": [
    "#create new list using existing list such that new list have all characters in upper case\n",
    "list1=[\"anil\",\"ani\",\"anu\",\"ano\",\"ana\"]\n",
    "upper=[]\n",
    "for i in list1:\n",
    "    upper.append(i.upper())\n",
    "print(upper)"
   ]
  },
  {
   "cell_type": "code",
   "execution_count": 3,
   "id": "6e60c424-26bb-40e3-83e6-7b7547fa69f9",
   "metadata": {},
   "outputs": [
    {
     "data": {
      "text/plain": [
       "['ANIL', 'ANI', 'ANU', 'ANO', 'ANA']"
      ]
     },
     "execution_count": 3,
     "metadata": {},
     "output_type": "execute_result"
    }
   ],
   "source": [
    "upper=[i.upper() for i in list1]\n",
    "upper"
   ]
  },
  {
   "cell_type": "code",
   "execution_count": 7,
   "id": "7c4242b8-c1ff-4671-90db-98db0958bbcf",
   "metadata": {},
   "outputs": [
    {
     "name": "stdout",
     "output_type": "stream",
     "text": [
      "['even', 'even', 'odd', 'odd', 'odd', 'even', 'even']\n"
     ]
    }
   ],
   "source": [
    "#### Categorize Numbers as \"Even\" or \"Odd\"\n",
    "num=[4,6,3,45,65,66,78]\n",
    "label=[]\n",
    "for i in num:\n",
    "    if i%2==0:\n",
    "        label.append(\"even\")\n",
    "    else:\n",
    "        label.append(\"odd\")\n",
    "print(label)"
   ]
  },
  {
   "cell_type": "code",
   "execution_count": 8,
   "id": "3871b623-2682-4f1d-a6a4-cbd4c1476feb",
   "metadata": {},
   "outputs": [
    {
     "data": {
      "text/plain": [
       "['even', 'even', 'odd', 'odd', 'odd', 'even', 'even']"
      ]
     },
     "execution_count": 8,
     "metadata": {},
     "output_type": "execute_result"
    }
   ],
   "source": [
    "label=[\"even\" if i%2==0 else \"odd\" for i in num]\n",
    "label"
   ]
  },
  {
   "cell_type": "code",
   "execution_count": null,
   "id": "1de78ae9-1177-4a9d-9b7a-a83864f17395",
   "metadata": {},
   "outputs": [],
   "source": [
    "#### Filtering positive numbers from a list:"
   ]
  },
  {
   "cell_type": "code",
   "execution_count": 9,
   "id": "ddecde35-bac5-4e93-916f-75c2a1bcf0ea",
   "metadata": {},
   "outputs": [
    {
     "name": "stdout",
     "output_type": "stream",
     "text": [
      "[3, 5, 3, 43]\n"
     ]
    }
   ],
   "source": [
    "integers=[-3,3,-4,5,3,-6,-6,43,-65]\n",
    "pos=[]\n",
    "for i in integers:\n",
    "    if i>0:\n",
    "        pos.append(i)\n",
    "print(pos)"
   ]
  },
  {
   "cell_type": "code",
   "execution_count": 13,
   "id": "622a8c57-69a2-49c2-a56b-2e9668b1ed39",
   "metadata": {},
   "outputs": [
    {
     "data": {
      "text/plain": [
       "[3, 5, 3, 43]"
      ]
     },
     "execution_count": 13,
     "metadata": {},
     "output_type": "execute_result"
    }
   ],
   "source": [
    "pos=[i for i in integers if i>0]\n",
    "pos\n"
   ]
  },
  {
   "cell_type": "markdown",
   "id": "91640a45-6efa-48e7-a76c-b8e8b8dcfc82",
   "metadata": {},
   "source": [
    "# tuple"
   ]
  },
  {
   "cell_type": "code",
   "execution_count": 14,
   "id": "03085c2f-4edf-4202-b76e-495a3839678a",
   "metadata": {},
   "outputs": [
    {
     "name": "stdout",
     "output_type": "stream",
     "text": [
      "<class 'type'>\n"
     ]
    }
   ],
   "source": [
    "#creation of tuple\n",
    "tuple1=(2,4,5,6,78,9)\n",
    "print(type(tuple))"
   ]
  },
  {
   "cell_type": "code",
   "execution_count": 15,
   "id": "3b7942f4-bff6-4dbe-b6ff-9f378c76b6bc",
   "metadata": {},
   "outputs": [
    {
     "name": "stdout",
     "output_type": "stream",
     "text": [
      "[45, 'rty', 54, 6, 'kjh']\n",
      "(45, 'rty', 54, 6, 'kjh')\n"
     ]
    }
   ],
   "source": [
    "#from list\n",
    "list11=[45,\"rty\",54,6,\"kjh\"]\n",
    "print(list11)\n",
    "tuple1=tuple(list11)\n",
    "print(tuple1)\n"
   ]
  },
  {
   "cell_type": "code",
   "execution_count": 16,
   "id": "c05181ef-791f-4e9b-9d61-df53ed5485e1",
   "metadata": {},
   "outputs": [
    {
     "name": "stdout",
     "output_type": "stream",
     "text": [
      "('r', 'o', 'h', 'i', 't')\n"
     ]
    }
   ],
   "source": [
    "#from dtring\n",
    "string=\"rohit\"\n",
    "new_str=tuple(string)\n",
    "print(new_str)"
   ]
  },
  {
   "cell_type": "code",
   "execution_count": 20,
   "id": "e1e4d63b-059f-463d-963e-e4ee495809f3",
   "metadata": {},
   "outputs": [
    {
     "data": {
      "text/plain": [
       "(0, 1, 2, 3, 4, 5)"
      ]
     },
     "execution_count": 20,
     "metadata": {},
     "output_type": "execute_result"
    }
   ],
   "source": [
    "#from a range\n",
    "tup=range(6)\n",
    "new_tup=tuple(tup)\n",
    "new_tup"
   ]
  },
  {
   "cell_type": "code",
   "execution_count": 21,
   "id": "d2ddf9a3-69d0-4b5b-93f5-3319982d97f3",
   "metadata": {},
   "outputs": [
    {
     "name": "stdout",
     "output_type": "stream",
     "text": [
      "ihu\n"
     ]
    }
   ],
   "source": [
    "#accessing elements\n",
    "tup1=(\"fgrt\",\"jhyt\",\"ihu\",\"jcvbj\")\n",
    "print(tup1[2])"
   ]
  },
  {
   "cell_type": "markdown",
   "id": "c1acbea4-038d-4206-8b12-a6a94fd008c0",
   "metadata": {},
   "source": [
    "# count"
   ]
  },
  {
   "cell_type": "code",
   "execution_count": 2,
   "id": "cbab6ad8-380d-4325-9060-1c7fbfa328ca",
   "metadata": {},
   "outputs": [
    {
     "name": "stdout",
     "output_type": "stream",
     "text": [
      "1\n"
     ]
    }
   ],
   "source": [
    "tuple1=(\"a\",\"c\",\"a\",\"p\",\"q\")\n",
    "newtup=tuple1.count(\"q\")\n",
    "print(newtup)"
   ]
  },
  {
   "cell_type": "code",
   "execution_count": 17,
   "id": "68e847f7-95f7-4509-a207-5d2436b8556b",
   "metadata": {},
   "outputs": [
    {
     "name": "stdout",
     "output_type": "stream",
     "text": [
      "1\n"
     ]
    }
   ],
   "source": [
    "newtup1=tuple1.index(\"c\")\n",
    "print(newtup1)"
   ]
  },
  {
   "cell_type": "markdown",
   "id": "5369d3b6-97a0-429a-86d4-d795d9312c90",
   "metadata": {},
   "source": [
    "# len()"
   ]
  },
  {
   "cell_type": "code",
   "execution_count": 3,
   "id": "6c00479f-348c-432c-b344-ab61c8fb8ad1",
   "metadata": {},
   "outputs": [
    {
     "name": "stdout",
     "output_type": "stream",
     "text": [
      "10\n"
     ]
    }
   ],
   "source": [
    "tup2=(\"jg\",3,5,6,4,6,3,5,6,8)\n",
    "print(len(tup2))"
   ]
  },
  {
   "cell_type": "markdown",
   "id": "d90725f8-c71b-4bc8-95a8-d233f704f93e",
   "metadata": {},
   "source": [
    "# max()"
   ]
  },
  {
   "cell_type": "code",
   "execution_count": 5,
   "id": "41068d75-f1f6-4734-a48d-68cb1dace2be",
   "metadata": {},
   "outputs": [
    {
     "name": "stdout",
     "output_type": "stream",
     "text": [
      "677\n"
     ]
    }
   ],
   "source": [
    "tup1=(12,4,3,56,75,5,543,677,2)\n",
    "maximum=max(tup1)\n",
    "print(maximum)"
   ]
  },
  {
   "cell_type": "markdown",
   "id": "60914bf7-b219-479f-ac0e-378012f21d70",
   "metadata": {},
   "source": [
    "# min()"
   ]
  },
  {
   "cell_type": "code",
   "execution_count": 14,
   "id": "3f13c1fa-e495-48f4-9931-9ce0f5890e98",
   "metadata": {},
   "outputs": [
    {
     "name": "stdout",
     "output_type": "stream",
     "text": [
      "1\n"
     ]
    }
   ],
   "source": [
    "tup1=(3,4,5,33,1)\n",
    "minimum=min(tup1)\n",
    "print(minimum)"
   ]
  },
  {
   "cell_type": "markdown",
   "id": "283b0263-466f-4d5b-8fcb-0c117b766687",
   "metadata": {},
   "source": [
    "# sum()"
   ]
  },
  {
   "cell_type": "code",
   "execution_count": 15,
   "id": "d50cb0a7-16d4-469c-9fc1-db40b6457d4b",
   "metadata": {},
   "outputs": [
    {
     "name": "stdout",
     "output_type": "stream",
     "text": [
      "319\n"
     ]
    }
   ],
   "source": [
    "tup=(3,5,64,5,66,78,98)\n",
    "add=sum(tup)\n",
    "print(add)"
   ]
  },
  {
   "cell_type": "markdown",
   "id": "fdd07627-a909-4b3b-93db-87f3c86e3f5f",
   "metadata": {},
   "source": [
    "# sorted()"
   ]
  },
  {
   "cell_type": "code",
   "execution_count": 16,
   "id": "b8660a62-fc0d-4031-83e8-ae1fbcc14f59",
   "metadata": {},
   "outputs": [
    {
     "name": "stdout",
     "output_type": "stream",
     "text": [
      "[4, 4, 5, 6, 9, 32, 45, 65, 88, 655]\n"
     ]
    }
   ],
   "source": [
    "tuple12=(4,6,4,5,655,32,45,65,88,9)\n",
    "new=sorted(tuple12)\n",
    "print(new)"
   ]
  },
  {
   "cell_type": "markdown",
   "id": "7d540634-139d-444c-9747-6b9c5e46590c",
   "metadata": {},
   "source": [
    "# Ways to update tuple"
   ]
  },
  {
   "cell_type": "markdown",
   "id": "5212d572-f4b6-4d27-8d06-7ac4f4236a72",
   "metadata": {},
   "source": [
    "# Converting to a List, Modifying, and Converting Back"
   ]
  },
  {
   "cell_type": "code",
   "execution_count": 19,
   "id": "26bc12a4-cccc-48df-8ca7-1ef36d04980c",
   "metadata": {},
   "outputs": [
    {
     "name": "stdout",
     "output_type": "stream",
     "text": [
      "[2, 45, 6, 'me']\n",
      "[2, 45, 6, 'me', 'we']\n",
      "(2, 45, 6, 'me', 'we')\n"
     ]
    }
   ],
   "source": [
    "tup1=(2,45,6,\"me\")\n",
    "mylist=list(tup1)\n",
    "print(mylist)\n",
    "mylist.append(\"we\")\n",
    "print(mylist)\n",
    "tup1=tuple(mylist)\n",
    "print(tup1)"
   ]
  },
  {
   "cell_type": "markdown",
   "id": "09420c76-c438-403b-9e8e-067f34b8bcfd",
   "metadata": {},
   "source": [
    "# Concatenation: You can combine two or more tuples to create a new tuple."
   ]
  },
  {
   "cell_type": "code",
   "execution_count": 20,
   "id": "49900769-e949-4699-a7e2-812637073f6e",
   "metadata": {},
   "outputs": [
    {
     "name": "stdout",
     "output_type": "stream",
     "text": [
      "(1, 4, 56, 4, 4, 5, 6, 7)\n"
     ]
    }
   ],
   "source": [
    "tup=(1,4,56,4)\n",
    "tup1=(4,5,6,7)\n",
    "tup2=tup+tup1\n",
    "print(tup2)"
   ]
  },
  {
   "cell_type": "code",
   "execution_count": 21,
   "id": "34793f91-1204-4515-8a7c-ba2eabc06026",
   "metadata": {},
   "outputs": [
    {
     "name": "stdout",
     "output_type": "stream",
     "text": [
      "(1, 3, 3, 45, 5, 'hi', 'hlo', 'hh')\n"
     ]
    }
   ],
   "source": [
    "tup=(1,3,3,45,5)\n",
    "tup1=(\"hi\",\"hlo\",\"hh\")\n",
    "tup2=tup+tup1\n",
    "print(tup2)"
   ]
  },
  {
   "cell_type": "code",
   "execution_count": 22,
   "id": "585a3239-5782-4c6c-a5b1-3eedb56fef29",
   "metadata": {},
   "outputs": [
    {
     "name": "stdout",
     "output_type": "stream",
     "text": [
      "(23, 'fer', 'hyt', 43, 'lik')\n"
     ]
    }
   ],
   "source": [
    "tup=(23,\"fer\",\"hyt\",43)\n",
    "tup1=(\"lik\",)\n",
    "tup2=tup+tup1\n",
    "print(tup2)"
   ]
  },
  {
   "cell_type": "markdown",
   "id": "b3b2e2a1-e528-4e30-ac78-13be72e9e3b6",
   "metadata": {},
   "source": [
    "#Question: Create a tuple named student_info containing the student's name (string), age (integer), and grade (float). Then, access and print each element of the tuple using its index."
   ]
  },
  {
   "cell_type": "code",
   "execution_count": 23,
   "id": "16dbaa5a-703b-4eef-b887-f013b8c0eb5a",
   "metadata": {},
   "outputs": [
    {
     "name": "stdout",
     "output_type": "stream",
     "text": [
      "student name: chaitan\n",
      "age: 23\n",
      "grade: 4.1\n"
     ]
    }
   ],
   "source": [
    "student_info=(\"chaitan\",23,4.1)\n",
    "print(\"student name:\",student_info[0])\n",
    "print(\"age:\",student_info[1])\n",
    "print(\"grade:\",student_info[2])"
   ]
  },
  {
   "cell_type": "markdown",
   "id": "98558858-1fc8-4216-bcae-73d92e011f26",
   "metadata": {},
   "source": [
    "# Question: You have two tuples, tuple1 = (1, 2, 3) and tuple2 = ('a', 'b', 'c'). Concatenate these two tuples to create a new tuple named combined_tuple and print it."
   ]
  },
  {
   "cell_type": "code",
   "execution_count": 25,
   "id": "fc495a9c-d288-4ad1-810c-73c791ddc730",
   "metadata": {},
   "outputs": [
    {
     "name": "stdout",
     "output_type": "stream",
     "text": [
      "(1, 2, 3, 'a', 'b', 'c')\n"
     ]
    }
   ],
   "source": [
    "tuple1=(1,2,3)\n",
    "tuple2=('a','b','c')\n",
    "combined_tuple=tuple1+tuple2\n",
    "print(combined_tuple)"
   ]
  },
  {
   "cell_type": "markdown",
   "id": "125d6f23-ace0-4d08-bd82-2ae223364708",
   "metadata": {},
   "source": [
    "# Question:Given a tuple data = (5, 10, 5, 15, 20, 5), find the length of the tuple and the number of times the value 5 appears in it. Print both results."
   ]
  },
  {
   "cell_type": "code",
   "execution_count": 26,
   "id": "d4fa513d-32fc-448b-92e7-2ff3b148d5f7",
   "metadata": {},
   "outputs": [
    {
     "name": "stdout",
     "output_type": "stream",
     "text": [
      "length of the tuple: 6\n",
      "3 number of times 5 appears in it\n"
     ]
    }
   ],
   "source": [
    "tup=(5,10,5,15,20,5)\n",
    "length=len(tup)\n",
    "print(\"length of the tuple:\",length)\n",
    "count=tup.count(5)\n",
    "print(count,\"number of times 5 appears in it\")"
   ]
  },
  {
   "cell_type": "markdown",
   "id": "0b3a38f4-799f-4227-bfd1-f12402098f3a",
   "metadata": {},
   "source": [
    "# Question: Write a program that takes an element as input and checks if it exists in the tuple fruits = ('apple', 'banana', 'cherry'). Print \"Element found\" if it exists, and \"Element not found\" otherwise.\n"
   ]
  },
  {
   "cell_type": "code",
   "execution_count": 32,
   "id": "1abbfdec-1efe-4e28-8eba-902f9ace6b5b",
   "metadata": {},
   "outputs": [
    {
     "name": "stdin",
     "output_type": "stream",
     "text": [
      "enter your element: banana\n"
     ]
    },
    {
     "name": "stdout",
     "output_type": "stream",
     "text": [
      "element found\n"
     ]
    }
   ],
   "source": [
    "element=input(\"enter your element:\")\n",
    "fruits=('apple','banana','cherry')\n",
    "if element in fruits:\n",
    "     print(\"element found\")\n",
    "else:\n",
    "     print(\"element not found\")"
   ]
  },
  {
   "cell_type": "markdown",
   "id": "c8d26e1c-8b27-4cae-8306-f7420d1e2ba2",
   "metadata": {},
   "source": [
    "# shallow copy"
   ]
  },
  {
   "cell_type": "code",
   "execution_count": 6,
   "id": "b50e9efe-41cd-4757-a2f2-fd7d7883aee9",
   "metadata": {},
   "outputs": [
    {
     "name": "stdout",
     "output_type": "stream",
     "text": [
      "original list: [1, 3, 4, [5, 2, 45, 5]]\n",
      "shollow list: [1, 3, 4, [5, 2, 45, 5]]\n",
      "original list after updating: [1, 3, 'str', [5, 2, 45, 5]]\n",
      "shallow list : [1, 3, 4, [5, 2, 45, 5]]\n",
      "original list: [1, 3, 'str', [5, 12, 45, 5]]\n",
      "shallow list: [1, 3, 4, [5, 12, 45, 5]]\n"
     ]
    }
   ],
   "source": [
    "org_list=[1,3,4,[5,2,45,5]]\n",
    "shallow_list=org_list.copy()\n",
    "print(\"original list:\",org_list)\n",
    "print(\"shollow list:\",shallow_list)\n",
    "org_list[2]=\"str\"\n",
    "print(\"original list after updating:\",org_list)\n",
    "print(\"shallow list :\",shallow_list)\n",
    "org_list[3][1]=12\n",
    "print(\"original list:\",org_list)\n",
    "print(\"shallow list:\",shallow_list)"
   ]
  },
  {
   "cell_type": "markdown",
   "id": "63677dd5-a379-4073-b80a-458f7d3da9b1",
   "metadata": {},
   "source": [
    "# deep copy"
   ]
  },
  {
   "cell_type": "code",
   "execution_count": 9,
   "id": "fba9d2ea-37fe-4560-8db6-bc3f8b4f85d2",
   "metadata": {},
   "outputs": [
    {
     "name": "stdout",
     "output_type": "stream",
     "text": [
      "original list: [12, 3, 4, 5, [6, 4, 56, 65]]\n",
      "deep list: [12, 3, 4, 5, [6, 4, 56, 65]]\n",
      "original list: [12, 3, 4, 21, [6, 4, 56, 65]]\n",
      "deep list: [12, 3, 4, 5, [6, 4, 56, 65]]\n",
      "original list: [12, 3, 4, 21, [6, 4, 'dfg', 65]]\n",
      "deep list: [12, 3, 4, 5, [6, 4, 56, 65]]\n"
     ]
    }
   ],
   "source": [
    "import copy\n",
    "org_list=[12,3,4,5,[6,4,56,65]]\n",
    "deep_list=copy.deepcopy(org_list)\n",
    "print(\"original list:\",org_list)\n",
    "print(\"deep list:\",deep_list)\n",
    "org_list[3]=21\n",
    "print(\"original list:\",org_list)\n",
    "print(\"deep list:\",deep_list)\n",
    "org_list[4][2]=\"dfg\"\n",
    "print(\"original list:\",org_list)\n",
    "print(\"deep list:\",deep_list)\n",
    "\n",
    "          "
   ]
  },
  {
   "cell_type": "code",
   "execution_count": 4,
   "id": "6cb1ca8a-41bb-4237-ac19-ceae788c5d3f",
   "metadata": {},
   "outputs": [
    {
     "name": "stdout",
     "output_type": "stream",
     "text": [
      "rohit\n"
     ]
    }
   ],
   "source": [
    "# join()\n",
    "list1=['r','o','h','i','t']\n",
    "string_from_list=\"\".join(list1)\n",
    "print(string_from_list)"
   ]
  },
  {
   "cell_type": "code",
   "execution_count": 7,
   "id": "424fcd5f-07b3-498a-82fc-ec039b7a8ce6",
   "metadata": {},
   "outputs": [
    {
     "name": "stdout",
     "output_type": "stream",
     "text": [
      "['pythonis ', ' progr', 'mmingl', 'ngu', 'ge']\n"
     ]
    }
   ],
   "source": [
    "# split()\n",
    "string1=\"pythonis a programminglanguage\"\n",
    "list_from_string=string1.split(\"a\")\n",
    "print(list_from_string)"
   ]
  },
  {
   "cell_type": "markdown",
   "id": "bb1f2d35-69b8-4368-870a-7b19291dfaf6",
   "metadata": {},
   "source": [
    "# set"
   ]
  },
  {
   "cell_type": "code",
   "execution_count": 8,
   "id": "64d0826f-8fdb-4c25-a7b4-dd114782e38c",
   "metadata": {},
   "outputs": [
    {
     "data": {
      "text/plain": [
       "set"
      ]
     },
     "execution_count": 8,
     "metadata": {},
     "output_type": "execute_result"
    }
   ],
   "source": [
    "set1={2,3,4,5,6}\n",
    "type(set1)"
   ]
  },
  {
   "cell_type": "code",
   "execution_count": 4,
   "id": "babac5e5-2901-46c3-8132-c07cb7b094a9",
   "metadata": {},
   "outputs": [
    {
     "name": "stdout",
     "output_type": "stream",
     "text": [
      "2\n",
      "5\n",
      "4\n",
      "four\n"
     ]
    }
   ],
   "source": [
    "num={2,4,5,\"four\"}\n",
    "for i in num:\n",
    "    print(i)"
   ]
  },
  {
   "cell_type": "code",
   "execution_count": 6,
   "id": "9ab10062-5fa2-44f3-8e6a-7d400698c9cc",
   "metadata": {},
   "outputs": [
    {
     "name": "stdout",
     "output_type": "stream",
     "text": [
      "element present\n"
     ]
    }
   ],
   "source": [
    "if \"four\" in num:\n",
    "    print(\"element present\")"
   ]
  },
  {
   "cell_type": "markdown",
   "id": "7e62ec69-3a21-4223-bcbb-a0bd2bf4df5e",
   "metadata": {},
   "source": [
    "# set functions"
   ]
  },
  {
   "cell_type": "code",
   "execution_count": 14,
   "id": "ffba4688-2956-410c-923c-f9e728ad577f",
   "metadata": {},
   "outputs": [
    {
     "name": "stdout",
     "output_type": "stream",
     "text": [
      "{65, 1, 3, 4, 5}\n"
     ]
    }
   ],
   "source": [
    "#add()\n",
    "tuple1={1,3,4,5,65}\n",
    "tuple1.add(3)\n",
    "print(tuple1)"
   ]
  },
  {
   "cell_type": "code",
   "execution_count": 15,
   "id": "4fa601b8-217c-4269-a887-f85a33ace0c0",
   "metadata": {},
   "outputs": [
    {
     "name": "stdout",
     "output_type": "stream",
     "text": [
      "{1, 'apple', 3, 6, 8, 'dfg', 12, 22, 34, 45}\n"
     ]
    }
   ],
   "source": [
    "#update()\n",
    "fruits={\"apple\",\"dfg\",12,34,22}\n",
    "fruits.update([1,3,45,6,8])\n",
    "print(fruits)"
   ]
  },
  {
   "cell_type": "code",
   "execution_count": 16,
   "id": "f645948b-fde6-4b35-aebd-9f730e5b4325",
   "metadata": {},
   "outputs": [
    {
     "name": "stdout",
     "output_type": "stream",
     "text": [
      "{3, 4, 5, 6, 'name', 'ro', 'ram'}\n"
     ]
    }
   ],
   "source": [
    "#remove()\n",
    "names={\"name\",\"ram\",\"kl\",\"ro\",3,4,5,6}\n",
    "names.remove(\"kl\")\n",
    "print(names)"
   ]
  },
  {
   "cell_type": "code",
   "execution_count": 17,
   "id": "1d89cee6-4fba-4d8f-a355-52b137e256c9",
   "metadata": {},
   "outputs": [
    {
     "ename": "KeyError",
     "evalue": "1",
     "output_type": "error",
     "traceback": [
      "\u001b[1;31m---------------------------------------------------------------------------\u001b[0m",
      "\u001b[1;31mKeyError\u001b[0m                                  Traceback (most recent call last)",
      "Cell \u001b[1;32mIn[17], line 1\u001b[0m\n\u001b[1;32m----> 1\u001b[0m names\u001b[38;5;241m.\u001b[39mremove(\u001b[38;5;241m1\u001b[39m)\n\u001b[0;32m      2\u001b[0m \u001b[38;5;28mprint\u001b[39m(names)\n",
      "\u001b[1;31mKeyError\u001b[0m: 1"
     ]
    }
   ],
   "source": [
    "names.remove(1)\n",
    "print(names)"
   ]
  },
  {
   "cell_type": "code",
   "execution_count": 19,
   "id": "653c843d-8b66-4eb2-8582-d68b405b2596",
   "metadata": {},
   "outputs": [
    {
     "name": "stdout",
     "output_type": "stream",
     "text": [
      "{'ms', 'ram', 'rana', 'raina'}\n"
     ]
    }
   ],
   "source": [
    "#discard()\n",
    "players={\"ram\",\"rana\",\"raina\",\"ms\"}\n",
    "players.discard(\"md\")\n",
    "print(players)"
   ]
  },
  {
   "cell_type": "code",
   "execution_count": 22,
   "id": "6d485307-0db9-48fd-b23b-f107d28441c8",
   "metadata": {},
   "outputs": [
    {
     "name": "stdout",
     "output_type": "stream",
     "text": [
      "{2, 3, 4, 5}\n"
     ]
    }
   ],
   "source": [
    "#pop()\n",
    "items={\"cot\",3,4,5,2}\n",
    "items.pop()\n",
    "print(items)"
   ]
  },
  {
   "cell_type": "code",
   "execution_count": 24,
   "id": "59f2a8f1-8063-42a1-af5e-50b5bce0ee51",
   "metadata": {},
   "outputs": [
    {
     "name": "stdout",
     "output_type": "stream",
     "text": [
      "set()\n"
     ]
    }
   ],
   "source": [
    "#clear()\n",
    "items.clear()\n",
    "print(items)"
   ]
  },
  {
   "cell_type": "code",
   "execution_count": 27,
   "id": "622d7af2-d679-4f5b-a42b-2e24acc403de",
   "metadata": {},
   "outputs": [
    {
     "name": "stdout",
     "output_type": "stream",
     "text": [
      "{9, 87}\n"
     ]
    }
   ],
   "source": [
    "#difference\n",
    "set1={\"hi\",\"hlo\",3,4,5,6}\n",
    "set2={\"hlo\",4,6,87,9}\n",
    "set3=set2.difference(set1)\n",
    "print(set3)"
   ]
  },
  {
   "cell_type": "code",
   "execution_count": 30,
   "id": "1a562d95-8ca5-4139-b3b7-f856b991dab8",
   "metadata": {},
   "outputs": [
    {
     "name": "stdout",
     "output_type": "stream",
     "text": [
      "{'sy', 86, 'sye'}\n"
     ]
    }
   ],
   "source": [
    "#symmetric_difference()\n",
    "set1={\"sye\",4,6,7,86}\n",
    "set2={\"sy\",4,6,7}\n",
    "new=set2.symmetric_difference(set1)\n",
    "print(new)"
   ]
  },
  {
   "cell_type": "code",
   "execution_count": 33,
   "id": "578475f9-3561-4900-b642-40343b53b753",
   "metadata": {},
   "outputs": [
    {
     "name": "stdout",
     "output_type": "stream",
     "text": [
      "{3, 4, 5, 6, 7, 8, 'jai'}\n"
     ]
    }
   ],
   "source": [
    "#union()\n",
    "set1={3,5,6,\"jai\"}\n",
    "set2={4,6,7,8}\n",
    "set3=set1.union(set2)\n",
    "print(set3)"
   ]
  },
  {
   "cell_type": "code",
   "execution_count": 36,
   "id": "4b81e0c2-6f2b-4f81-a89b-7b72630d3088",
   "metadata": {},
   "outputs": [
    {
     "name": "stdout",
     "output_type": "stream",
     "text": [
      "{8}\n"
     ]
    }
   ],
   "source": [
    "#intersection()\n",
    "set1={2,4,6,8,10}\n",
    "set2={1,3,5,8,9}\n",
    "set3=set1.intersection(set2)\n",
    "print(set3)"
   ]
  },
  {
   "cell_type": "code",
   "execution_count": 38,
   "id": "7294e0ea-21e2-4a1e-9820-f628f86093c7",
   "metadata": {},
   "outputs": [
    {
     "data": {
      "text/plain": [
       "True"
      ]
     },
     "execution_count": 38,
     "metadata": {},
     "output_type": "execute_result"
    }
   ],
   "source": [
    "#issubset()\n",
    "set1={2,4,3,5,7,6}\n",
    "set2={3,4,6}\n",
    "set2.issubset(set1)"
   ]
  },
  {
   "cell_type": "code",
   "execution_count": 39,
   "id": "0a86fbee-7aeb-41af-a7ff-09fbcc8f8134",
   "metadata": {},
   "outputs": [
    {
     "data": {
      "text/plain": [
       "False"
      ]
     },
     "execution_count": 39,
     "metadata": {},
     "output_type": "execute_result"
    }
   ],
   "source": [
    "#issuperset()\n",
    "set1={1,3,4,5,7,8,9}\n",
    "set2={3,6,7}\n",
    "set1.issuperset(set2)"
   ]
  },
  {
   "cell_type": "code",
   "execution_count": 40,
   "id": "d9c6c9d6-de69-446d-8e26-5d4216fb6ba2",
   "metadata": {},
   "outputs": [
    {
     "data": {
      "text/plain": [
       "True"
      ]
     },
     "execution_count": 40,
     "metadata": {},
     "output_type": "execute_result"
    }
   ],
   "source": [
    "#isdisjoint()\n",
    "set1={1,3,5,7,9}\n",
    "set2={2,4,6,8,20}\n",
    "set1.isdisjoint(set2)"
   ]
  },
  {
   "cell_type": "markdown",
   "id": "a9e2412b-0264-463f-a72f-2873000386c2",
   "metadata": {},
   "source": [
    "# frozen sets"
   ]
  },
  {
   "cell_type": "code",
   "execution_count": 42,
   "id": "d92b764a-815a-4712-a4ff-a26368502bef",
   "metadata": {},
   "outputs": [
    {
     "data": {
      "text/plain": [
       "frozenset"
      ]
     },
     "execution_count": 42,
     "metadata": {},
     "output_type": "execute_result"
    }
   ],
   "source": [
    "fs1=frozenset({1,4,5,6,7})\n",
    "type(fs1)"
   ]
  },
  {
   "cell_type": "code",
   "execution_count": 44,
   "id": "d2f01521-05be-494b-8288-8f5935adf907",
   "metadata": {},
   "outputs": [
    {
     "name": "stdout",
     "output_type": "stream",
     "text": [
      "frozenset({2, 4, 6, 7})\n"
     ]
    }
   ],
   "source": [
    "list1=[2,4,6,7]\n",
    "fs1=frozenset(list1)\n",
    "print(fs1)"
   ]
  },
  {
   "cell_type": "code",
   "execution_count": 45,
   "id": "1b0850b1-6c44-4681-aa02-50d80d1086d0",
   "metadata": {},
   "outputs": [
    {
     "data": {
      "text/plain": [
       "frozenset({3, 4, 'hi', 'hlo'})"
      ]
     },
     "execution_count": 45,
     "metadata": {},
     "output_type": "execute_result"
    }
   ],
   "source": [
    "tup=(\"hi\",\"hlo\",3,4)\n",
    "fs1=frozenset(tup)\n",
    "fs1"
   ]
  },
  {
   "cell_type": "code",
   "execution_count": 46,
   "id": "169c4ac5-b790-4678-a390-2c5d84d0da88",
   "metadata": {},
   "outputs": [
    {
     "data": {
      "text/plain": [
       "frozenset({'h', 'i', 'o', 'r', 't'})"
      ]
     },
     "execution_count": 46,
     "metadata": {},
     "output_type": "execute_result"
    }
   ],
   "source": [
    "string=\"rohit\"\n",
    "fs1=frozenset(string)\n",
    "fs1"
   ]
  },
  {
   "cell_type": "code",
   "execution_count": 50,
   "id": "0f8fde46-9337-47ea-a228-8a5768eb830a",
   "metadata": {},
   "outputs": [
    {
     "name": "stdout",
     "output_type": "stream",
     "text": [
      "1 3 4 5 6 "
     ]
    }
   ],
   "source": [
    "fs1=frozenset({1,3,4,5,6})\n",
    "for i in fs1:\n",
    "    print(i,end=\" \")"
   ]
  },
  {
   "cell_type": "markdown",
   "id": "44611d8a-0a04-4011-aaff-9d97ac5d2ec1",
   "metadata": {},
   "source": [
    "# frozenset functions"
   ]
  },
  {
   "cell_type": "code",
   "execution_count": 53,
   "id": "cc875573-b406-4b58-ba25-a873e124d89e",
   "metadata": {},
   "outputs": [
    {
     "data": {
      "text/plain": [
       "frozenset({3, 5, 6, 8, 9})"
      ]
     },
     "execution_count": 53,
     "metadata": {},
     "output_type": "execute_result"
    }
   ],
   "source": [
    "#copy()\n",
    "fs1=frozenset({3,5,6,8,9})\n",
    "fs1.copy()\n",
    "fs1"
   ]
  },
  {
   "cell_type": "code",
   "execution_count": 54,
   "id": "5a98dd36-ef16-4ba4-a33a-92511987a9d6",
   "metadata": {},
   "outputs": [
    {
     "data": {
      "text/plain": [
       "frozenset({3, 4, 5, 6, 7, 8})"
      ]
     },
     "execution_count": 54,
     "metadata": {},
     "output_type": "execute_result"
    }
   ],
   "source": [
    "#union\n",
    "fs1=frozenset({3,5,6,7})\n",
    "fs2=frozenset({3,4,6,8})\n",
    "fs3=fs1.union(fs2)\n",
    "fs3"
   ]
  },
  {
   "cell_type": "code",
   "execution_count": 55,
   "id": "8f6e35e7-963d-4bb8-85f7-00d07f101c41",
   "metadata": {},
   "outputs": [
    {
     "data": {
      "text/plain": [
       "{4, 86}"
      ]
     },
     "execution_count": 55,
     "metadata": {},
     "output_type": "execute_result"
    }
   ],
   "source": [
    "#intersection()\n",
    "fs1=frozenset({4,66,74,86})\n",
    "set1={4,65,67,86}\n",
    "fs2=set1.intersection(fs1)\n",
    "fs2"
   ]
  },
  {
   "cell_type": "code",
   "execution_count": 56,
   "id": "dab66d4b-246a-48e3-9846-ea82aeac1fcf",
   "metadata": {},
   "outputs": [
    {
     "data": {
      "text/plain": [
       "{3, 5, 7, 56}"
      ]
     },
     "execution_count": 56,
     "metadata": {},
     "output_type": "execute_result"
    }
   ],
   "source": [
    "#difference()\n",
    "fs1=({3,5,7,44,56})\n",
    "set1={4,6,87,44}\n",
    "fs2=fs1.difference(set1)\n",
    "fs2"
   ]
  },
  {
   "cell_type": "code",
   "execution_count": 57,
   "id": "fa46dfcf-3756-4afd-ad2c-ff8c55235af5",
   "metadata": {},
   "outputs": [
    {
     "data": {
      "text/plain": [
       "frozenset({3, 43, 89})"
      ]
     },
     "execution_count": 57,
     "metadata": {},
     "output_type": "execute_result"
    }
   ],
   "source": [
    "#symmetric_difference()\n",
    "fs1=frozenset({43,5,6,7,89})\n",
    "fs2=frozenset({3,5,6,7,})\n",
    "fs3=fs1.symmetric_difference(fs2)\n",
    "fs3"
   ]
  },
  {
   "cell_type": "code",
   "execution_count": 58,
   "id": "c30c337e-2506-4f9c-a9df-1711f82d972f",
   "metadata": {},
   "outputs": [
    {
     "data": {
      "text/plain": [
       "False"
      ]
     },
     "execution_count": 58,
     "metadata": {},
     "output_type": "execute_result"
    }
   ],
   "source": [
    "#isdisjoint()\n",
    "fs1=frozenset({3,5,7,8})\n",
    "fs2=frozenset({4,5,6,8})\n",
    "fs1.isdisjoint(fs2)"
   ]
  },
  {
   "cell_type": "code",
   "execution_count": 59,
   "id": "62d5d313-081c-4b3c-aa28-73c5270bb972",
   "metadata": {},
   "outputs": [
    {
     "data": {
      "text/plain": [
       "True"
      ]
     },
     "execution_count": 59,
     "metadata": {},
     "output_type": "execute_result"
    }
   ],
   "source": [
    "#issubset()\n",
    "fs1=frozenset({2,4,6})\n",
    "fs2={2}\n",
    "fs2.issubset(fs2)"
   ]
  },
  {
   "cell_type": "code",
   "execution_count": 60,
   "id": "29e5dfd8-7164-472e-8fca-6824b16fb231",
   "metadata": {},
   "outputs": [
    {
     "data": {
      "text/plain": [
       "False"
      ]
     },
     "execution_count": 60,
     "metadata": {},
     "output_type": "execute_result"
    }
   ],
   "source": [
    "#issuperset()\n",
    "fs1=frozenset({3,5,7,9,2,10})\n",
    "fs2={4,6,4}\n",
    "fs1.issuperset(fs2)"
   ]
  },
  {
   "cell_type": "markdown",
   "id": "be027a48-f7ae-417b-b57d-a6de0741731f",
   "metadata": {},
   "source": [
    "# built in functions"
   ]
  },
  {
   "cell_type": "code",
   "execution_count": null,
   "id": "b4ed8cfc-6a3b-430d-869b-ab5e47c3ad0a",
   "metadata": {},
   "outputs": [],
   "source": [
    "#len() #max() #min() #sum() #sorted()"
   ]
  }
 ],
 "metadata": {
  "kernelspec": {
   "display_name": "Python 3 (ipykernel)",
   "language": "python",
   "name": "python3"
  },
  "language_info": {
   "codemirror_mode": {
    "name": "ipython",
    "version": 3
   },
   "file_extension": ".py",
   "mimetype": "text/x-python",
   "name": "python",
   "nbconvert_exporter": "python",
   "pygments_lexer": "ipython3",
   "version": "3.11.11"
  }
 },
 "nbformat": 4,
 "nbformat_minor": 5
}
