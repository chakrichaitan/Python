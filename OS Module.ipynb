{
 "cells": [
  {
   "cell_type": "markdown",
   "id": "e99e0eea-6fa2-4749-bc26-92f8d9d032b1",
   "metadata": {},
   "source": [
    "# OS module"
   ]
  },
  {
   "cell_type": "code",
   "execution_count": 7,
   "id": "5208a5dd-7341-409c-9583-2688dde826c7",
   "metadata": {},
   "outputs": [],
   "source": [
    "import os\n",
    "with open('india.txt','w') as f:\n",
    "    f.write(\"india is acountry\")"
   ]
  },
  {
   "cell_type": "code",
   "execution_count": 9,
   "id": "c50ed523-d4bc-4fe9-8a9e-9bee93dd06a9",
   "metadata": {},
   "outputs": [],
   "source": [
    "import os\n",
    "os.rename('india.txt','country.txt')"
   ]
  },
  {
   "cell_type": "code",
   "execution_count": 11,
   "id": "6c8ba4e3-9428-4c70-878c-5826dda6cfe4",
   "metadata": {},
   "outputs": [],
   "source": [
    "with open(\"sachin.txt\",\"w\") as f:\n",
    "    f.write(\"sachin ramesh tebdulkar\")"
   ]
  },
  {
   "cell_type": "code",
   "execution_count": 12,
   "id": "f62c5c64-d1e9-4e26-8791-75b166ac5196",
   "metadata": {},
   "outputs": [],
   "source": [
    "import os\n",
    "os.remove(\"sachin.txt\")"
   ]
  },
  {
   "cell_type": "code",
   "execution_count": 13,
   "id": "b487afbd-5d32-49dd-b4c1-74868d5acafe",
   "metadata": {},
   "outputs": [
    {
     "data": {
      "text/plain": [
       "True"
      ]
     },
     "execution_count": 13,
     "metadata": {},
     "output_type": "execute_result"
    }
   ],
   "source": [
    "import os\n",
    "os.path.exists(\"emp_data.json\")"
   ]
  },
  {
   "cell_type": "code",
   "execution_count": 14,
   "id": "ea81740d-f484-4db2-bccb-a710b74ae121",
   "metadata": {},
   "outputs": [
    {
     "data": {
      "text/plain": [
       "False"
      ]
     },
     "execution_count": 14,
     "metadata": {},
     "output_type": "execute_result"
    }
   ],
   "source": [
    "import os\n",
    "os.path.exists(r\"C:\\Users\\Dilipkumar\\Desktop\\python\\india.txt\")"
   ]
  },
  {
   "cell_type": "code",
   "execution_count": 15,
   "id": "53a7295f-6d8d-4e01-8172-24a0a5aaad8f",
   "metadata": {},
   "outputs": [],
   "source": [
    "import os\n",
    "path=r\"C:\\Users\\Dilipkumar\\Videos\\englishmovies\"\n",
    "os.mkdir(path)"
   ]
  },
  {
   "cell_type": "code",
   "execution_count": 16,
   "id": "72a17e8c-36df-44b4-8822-ea9ed06539f0",
   "metadata": {},
   "outputs": [],
   "source": [
    "import os\n",
    "path=r\"C:\\Users\\Dilipkumar\\Videos\\englishmovies\\marvel\\avengers\"\n",
    "os.makedirs(path)"
   ]
  },
  {
   "cell_type": "code",
   "execution_count": 17,
   "id": "064bbb1b-563e-44b4-9e3f-f47055fabdd9",
   "metadata": {},
   "outputs": [],
   "source": [
    "import os\n",
    "path=r\"C:\\Users\\Dilipkumar\\Videos\\englishmovies\\marvel\\avengers\"\n",
    "os.rmdir(path)"
   ]
  },
  {
   "cell_type": "code",
   "execution_count": 18,
   "id": "0512a1d7-bd77-48c5-a47c-851f02539ce9",
   "metadata": {},
   "outputs": [
    {
     "data": {
      "text/plain": [
       "['4_5769640215387836915.mkv',\n",
       " '@M4U_ORGINALS_Arjun.Reddy.2017.Telugu.1080p.10bit.AMZN.WEBDL.mkv',\n",
       " '@PH_FILES - - KA (2024) Telugu TRUE WEB-DL - 1080p - AVC - U.mkv',\n",
       " '@PH_FILES_Chhaava_2025\\xa0Hindi\\xa0HQ_HDRip_720p_x264_.mkv',\n",
       " 'Animal.2023.HINDI.1080p.10bit.WEBRip.6CH.x265.HEVC-PSA.mkv',\n",
       " 'AnyDesk',\n",
       " 'Captures',\n",
       " 'desktop.ini',\n",
       " 'englishmovies',\n",
       " 'Hi Nanna_2023_Telugu_HQ_HDRip_1080p_x264_DD+5.mkv',\n",
       " 'mj_link_4u -8.Vasantalu.2025.720p.NF.WEB-DL.AAC5.1.H.265-LRT.mkv',\n",
       " 'mj_link_4u -Thandel (2024) 720p HQ NF WEB-DL x264 [Telugu (D.mkv',\n",
       " 'mj_link_4u Lucky Baskhar (2024) 1080p HQ NF WEB-DL x264 .mkv',\n",
       " 'POCO M2 Pro - Shortcut.lnk',\n",
       " 'RANGASTHALAM_2021_UNCUT_HDRip_720p_#HEVC_Tam_Org_Aud_Tel_ESub.mkv',\n",
       " 'Toonflex - Pushpa 2 The Rule (2024) Telugu\\xa0HQ HDRip - 10.mkv',\n",
       " 'Windows (C) - Shortcut.lnk',\n",
       " 'www.5MovieRulz.boo - Sathyam Sundaram (2024) 1080p Telugu HQ HDRip - x264 - (DD+5.1 - 640Kbps & AAC) - 2.9GB - ESub.mkv']"
      ]
     },
     "execution_count": 18,
     "metadata": {},
     "output_type": "execute_result"
    }
   ],
   "source": [
    "import os\n",
    "path=r\"C:\\Users\\Dilipkumar\\Videos\"\n",
    "os.listdir(path)"
   ]
  },
  {
   "cell_type": "code",
   "execution_count": 20,
   "id": "981436d9-9ec4-4738-858a-3db3f1ccaac1",
   "metadata": {},
   "outputs": [
    {
     "data": {
      "text/plain": [
       "'C:\\\\Users\\\\Dilipkumar\\\\Desktop\\\\python'"
      ]
     },
     "execution_count": 20,
     "metadata": {},
     "output_type": "execute_result"
    }
   ],
   "source": [
    "import os\n",
    "os.getcwd()"
   ]
  },
  {
   "cell_type": "markdown",
   "id": "ab67fc69-d83b-40cb-a0e0-bde94f3c7291",
   "metadata": {},
   "source": [
    "# rename/move()"
   ]
  },
  {
   "cell_type": "code",
   "execution_count": 3,
   "id": "76ca3510-e670-41bf-96fc-0dd815a9432d",
   "metadata": {},
   "outputs": [
    {
     "ename": "FileNotFoundError",
     "evalue": "[WinError 2] The system cannot find the file specified: 'C:\\\\Users\\\\Dilipkumar\\\\Pictures\\\\735dd0960c128cb9439c3746a51d61ac.jpg' -> 'C:\\\\Users\\\\Dilipkumar\\\\Pictures\\\\mrunal.jpg'",
     "output_type": "error",
     "traceback": [
      "\u001b[1;31m---------------------------------------------------------------------------\u001b[0m",
      "\u001b[1;31mFileNotFoundError\u001b[0m                         Traceback (most recent call last)",
      "Cell \u001b[1;32mIn[3], line 4\u001b[0m\n\u001b[0;32m      2\u001b[0m source\u001b[38;5;241m=\u001b[39m\u001b[38;5;124mr\u001b[39m\u001b[38;5;124m\"\u001b[39m\u001b[38;5;124mC:\u001b[39m\u001b[38;5;124m\\\u001b[39m\u001b[38;5;124mUsers\u001b[39m\u001b[38;5;124m\\\u001b[39m\u001b[38;5;124mDilipkumar\u001b[39m\u001b[38;5;124m\\\u001b[39m\u001b[38;5;124mPictures\u001b[39m\u001b[38;5;124m\\\u001b[39m\u001b[38;5;124m735dd0960c128cb9439c3746a51d61ac.jpg\u001b[39m\u001b[38;5;124m\"\u001b[39m\n\u001b[0;32m      3\u001b[0m destination\u001b[38;5;241m=\u001b[39m\u001b[38;5;124mr\u001b[39m\u001b[38;5;124m\"\u001b[39m\u001b[38;5;124mC:\u001b[39m\u001b[38;5;124m\\\u001b[39m\u001b[38;5;124mUsers\u001b[39m\u001b[38;5;124m\\\u001b[39m\u001b[38;5;124mDilipkumar\u001b[39m\u001b[38;5;124m\\\u001b[39m\u001b[38;5;124mPictures\u001b[39m\u001b[38;5;124m\\\u001b[39m\u001b[38;5;124mmrunal.jpg\u001b[39m\u001b[38;5;124m\"\u001b[39m\n\u001b[1;32m----> 4\u001b[0m os\u001b[38;5;241m.\u001b[39mrename(source,destination)\n",
      "\u001b[1;31mFileNotFoundError\u001b[0m: [WinError 2] The system cannot find the file specified: 'C:\\\\Users\\\\Dilipkumar\\\\Pictures\\\\735dd0960c128cb9439c3746a51d61ac.jpg' -> 'C:\\\\Users\\\\Dilipkumar\\\\Pictures\\\\mrunal.jpg'"
     ]
    }
   ],
   "source": [
    " import os\n",
    "source=r\"C:\\Users\\Dilipkumar\\Pictures\\735dd0960c128cb9439c3746a51d61ac.jpg\"\n",
    "destination=r\"C:\\Users\\Dilipkumar\\Pictures\\mrunal.jpg\"\n",
    "os.rename(source,destination)"
   ]
  },
  {
   "cell_type": "markdown",
   "id": "8cd409c1-ecdf-4baa-9748-529dfedb251b",
   "metadata": {},
   "source": [
    "# remove()"
   ]
  },
  {
   "cell_type": "code",
   "execution_count": 8,
   "id": "6a1e2b12-1e78-4799-a6e0-429e30521fa1",
   "metadata": {},
   "outputs": [],
   "source": [
    "import shutil\n",
    "shutil.rmtree(r\"C:\\Users\\Dilipkumar\\Videos\\englishmovies\")"
   ]
  },
  {
   "cell_type": "code",
   "execution_count": 9,
   "id": "6ff32cb7-69ca-4e27-a710-723fb35f8ccc",
   "metadata": {},
   "outputs": [],
   "source": [
    "import os\n",
    "os.mkdir(r\"chakri\")"
   ]
  },
  {
   "cell_type": "code",
   "execution_count": 10,
   "id": "03c59dae-06cd-4377-89e9-30d43450e8dd",
   "metadata": {},
   "outputs": [],
   "source": [
    "import os\n",
    "os.rmdir(r\"chakri\")"
   ]
  },
  {
   "cell_type": "code",
   "execution_count": 1,
   "id": "7ed77cff-1855-4d8a-971c-d3d50a46fcb0",
   "metadata": {},
   "outputs": [
    {
     "data": {
      "text/plain": [
       "['.ipynb_checkpoints',\n",
       " 'blocks-light.svg',\n",
       " 'Chakri_week-1_Assignment.pdf',\n",
       " 'chakri_week2_Assignment.ipynb',\n",
       " 'Chakri_week2_Assignment.pdf',\n",
       " 'Chakri_week3_Assignment.ipynb',\n",
       " 'Chakri_week3_Assignment.pdf',\n",
       " 'chakri_week4_Assignment.ipynb',\n",
       " 'chakri_week4_Assignment.pdf',\n",
       " 'country.txt',\n",
       " 'cricket.txt',\n",
       " 'day_1_and_day_2_my_notebook.ipynb',\n",
       " 'decision_tree_model.pkl',\n",
       " 'emp_data.json',\n",
       " 'File Handling.ipynb',\n",
       " 'file_handling.ipynb',\n",
       " 'Functions.ipynb',\n",
       " 'india independence.txt',\n",
       " 'indian.txt',\n",
       " 'math_operation.ipynb',\n",
       " 'math_operation.py',\n",
       " 'model.pickle',\n",
       " 'modules & packages & libraries.ipynb',\n",
       " 'modules_packages_libraries.ipynb',\n",
       " 'Mypractice.ipynb',\n",
       " 'MyPython.ipynb',\n",
       " 'Mypythonweek2.ipynb',\n",
       " 'Mypythonweek3.ipynb',\n",
       " 'Mypythonweek4.ipynb',\n",
       " 'OS Module.ipynb',\n",
       " 'OS_module_shutil_module.ipynb',\n",
       " 'Python Interview Questions.docx',\n",
       " 'python.txt',\n",
       " 'python1.txt',\n",
       " 'pythontasks.ipynb',\n",
       " 'python_10_string_methods_2.ipynb',\n",
       " 'python_11.ipynb',\n",
       " 'python_12_list_part_2.ipynb',\n",
       " 'python_14_list_comprehension.ipynb',\n",
       " 'python_14_tuple.ipynb',\n",
       " 'python_15_set_frozenset.ipynb',\n",
       " 'python_15_split_join.ipynb',\n",
       " 'python_16_Dictionary.ipynb',\n",
       " 'python_17_Functions.ipynb',\n",
       " 'python_18_Function Arguments.ipynb',\n",
       " 'python_18_Lambda Function (1).ipynb',\n",
       " 'python_3.ipynb',\n",
       " 'python_3_part_2.ipynb',\n",
       " 'python_4.ipynb',\n",
       " 'python_5.ipynb',\n",
       " 'python_7.ipynb',\n",
       " 'python_8_Loops.ipynb',\n",
       " 'python_9_string_methods.ipynb',\n",
       " 'test.csv',\n",
       " 'test.txt',\n",
       " 'Untitled.ipynb',\n",
       " 'Untitled1.ipynb',\n",
       " 'Untitled2.ipynb',\n",
       " 'world cup.txt',\n",
       " '__pycache__']"
      ]
     },
     "execution_count": 1,
     "metadata": {},
     "output_type": "execute_result"
    }
   ],
   "source": [
    "import os\n",
    "os.listdir()"
   ]
  },
  {
   "cell_type": "code",
   "execution_count": null,
   "id": "a72047b7-32a4-4605-931f-3c15ac50ceb2",
   "metadata": {},
   "outputs": [],
   "source": [
    " "
   ]
  }
 ],
 "metadata": {
  "kernelspec": {
   "display_name": "Python 3 (ipykernel)",
   "language": "python",
   "name": "python3"
  },
  "language_info": {
   "codemirror_mode": {
    "name": "ipython",
    "version": 3
   },
   "file_extension": ".py",
   "mimetype": "text/x-python",
   "name": "python",
   "nbconvert_exporter": "python",
   "pygments_lexer": "ipython3",
   "version": "3.13.5"
  }
 },
 "nbformat": 4,
 "nbformat_minor": 5
}
