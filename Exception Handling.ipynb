{
 "cells": [
  {
   "cell_type": "code",
   "execution_count": 4,
   "id": "796c07b3-7f85-4873-b68b-103d269abf61",
   "metadata": {},
   "outputs": [
    {
     "name": "stdout",
     "output_type": "stream",
     "text": [
      " file not found\n"
     ]
    }
   ],
   "source": [
    "try:\n",
    "     f=open(\"data.csv\",\"r\")\n",
    "     read=f.read()\n",
    "     print(read)\n",
    "except:\n",
    "    print(\" file not found\")"
   ]
  },
  {
   "cell_type": "code",
   "execution_count": 7,
   "id": "e41fcd7c-684a-4b3c-ac60-8106aa8b936d",
   "metadata": {},
   "outputs": [
    {
     "name": "stdin",
     "output_type": "stream",
     "text": [
      "enter your number: e\n"
     ]
    },
    {
     "name": "stdout",
     "output_type": "stream",
     "text": [
      "invalid value...please enter a number\n"
     ]
    }
   ],
   "source": [
    "try:\n",
    "    num=int(input(\"enter your number:\"))\n",
    "    r=4/num\n",
    "    print(\"result\",r)\n",
    "except ValueError:\n",
    "    print(\"invalid value...please enter a number\")\n",
    "except ZeroDivisionError:\n",
    "    print(\"cannot divide by zero\")\n",
    "else:\n",
    "    print(\"division result\",r)"
   ]
  },
  {
   "cell_type": "code",
   "execution_count": 2,
   "id": "79c77d81-27c4-49bd-bac3-3e50b0aba4ca",
   "metadata": {},
   "outputs": [
    {
     "name": "stdout",
     "output_type": "stream",
     "text": [
      "Try block\n",
      "[2, 4, 6, 7]\n",
      "index out of bound\n"
     ]
    }
   ],
   "source": [
    "try:\n",
    "    print(\"Try block\")\n",
    "    list1=[2,4,6,7]\n",
    "    print(list1)\n",
    "    print(list1[4])\n",
    "except IndexError:\n",
    "    print(\"index out of bound\")"
   ]
  },
  {
   "cell_type": "code",
   "execution_count": 19,
   "id": "78967771-86cf-480a-9a17-1e15322610a8",
   "metadata": {},
   "outputs": [
    {
     "name": "stdout",
     "output_type": "stream",
     "text": [
      "9\n",
      "25\n",
      "4\n"
     ]
    },
    {
     "ename": "TypeError",
     "evalue": "unsupported operand type(s) for ** or pow(): 'str' and 'int'",
     "output_type": "error",
     "traceback": [
      "\u001b[31m---------------------------------------------------------------------------\u001b[39m",
      "\u001b[31mTypeError\u001b[39m                                 Traceback (most recent call last)",
      "\u001b[36mCell\u001b[39m\u001b[36m \u001b[39m\u001b[32mIn[19]\u001b[39m\u001b[32m, line 3\u001b[39m\n\u001b[32m      1\u001b[39m list1=[\u001b[32m3\u001b[39m,\u001b[32m5\u001b[39m,\u001b[32m2\u001b[39m,\u001b[33m'\u001b[39m\u001b[33m5\u001b[39m\u001b[33m'\u001b[39m,\u001b[32m5\u001b[39m]\n\u001b[32m      2\u001b[39m \u001b[38;5;28;01mfor\u001b[39;00m i \u001b[38;5;129;01min\u001b[39;00m list1:\n\u001b[32m----> \u001b[39m\u001b[32m3\u001b[39m     sqr=\u001b[43mi\u001b[49m\u001b[43m*\u001b[49m\u001b[43m*\u001b[49m\u001b[32;43m2\u001b[39;49m\n\u001b[32m      4\u001b[39m     \u001b[38;5;28mprint\u001b[39m(sqr)\n",
      "\u001b[31mTypeError\u001b[39m: unsupported operand type(s) for ** or pow(): 'str' and 'int'"
     ]
    }
   ],
   "source": [
    "list1=[3,5,2,'5',5]\n",
    "for i in list1:\n",
    "    sqr=i**2\n",
    "    print(sqr)"
   ]
  },
  {
   "cell_type": "code",
   "execution_count": 18,
   "id": "d81817a6-04fa-4677-9261-3f5e7e37886e",
   "metadata": {},
   "outputs": [
    {
     "name": "stdout",
     "output_type": "stream",
     "text": [
      "9\n",
      "16\n",
      "3136\n",
      "16\n",
      "25\n"
     ]
    }
   ],
   "source": [
    "list1=[3,4,56,4,'4',5]\n",
    "for i in list1:\n",
    "    try:\n",
    "        sqr=i**2\n",
    "        print(sqr)\n",
    "    except:\n",
    "        continue"
   ]
  },
  {
   "cell_type": "code",
   "execution_count": 27,
   "id": "3d86c6db-8444-4f2f-981a-36259fc6194f",
   "metadata": {},
   "outputs": [
    {
     "name": "stdout",
     "output_type": "stream",
     "text": [
      "file does not found\n"
     ]
    }
   ],
   "source": [
    "import json\n",
    "try:\n",
    "    with open(\"empdata.json\",\"r\") as f:\n",
    "        read=json.load(f)\n",
    "        print(read)\n",
    "except FileNotFoundError:\n",
    "    print(\"file does not found\")\n"
   ]
  },
  {
   "cell_type": "code",
   "execution_count": 64,
   "id": "5e63469c-24d3-47f3-a1d5-853315231752",
   "metadata": {},
   "outputs": [
    {
     "name": "stdin",
     "output_type": "stream",
     "text": [
      "enter a num: e\n"
     ]
    },
    {
     "ename": "ValueError",
     "evalue": "invalid literal for int() with base 10: 'e'",
     "output_type": "error",
     "traceback": [
      "\u001b[31m---------------------------------------------------------------------------\u001b[39m",
      "\u001b[31mValueError\u001b[39m                                Traceback (most recent call last)",
      "\u001b[36mCell\u001b[39m\u001b[36m \u001b[39m\u001b[32mIn[64]\u001b[39m\u001b[32m, line 1\u001b[39m\n\u001b[32m----> \u001b[39m\u001b[32m1\u001b[39m num=\u001b[38;5;28;43mint\u001b[39;49m\u001b[43m(\u001b[49m\u001b[38;5;28;43minput\u001b[39;49m\u001b[43m(\u001b[49m\u001b[33;43m\"\u001b[39;49m\u001b[33;43menter a num:\u001b[39;49m\u001b[33;43m\"\u001b[39;49m\u001b[43m)\u001b[49m\u001b[43m)\u001b[49m\n\u001b[32m      2\u001b[39m result=num/\u001b[32m4\u001b[39m\n\u001b[32m      3\u001b[39m \u001b[38;5;28;01mif\u001b[39;00m \u001b[38;5;28mtype\u001b[39m(num)!=\u001b[38;5;28mint\u001b[39m:\n",
      "\u001b[31mValueError\u001b[39m: invalid literal for int() with base 10: 'e'"
     ]
    }
   ],
   "source": [
    "num=int(input(\"enter a num:\"))\n",
    "result=num/4\n",
    "if type(num)!=int:\n",
    "    raise TypeError (\"invalid value\")\n",
    "else:\n",
    "    print(result)\n",
    "\n"
   ]
  },
  {
   "cell_type": "code",
   "execution_count": 37,
   "id": "a49c3389-8d74-4141-837a-eef44ad1af84",
   "metadata": {},
   "outputs": [
    {
     "name": "stdout",
     "output_type": "stream",
     "text": [
      "file does not found\n"
     ]
    }
   ],
   "source": [
    "import pickle\n",
    "try:\n",
    "    with open(\"model1.pickle\",\"rb\") as f:\n",
    "        content=pickle.load(f)\n",
    "except FileNotFoundError:\n",
    "    print(\"file does not found\")\n",
    "else:\n",
    "    print(\"contents:\",content)"
   ]
  },
  {
   "cell_type": "code",
   "execution_count": 45,
   "id": "81d96509-a2de-4193-b8e1-a734c60e447a",
   "metadata": {},
   "outputs": [],
   "source": [
    "import json\n",
    "employee={\"emp1\":{'id':1,'name':'anil','age':22},\n",
    "\"emp2\":{'id':2,'name':'daha','age':21},\n",
    "\"emp3\":{'id':3,'name':'Deva','age':24}}\n",
    "with open(\"employee1.json\",\"w\") as f:\n",
    "    content= json.dump(employee,f)\n"
   ]
  },
  {
   "cell_type": "code",
   "execution_count": 47,
   "id": "36374ab1-34cd-4144-97ba-7c47d40635c0",
   "metadata": {},
   "outputs": [
    {
     "name": "stdout",
     "output_type": "stream",
     "text": [
      "{'emp1': {'id': 1, 'name': 'anil', 'age': 22}, 'emp2': {'id': 2, 'name': 'daha', 'age': 21}, 'emp3': {'id': 3, 'name': 'Deva', 'age': 24}}\n"
     ]
    }
   ],
   "source": [
    "try:\n",
    "    with open(\"employee1.json\",\"r\") as f:\n",
    "        content=json.load(f)\n",
    "except FileNotFoundError:\n",
    "    print(\"file not found\")\n",
    "else:\n",
    "    print(content)"
   ]
  },
  {
   "cell_type": "code",
   "execution_count": 51,
   "id": "8ca9ac5e-0795-4cc9-931d-d1606cf9a8c1",
   "metadata": {},
   "outputs": [
    {
     "name": "stdin",
     "output_type": "stream",
     "text": [
      "enter a number: 3\n"
     ]
    },
    {
     "name": "stdout",
     "output_type": "stream",
     "text": [
      "you got error: division by zero\n",
      "the type of error is: ZeroDivisionError\n"
     ]
    }
   ],
   "source": [
    "try:\n",
    "    num=int(input(\"enter a number:\"))\n",
    "    result=num/0\n",
    "    print(result)\n",
    "except Exception as e:\n",
    "    print(\"you got error:\",e)\n",
    "    print(\"the type of error is:\",type(e).__name__)"
   ]
  },
  {
   "cell_type": "code",
   "execution_count": 55,
   "id": "92c21658-00e4-48b6-b7b0-d8b7d4eacf06",
   "metadata": {},
   "outputs": [
    {
     "name": "stdout",
     "output_type": "stream",
     "text": [
      "file already exists\n",
      "cricket i s the second most watched game in the worldonly football is above the cricketcricket has become a part of indian culture since decadesBCCI controls the cricket in in diasachin is considered as 'God of cricket'in india\n"
     ]
    }
   ],
   "source": [
    "try:\n",
    "    with open(\"cricket.txt\",\"x\") as f:\n",
    "        f.write(\"sachin.....\")\n",
    "except FileExistsError:\n",
    "    print(\"file already exists\")\n",
    "finally:\n",
    "    with open(\"cricket.txt\",\"r\") as f:\n",
    "        content=f.read()\n",
    "        print(content)"
   ]
  },
  {
   "cell_type": "code",
   "execution_count": 56,
   "id": "57d4703c-9363-4670-a624-6ec8e7703a32",
   "metadata": {},
   "outputs": [
    {
     "name": "stdout",
     "output_type": "stream",
     "text": [
      "sachin....\n"
     ]
    }
   ],
   "source": [
    "try:\n",
    "    with open(\"cricket.txt\",\"w\") as f:\n",
    "        f.write(\"sachin....\")\n",
    "except FileExistsError:\n",
    "    print(\"file already exists\")\n",
    "else:\n",
    "    with open(\"cricket.txt\",\"r\") as f:\n",
    "        content=f.read()\n",
    "finally:\n",
    "    print(content)\n",
    "    "
   ]
  },
  {
   "cell_type": "code",
   "execution_count": null,
   "id": "6b22e354-322f-49c9-b216-595f4cd99d60",
   "metadata": {},
   "outputs": [],
   "source": [
    "try:\n",
    "    "
   ]
  }
 ],
 "metadata": {
  "kernelspec": {
   "display_name": "Python 3 (ipykernel)",
   "language": "python",
   "name": "python3"
  },
  "language_info": {
   "codemirror_mode": {
    "name": "ipython",
    "version": 3
   },
   "file_extension": ".py",
   "mimetype": "text/x-python",
   "name": "python",
   "nbconvert_exporter": "python",
   "pygments_lexer": "ipython3",
   "version": "3.11.11"
  }
 },
 "nbformat": 4,
 "nbformat_minor": 5
}
