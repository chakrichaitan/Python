{
 "cells": [
  {
   "cell_type": "markdown",
   "id": "372fdc4d-d043-4c90-b4ed-fb80332ae52b",
   "metadata": {},
   "source": [
    "# Day1"
   ]
  },
  {
   "cell_type": "markdown",
   "id": "83b49e11-a87d-4f1f-92ed-bc3cde8a9966",
   "metadata": {},
   "source": [
    "# Question1"
   ]
  },
  {
   "cell_type": "code",
   "execution_count": 1,
   "id": "e1629cc4-cf70-401e-a9da-f02e898236d8",
   "metadata": {},
   "outputs": [
    {
     "name": "stdout",
     "output_type": "stream",
     "text": [
      "12\n",
      "90\n"
     ]
    }
   ],
   "source": [
    "ls=[12,34,56,78,90]\n",
    "print(ls[0])\n",
    "print(ls[-1])"
   ]
  },
  {
   "cell_type": "markdown",
   "id": "6a4be7e4-6ce2-4a93-aae0-670b607428f5",
   "metadata": {},
   "source": [
    "# Question2"
   ]
  },
  {
   "cell_type": "code",
   "execution_count": 2,
   "id": "888e64be-158f-4bee-9315-0a1e7861abc0",
   "metadata": {},
   "outputs": [
    {
     "name": "stdout",
     "output_type": "stream",
     "text": [
      "[(6+9j), 56, 4, 1, 'java', 'python']\n"
     ]
    }
   ],
   "source": [
    "ls1=[\"python\",\"java\",1,4,56,(6+9j)]\n",
    "print(ls1[::-1])"
   ]
  },
  {
   "cell_type": "markdown",
   "id": "20719122-753d-4636-b805-cd581ba14585",
   "metadata": {},
   "source": [
    "# Question3"
   ]
  },
  {
   "cell_type": "code",
   "execution_count": 3,
   "id": "f32facdf-3dfa-443f-b762-7940525b321e",
   "metadata": {},
   "outputs": [
    {
     "name": "stdout",
     "output_type": "stream",
     "text": [
      "[3, 'java', [1, 4, 56, 43, 4]]\n"
     ]
    }
   ],
   "source": [
    "ls2=[1,3,\"java\",[1,4,56,43,4],13,\"hi\"]\n",
    "print(ls2[1:4])\n"
   ]
  },
  {
   "cell_type": "markdown",
   "id": "ae33d51e-b2cc-4829-b3b0-fd38ab06b9e0",
   "metadata": {},
   "source": [
    "# Question4"
   ]
  },
  {
   "cell_type": "code",
   "execution_count": 2,
   "id": "a337b913-2bfa-4023-8e3a-2ea1a9ec6479",
   "metadata": {},
   "outputs": [
    {
     "name": "stdout",
     "output_type": "stream",
     "text": [
      "The sum of all elements in a list: 24\n"
     ]
    }
   ],
   "source": [
    "ls4=[2,4,5,6,7]\n",
    "sum=0\n",
    "for i in ls4:\n",
    "    i=sum+i\n",
    "    sum=i\n",
    "print(\"The sum of all elements in a list:\",sum)"
   ]
  },
  {
   "cell_type": "markdown",
   "id": "c5eb766d-9498-4766-972e-bfa2a02979d2",
   "metadata": {},
   "source": [
    "# Question5"
   ]
  },
  {
   "cell_type": "code",
   "execution_count": 5,
   "id": "92de8034-12fc-4afe-9743-c4056091ddb3",
   "metadata": {},
   "outputs": [
    {
     "name": "stdout",
     "output_type": "stream",
     "text": [
      "Number of even numbers: 8\n"
     ]
    }
   ],
   "source": [
    "ls5=[11,23,46,4,6,8,78,99,90,44,76]\n",
    "count=0\n",
    "for i in ls5:\n",
    "    if i%2==0:\n",
    "        count+=1\n",
    "print(\"Number of even numbers:\",count)"
   ]
  },
  {
   "cell_type": "markdown",
   "id": "3214866d-39ca-41ba-8e00-fb8b927aa99a",
   "metadata": {},
   "source": [
    "# Question6"
   ]
  },
  {
   "cell_type": "code",
   "execution_count": 18,
   "id": "c0e6f3e3-9fa1-4fd4-9836-250d70881b03",
   "metadata": {},
   "outputs": [
    {
     "name": "stdout",
     "output_type": "stream",
     "text": [
      "[56, 'hi', 67, 64]\n"
     ]
    }
   ],
   "source": [
    "ls6=[23,4,56,\"hello\",\"hi\",45,67,87,64]\n",
    "print(ls6[2::2])"
   ]
  },
  {
   "cell_type": "markdown",
   "id": "fc8c3d05-d0eb-48a0-b3a0-e5a653f3ac8f",
   "metadata": {},
   "source": [
    "# Question7"
   ]
  },
  {
   "cell_type": "code",
   "execution_count": 11,
   "id": "55d103f1-35af-459b-be9e-0a7a2d8d7710",
   "metadata": {},
   "outputs": [
    {
     "name": "stdout",
     "output_type": "stream",
     "text": [
      "MAHESH\n",
      "PRABHAS\n",
      "NANI\n",
      "PAWAN\n",
      "RAMCHARAN\n"
     ]
    }
   ],
   "source": [
    "ls7=[\"mahesh\",\"prabhas\",\"nani\",\"pawan\",\"ramcharan\"]\n",
    "print(ls7[0].upper())\n",
    "print(ls7[1].upper())\n",
    "print(ls7[2].upper())\n",
    "print(ls7[3].upper())\n",
    "print(ls7[4].upper())"
   ]
  },
  {
   "cell_type": "markdown",
   "id": "ea834c6f-676f-49d4-822a-edd42408e7c5",
   "metadata": {},
   "source": [
    "# # Question8"
   ]
  },
  {
   "cell_type": "code",
   "execution_count": 15,
   "id": "403bdff8-fbbc-490e-b146-8fe56376cb52",
   "metadata": {},
   "outputs": [
    {
     "name": "stdout",
     "output_type": "stream",
     "text": [
      "The length of the list: 7\n"
     ]
    }
   ],
   "source": [
    "ls8=[12,2,[34,5,6],\"system\",22,[12,33,45,],(2+8j)]\n",
    "print(\"The length of the list:\",len(ls8))"
   ]
  },
  {
   "cell_type": "markdown",
   "id": "9822c073-bcc3-4c78-83aa-aa674cfccdc1",
   "metadata": {},
   "source": [
    "#  Question9"
   ]
  },
  {
   "cell_type": "code",
   "execution_count": 20,
   "id": "533f46a7-0f74-41ca-b7c6-a16d74f7d1d0",
   "metadata": {},
   "outputs": [
    {
     "name": "stdout",
     "output_type": "stream",
     "text": [
      "[12, 5, 'india', 89, 65, 67, 5, 76, 86]\n"
     ]
    }
   ],
   "source": [
    "ls9=[12,5,7,89,65,67,5,76,86]\n",
    "ls9[2]=\"india\"\n",
    "print(ls9)"
   ]
  },
  {
   "cell_type": "markdown",
   "id": "58bf0eb3-98e8-429e-b671-c91bca707677",
   "metadata": {},
   "source": [
    "# Day2"
   ]
  },
  {
   "cell_type": "markdown",
   "id": "30b075fe-c82d-4899-bff0-2bf19607c990",
   "metadata": {},
   "source": [
    "# Question1"
   ]
  },
  {
   "cell_type": "code",
   "execution_count": 7,
   "id": "3e8f309c-f8fd-4925-be48-8ea4f375d789",
   "metadata": {},
   "outputs": [
    {
     "name": "stdout",
     "output_type": "stream",
     "text": [
      "original list [12, 34, 'fortyfive', 32, 56, 77]\n",
      "reverse list [77, 56, 32, 'fortyfive', 34, 12]\n"
     ]
    }
   ],
   "source": [
    "org_list=[12,34,\"fortyfive\",32,56,77]\n",
    "rev_list=[]\n",
    "for i in range(len(org_list) -1,-1,-1):\n",
    "    rev_list.append(org_list[i])\n",
    "print(\"original list\",org_list)\n",
    "print(\"reverse list\",rev_list)"
   ]
  },
  {
   "cell_type": "markdown",
   "id": "76ac1eca-b202-4ce7-9923-9d2e9543d002",
   "metadata": {},
   "source": [
    "# Question2"
   ]
  },
  {
   "cell_type": "code",
   "execution_count": 17,
   "id": "fc6c6629-8868-4f87-9cfa-635568cd1b22",
   "metadata": {},
   "outputs": [
    {
     "name": "stdout",
     "output_type": "stream",
     "text": [
      "veg after removing spinach is:  ['carrot', 'beans', 'cucumber']\n"
     ]
    }
   ],
   "source": [
    "veg=[\"spinach\",\"carrot\",\"beans\",\"spinach\",\"cucumber\",\"spinach\"]\n",
    "val=\"spinach\" \n",
    "new_veg=[]\n",
    "for i in veg:\n",
    "    if i!=val:\n",
    "        new_veg.append(i)\n",
    "print(\"veg after removing\",val,\"is: \",new_veg)"
   ]
  },
  {
   "cell_type": "markdown",
   "id": "5d857999-b40c-431e-b33d-1db768052ee3",
   "metadata": {},
   "source": [
    "# Question3"
   ]
  },
  {
   "cell_type": "code",
   "execution_count": 25,
   "id": "3ca06728-bd09-4ffa-b24d-30717aa6c153",
   "metadata": {},
   "outputs": [
    {
     "name": "stdout",
     "output_type": "stream",
     "text": [
      "[65, 54, 45, 12, 5, 4, 4, 3]\n",
      "The second largest number in the list: 54\n"
     ]
    }
   ],
   "source": [
    "num=[12,3,45,65,5,4,54,4]\n",
    "num.sort(reverse=True)\n",
    "print(num)\n",
    "print(\"The second largest number in the list:\",num[1])\n",
    "    \n",
    "    "
   ]
  },
  {
   "cell_type": "markdown",
   "id": "b8aa3c9b-4403-4e0d-a9c8-ecf3906cc2d7",
   "metadata": {},
   "source": [
    " # Question4"
   ]
  },
  {
   "cell_type": "code",
   "execution_count": 4,
   "id": "c21fbdde-9ab1-4f33-b135-10bb963cf0fa",
   "metadata": {},
   "outputs": [
    {
     "name": "stdout",
     "output_type": "stream",
     "text": [
      "The list of all even numbers from 1 to 20 ia: [2, 4, 6, 8, 10, 12, 14, 16, 18, 20]\n"
     ]
    }
   ],
   "source": [
    "even_list=[]\n",
    "for i in range(1,21):\n",
    "    if i%2==0:\n",
    "        even_list.append(i)\n",
    "print(\"The list of all even numbers from 1 to 20 ia:\",even_list)\n",
    "        "
   ]
  },
  {
   "cell_type": "code",
   "execution_count": 6,
   "id": "6f3a915f-ec5b-48e6-9a6a-147cc2b032fb",
   "metadata": {},
   "outputs": [
    {
     "name": "stdout",
     "output_type": "stream",
     "text": [
      "The list of all even numbers from 1 to 20: [2, 4, 6, 8, 10, 12, 14, 16, 18, 20]\n"
     ]
    }
   ],
   "source": [
    "#using list comprehension\n",
    "even_list=[i for i in range(1,21) if i%2==0]\n",
    "print(\"The list of all even numbers from 1 to 20:\",even_list)"
   ]
  },
  {
   "cell_type": "markdown",
   "id": "bb6bb25a-5262-4103-adcb-ef62d62e6d9d",
   "metadata": {},
   "source": [
    "# Question5"
   ]
  },
  {
   "cell_type": "code",
   "execution_count": 29,
   "id": "1229d7ea-8f6c-47b6-938a-736132cb0230",
   "metadata": {},
   "outputs": [
    {
     "name": "stdout",
     "output_type": "stream",
     "text": [
      "The list of numbers greater than 5: [34, 54, 6, 66, 6, 7, 56, 87, 765, 22]\n"
     ]
    }
   ],
   "source": [
    "num_list=[4,5,2,34,54,6,66,6,7,56,87,765,3,2,22]\n",
    "new_num_list=[]\n",
    "for i in num_list:\n",
    "    if i>5:\n",
    "        new_num_list.append(i)\n",
    "print(\"The list of numbers greater than 5:\",new_num_list)"
   ]
  },
  {
   "cell_type": "code",
   "execution_count": 3,
   "id": "79cb1a04-2b63-4d74-ab77-ea2a116fb42c",
   "metadata": {},
   "outputs": [
    {
     "name": "stdout",
     "output_type": "stream",
     "text": [
      "Thelist of numbers greater than 5: [34, 54, 6, 66, 6, 7, 56, 87, 765, 22]\n"
     ]
    }
   ],
   "source": [
    "#using list comprehension\n",
    "num_list=[4,5,2,34,54,6,66,6,7,56,87,765,3,2,22]\n",
    "new_num_list=[i for i in num_list if i>5]\n",
    "print(\"Thelist of numbers greater than 5:\",new_num_list)"
   ]
  },
  {
   "cell_type": "markdown",
   "id": "9353ac3c-e483-4d81-bb8e-f95387aa2f75",
   "metadata": {},
   "source": [
    "# Question6"
   ]
  },
  {
   "cell_type": "code",
   "execution_count": 8,
   "id": "beaa1885-2399-4a49-90da-9bfe21e5916e",
   "metadata": {},
   "outputs": [
    {
     "name": "stdout",
     "output_type": "stream",
     "text": [
      "[1, 23, 55, 67, 87]\n"
     ]
    }
   ],
   "source": [
    "list1=[1,23,45,55,\"s\",\"c\",\"hi\",55,67,87]\n",
    "del list1[2:7]\n",
    "print(list1)"
   ]
  },
  {
   "cell_type": "markdown",
   "id": "60f560b2-96a9-4e68-ab45-076a3677ff8b",
   "metadata": {},
   "source": [
    "# Question7"
   ]
  },
  {
   "cell_type": "code",
   "execution_count": 3,
   "id": "49eeb723-72bf-424b-a5ab-9e84bb3c010f",
   "metadata": {},
   "outputs": [
    {
     "name": "stdout",
     "output_type": "stream",
     "text": [
      "The list of lengthof each word:\n",
      " [2, 5, 6, 6, 6]\n"
     ]
    }
   ],
   "source": [
    "words=[\"hi\",\"rohit\",\"sushma\",\"mrunal\",\"mahesh\"]\n",
    "words_len=[]\n",
    "for i in words:\n",
    "    words_len.append(len(i))\n",
    "print(\"The list of lengthof each word:\\n\",words_len)"
   ]
  },
  {
   "cell_type": "code",
   "execution_count": 5,
   "id": "73a2d362-c131-40dd-84a9-bbc8e7530e98",
   "metadata": {},
   "outputs": [
    {
     "name": "stdout",
     "output_type": "stream",
     "text": [
      "The list of lengthof each word:\n",
      " [2, 5, 6, 6, 6]\n"
     ]
    }
   ],
   "source": [
    "#using list comprehension\n",
    "words=[\"hi\",\"rohit\",\"sushma\",\"mrunal\",\"mahesh\"]\n",
    "words_len=[len(i) for i in words]\n",
    "print(\"The list of lengthof each word:\\n\",words_len)"
   ]
  },
  {
   "cell_type": "markdown",
   "id": "275aa5d4-ec95-4e7a-b59c-f6d4fffdaf4f",
   "metadata": {},
   "source": [
    "# Question8"
   ]
  },
  {
   "cell_type": "code",
   "execution_count": 7,
   "id": "4d45406b-136a-42f0-abfa-55518ce62610",
   "metadata": {},
   "outputs": [
    {
     "name": "stdin",
     "output_type": "stream",
     "text": [
      "enter your list: 245678934\n",
      "enter the value you want to remove: 4\n"
     ]
    },
    {
     "name": "stdout",
     "output_type": "stream",
     "text": [
      "['2', '5', '6', '7', '8', '9', '3']\n"
     ]
    }
   ],
   "source": [
    "list12=list(input(\"enter your list:\"))\n",
    "val=input(\"enter the value you want to remove:\")\n",
    "new_list=[]\n",
    "for i in list12:\n",
    "    if i!=val:\n",
    "        new_list.append(i)\n",
    "print(new_list)\n",
    "    "
   ]
  },
  {
   "cell_type": "markdown",
   "id": "bfae334e-8bd1-41f6-8976-f14668bedf26",
   "metadata": {},
   "source": [
    "# Question9"
   ]
  },
  {
   "cell_type": "code",
   "execution_count": 27,
   "id": "47e491cd-8d26-4e70-8d54-8033e82a5c0b",
   "metadata": {},
   "outputs": [
    {
     "name": "stdin",
     "output_type": "stream",
     "text": [
      "enter your string: rohit\n"
     ]
    },
    {
     "name": "stdout",
     "output_type": "stream",
     "text": [
      "['r', 'o', 'h', 'i', 't']\n",
      "['t', 'i', 'h', 'o', 'r']\n",
      "reversed string: tihor\n"
     ]
    }
   ],
   "source": [
    "string=input(\"enter your string:\")\n",
    "list11=list(string)\n",
    "print(list11)\n",
    "list11.reverse()\n",
    "print(list11)\n",
    "string1=''.join(list11)ro\n",
    "print(\"reversed string:\",string1)\n"
   ]
  },
  {
   "cell_type": "markdown",
   "id": "7cde8731-9e84-45f4-9f07-57175ab2e366",
   "metadata": {},
   "source": [
    "# Question10"
   ]
  },
  {
   "cell_type": "code",
   "execution_count": null,
   "id": "613dd234-5b14-4d92-8f81-70bef23ea87d",
   "metadata": {},
   "outputs": [],
   "source": [
    "#. Write a program that takes a sentence as input. Split the sentence into a list of words. Then, iterate through the list of words and count the total number of vowels (a, e, i, o, u - case-insensitive) in all the words combined. Print the total vowel coun"
   ]
  },
  {
   "cell_type": "code",
   "execution_count": 30,
   "id": "7dc2ca8f-8391-4025-a89c-fd45d63eaeb2",
   "metadata": {},
   "outputs": [
    {
     "name": "stdin",
     "output_type": "stream",
     "text": [
      "enter your sentence: dhoni finishes off in style\n"
     ]
    },
    {
     "name": "stdout",
     "output_type": "stream",
     "text": [
      "The number of vowels present in the sentense are: 8\n"
     ]
    }
   ],
   "source": [
    "sentence=input(\"enter your sentence:\")\n",
    "words_ls=list(sentence)\n",
    "vowels=['a','e','i','o','u','A','E','I','O','U']\n",
    "count=0\n",
    "for i in sentence:\n",
    "    if i in vowels:\n",
    "        count+=1\n",
    "print(\"The number of vowels present in the sentense are:\",count)"
   ]
  },
  {
   "cell_type": "markdown",
   "id": "2b4a37c8-9af7-44f7-86dc-75e36c8c0182",
   "metadata": {},
   "source": [
    "# Day 5"
   ]
  },
  {
   "cell_type": "markdown",
   "id": "acdc5d43-a499-418a-b84d-e0cc3570e8e7",
   "metadata": {},
   "source": [
    "# Question 1"
   ]
  },
  {
   "cell_type": "markdown",
   "id": "890aba8d-5deb-4952-8b97-7a9e9aa2c1c7",
   "metadata": {},
   "source": [
    "Set is an unordered collection of unique elements.\n",
    "The main difference between a set and a list is that list is ordered while set is an unordered dataset.\n",
    "A set is mutable while tuple is immutable.\n",
    "properties of set:\n",
    "1.unordered\n",
    "2.mutable\n",
    "3.unique\n",
    "4.hetrogeneous."
   ]
  },
  {
   "cell_type": "markdown",
   "id": "a6dcb7de-4e6f-4334-844a-59116fecee50",
   "metadata": {},
   "source": [
    "# Question 1"
   ]
  },
  {
   "cell_type": "markdown",
   "id": "1d8a9c79-8a72-4250-851c-453be22460e0",
   "metadata": {},
   "source": [
    "frozenset is an unorederd and immutable collection of elements.\n",
    "frozenset is immutable and regular set is mutable.\n",
    "Since frozensets are immutable they can be used as keys in dictionaries."
   ]
  },
  {
   "cell_type": "markdown",
   "id": "d8df6f32-24f1-4fe2-a94b-be7c9658a302",
   "metadata": {},
   "source": [
    "# Question 3"
   ]
  },
  {
   "cell_type": "markdown",
   "id": "2a1ed6aa-a18c-46ef-bd69-28ea0eed7df3",
   "metadata": {},
   "source": [
    "No,we cannot have mutable datatypes as elements of sets,but we can modified the mutable datatypes after creation.\n",
    "frozensets sets also don't take mutable datatypes as elements since they are immutable."
   ]
  },
  {
   "cell_type": "markdown",
   "id": "4cba5655-08d1-4d57-aa6f-b42e6cdd0e9f",
   "metadata": {},
   "source": [
    "# Question 4"
   ]
  },
  {
   "cell_type": "code",
   "execution_count": null,
   "id": "c24b4f90-1210-493a-a31a-b8d35651d222",
   "metadata": {},
   "outputs": [],
   "source": [
    ">>> split() is used to divide a string into a list of substrings"
   ]
  },
  {
   "cell_type": "code",
   "execution_count": 2,
   "id": "941064fd-3784-4e86-9832-8199b1be90ac",
   "metadata": {},
   "outputs": [
    {
     "name": "stdout",
     "output_type": "stream",
     "text": [
      "['python', 'is', 'a', 'programming', 'language']\n"
     ]
    }
   ],
   "source": [
    "string=\"python is a programming language\"\n",
    "string1=string.split()\n",
    "print(string1)"
   ]
  },
  {
   "cell_type": "markdown",
   "id": "ab849d6c-7d73-4333-a196-b469c3265f9d",
   "metadata": {},
   "source": [
    "# Question 5"
   ]
  },
  {
   "cell_type": "code",
   "execution_count": null,
   "id": "fed0c1e5-b57b-4f26-a445-f403c6951a48",
   "metadata": {},
   "outputs": [],
   "source": [
    "join() is used to combine the substrings into a single string."
   ]
  },
  {
   "cell_type": "code",
   "execution_count": 5,
   "id": "9c83693b-faa3-43d7-ad52-d74419aacfa8",
   "metadata": {},
   "outputs": [
    {
     "name": "stdout",
     "output_type": "stream",
     "text": [
      "hello world !good morning\n"
     ]
    }
   ],
   "source": [
    "string=[\"hello\",\" world !\", \"good\", \" morning\"]\n",
    "string1=''.join(string)\n",
    "print(string1)"
   ]
  },
  {
   "cell_type": "markdown",
   "id": "9c50d3a8-9fbb-4beb-a508-9298d9d5e0aa",
   "metadata": {},
   "source": [
    "# Question 8"
   ]
  },
  {
   "cell_type": "code",
   "execution_count": 7,
   "id": "bb9db269-7f9c-4338-95b2-e7db766c55de",
   "metadata": {},
   "outputs": [
    {
     "name": "stdout",
     "output_type": "stream",
     "text": [
      "{1, 2, 3, 4, 5}\n",
      "{4, 5, 6, 7, 8}\n"
     ]
    }
   ],
   "source": [
    "list1=[1,2,3,4,5]\n",
    "list2=[4,5,6,7,8]\n",
    "set1=set(list1)\n",
    "set2=set(list2)\n",
    "print(set1)\n",
    "print(set2)"
   ]
  },
  {
   "cell_type": "markdown",
   "id": "23014fde-1c47-4a7d-9645-9abd2e41eee7",
   "metadata": {},
   "source": [
    "# Question 9"
   ]
  },
  {
   "cell_type": "code",
   "execution_count": 8,
   "id": "9b6361ef-b572-411f-900d-094253bb6010",
   "metadata": {},
   "outputs": [
    {
     "name": "stdout",
     "output_type": "stream",
     "text": [
      "{4, 5}\n"
     ]
    }
   ],
   "source": [
    "set1={1,2,3,4,5}\n",
    "set2={4,5,6,7,8}\n",
    "set3=set1.intersection(set2)\n",
    "print(set3)"
   ]
  },
  {
   "cell_type": "markdown",
   "id": "975b409c-b800-4575-998e-c289fee49d8d",
   "metadata": {},
   "source": [
    "# Question 10"
   ]
  },
  {
   "cell_type": "code",
   "execution_count": 16,
   "id": "d638e558-29f0-416c-9fb4-2a941bd02565",
   "metadata": {},
   "outputs": [
    {
     "name": "stdin",
     "output_type": "stream",
     "text": [
      "enter your sentence: this is python this is java\n"
     ]
    },
    {
     "name": "stdout",
     "output_type": "stream",
     "text": [
      "this\n",
      "is\n",
      "python\n",
      "java\n"
     ]
    }
   ],
   "source": [
    "sent=input(\"enter your sentence:\")\n",
    "words=sent.split()\n",
    "set1=set(words)\n",
    "for unique in set1:\n",
    "    print(unique)\n",
    "\n"
   ]
  },
  {
   "cell_type": "markdown",
   "id": "57588ba5-b179-43bd-913a-5ab9197ed673",
   "metadata": {},
   "source": [
    "# Question 11"
   ]
  },
  {
   "cell_type": "code",
   "execution_count": 17,
   "id": "20803b47-d778-4e65-b653-ce20532f48f8",
   "metadata": {},
   "outputs": [
    {
     "data": {
      "text/plain": [
       "'hello-world-python'"
      ]
     },
     "execution_count": 17,
     "metadata": {},
     "output_type": "execute_result"
    }
   ],
   "source": [
    "list1=[\"hello\",\"world\",\"python\"]\n",
    "list2=\"-\".join(list1)\n",
    "list2"
   ]
  },
  {
   "cell_type": "code",
   "execution_count": null,
   "id": "4092fd96-a0f4-486c-a4db-e851905bd14d",
   "metadata": {},
   "outputs": [],
   "source": []
  }
 ],
 "metadata": {
  "kernelspec": {
   "display_name": "Python 3 (ipykernel)",
   "language": "python",
   "name": "python3"
  },
  "language_info": {
   "codemirror_mode": {
    "name": "ipython",
    "version": 3
   },
   "file_extension": ".py",
   "mimetype": "text/x-python",
   "name": "python",
   "nbconvert_exporter": "python",
   "pygments_lexer": "ipython3",
   "version": "3.11.11"
  }
 },
 "nbformat": 4,
 "nbformat_minor": 5
}
