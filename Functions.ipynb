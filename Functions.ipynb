{
 "cells": [
  {
   "cell_type": "code",
   "execution_count": 5,
   "id": "57ab6b6f-504b-4f26-a325-121434b1abbd",
   "metadata": {},
   "outputs": [
    {
     "name": "stdout",
     "output_type": "stream",
     "text": [
      "hello ! rohit, nice to meet you\n",
      "hello ! ram, nice to meet you\n",
      "hello ! ms, nice to meet you\n"
     ]
    }
   ],
   "source": [
    "def greeting(name):\n",
    "    print(f\"hello ! {name}, nice to meet you\")\n",
    "greeting(\"rohit\")\n",
    "greeting(\"ram\")\n",
    "greeting(\"ms\")"
   ]
  },
  {
   "cell_type": "code",
   "execution_count": 9,
   "id": "e6c8d313-1d95-4db5-a214-f4f00c8cd0de",
   "metadata": {},
   "outputs": [
    {
     "name": "stdout",
     "output_type": "stream",
     "text": [
      "a=10 b=32 c=21\n"
     ]
    },
    {
     "data": {
      "text/plain": [
       "21.0"
      ]
     },
     "execution_count": 9,
     "metadata": {},
     "output_type": "execute_result"
    }
   ],
   "source": [
    "def average(a,b,c):\n",
    "    print(f\"a={a} b={b} c={c}\")\n",
    "    avg=(a+b+c)/3\n",
    "    return avg\n",
    "average(10,32,21)"
   ]
  },
  {
   "cell_type": "code",
   "execution_count": 8,
   "id": "a625f034-2b37-4c67-99f3-28aeefbdf08c",
   "metadata": {},
   "outputs": [
    {
     "name": "stdout",
     "output_type": "stream",
     "text": [
      "The factorial of 6 is: 720\n",
      "The factorial of 12 is: 479001600\n"
     ]
    }
   ],
   "source": [
    "def factorial(num):\n",
    "    fact=1\n",
    "    if num<0:\n",
    "        print(\"factorial dosenot exist\")\n",
    "    elif num==0:\n",
    "        print(\"factorial is 1\")\n",
    "    else :\n",
    "        for i in range(1,num+1):\n",
    "            fact=fact*i\n",
    "    print(f\"The factorial of {num} is: {fact}\")\n",
    "factorial(6)\n",
    "factorial(12)"
   ]
  },
  {
   "cell_type": "code",
   "execution_count": 12,
   "id": "c83d5343-7357-4d4e-bf62-4b12db683420",
   "metadata": {},
   "outputs": [
    {
     "name": "stdout",
     "output_type": "stream",
     "text": [
      "33\n",
      "28\n",
      "26\n",
      "This function is used to find sum\n"
     ]
    }
   ],
   "source": [
    "list1=[4,6,7,4,5,7]\n",
    "tuple1=(2,4,5,6,7,4)\n",
    "set1={3,5,7,9,2}\n",
    "def addition(iterable):\n",
    "    \"\"\"This function is used to find sum\"\"\"\n",
    "    sum1=0\n",
    "    for i in iterable:\n",
    "        sum1+=i\n",
    "    return sum1\n",
    "x=addition(list1)\n",
    "y=addition(tuple1)\n",
    "z=addition(set1)\n",
    "print(x)\n",
    "print(y)\n",
    "print(z)\n",
    "print(addition.__doc__)  "
   ]
  },
  {
   "cell_type": "markdown",
   "id": "78deeaa1-5835-4d8f-b4fe-6179f4cad981",
   "metadata": {},
   "source": [
    "# function arguments"
   ]
  },
  {
   "cell_type": "markdown",
   "id": "c9ce84c9-e9cf-4643-ac12-0235498c8fa5",
   "metadata": {},
   "source": [
    "# positional arguments"
   ]
  },
  {
   "cell_type": "code",
   "execution_count": 2,
   "id": "99f74ab6-f64e-4674-b77e-582f8f53b0ed",
   "metadata": {},
   "outputs": [
    {
     "name": "stdout",
     "output_type": "stream",
     "text": [
      "a==5 b==7\n",
      "the addition of a & b is 12\n"
     ]
    }
   ],
   "source": [
    "def addition(a,b):\n",
    "    print(f\"a=={a} b=={b}\")\n",
    "    add=a+b\n",
    "    print(\"the addition of a & b is\",add)\n",
    "addition(5,7)"
   ]
  },
  {
   "cell_type": "code",
   "execution_count": 4,
   "id": "09ceb32e-4e55-4e66-92b9-218272ee42aa",
   "metadata": {},
   "outputs": [
    {
     "name": "stdout",
     "output_type": "stream",
     "text": [
      "Hello,rohit sharma\n",
      "Hello,sharma rohit\n"
     ]
    }
   ],
   "source": [
    "def greeting(first_name,second_name):\n",
    "    print(f\"Hello,{first_name} {second_name}\")\n",
    "greeting(\"rohit\",\"sharma\")\n",
    "greeting(\"sharma\",\"rohit\")"
   ]
  },
  {
   "cell_type": "code",
   "execution_count": 3,
   "id": "b97b1c71-1601-4e0f-8d4c-963b2711e4f5",
   "metadata": {},
   "outputs": [
    {
     "data": {
      "text/plain": [
       "456543"
      ]
     },
     "execution_count": 3,
     "metadata": {},
     "output_type": "execute_result"
    }
   ],
   "source": [
    "def reverse(num):\n",
    "    rev=0\n",
    "    while num>0:\n",
    "        remainder=num%10\n",
    "        rev=(rev*10)+remainder\n",
    "        num=num//10\n",
    "    return rev\n",
    "reverse(345654)"
   ]
  },
  {
   "cell_type": "code",
   "execution_count": 8,
   "id": "60750824-c9b0-47a1-802b-9dab83560f4e",
   "metadata": {},
   "outputs": [
    {
     "data": {
      "text/plain": [
       "543"
      ]
     },
     "execution_count": 8,
     "metadata": {},
     "output_type": "execute_result"
    }
   ],
   "source": [
    "def reverse(num):\n",
    "    rev=0\n",
    "    while num>0:\n",
    "        remainder=num%10\n",
    "        rev=(rev*10)+remainder\n",
    "        num=num//10\n",
    "    return rev\n",
    "reverse((int(345.435)))"
   ]
  },
  {
   "cell_type": "markdown",
   "id": "2d56c17c-0b24-4a82-90a1-bd404bf90185",
   "metadata": {},
   "source": [
    "# keyword arguments"
   ]
  },
  {
   "cell_type": "code",
   "execution_count": 7,
   "id": "172cd73a-19ea-42af-9ca7-e559b181a74b",
   "metadata": {},
   "outputs": [
    {
     "name": "stdout",
     "output_type": "stream",
     "text": [
      "i have a dog\n",
      "it's name is buddy\n",
      "i have a dog\n",
      "it's name is buddy\n"
     ]
    }
   ],
   "source": [
    "def animal(animal_type,pet_name):\n",
    "    print(f\"i have a {animal_type}\")\n",
    "    print(f\"it's name is {pet_name}\")\n",
    "animal(\"dog\",\"buddy\") #positional arguments\n",
    "animal(pet_name=\"buddy\",animal_type=\"dog\") #keyword arguments "
   ]
  },
  {
   "cell_type": "code",
   "execution_count": 18,
   "id": "8a020399-f4fb-427f-bcc2-b1ed1308a8a7",
   "metadata": {},
   "outputs": [
    {
     "name": "stdout",
     "output_type": "stream",
     "text": [
      "8 is even\n",
      "7 is odd\n"
     ]
    }
   ],
   "source": [
    "def even_odd(n1,n2):\n",
    "    if n1%2==0:\n",
    "        print(n1,\"is even\")\n",
    "    else:\n",
    "        print(n1,\"is odd\")\n",
    "    if n2%2==0:\n",
    "        print(n2,\"is even\")\n",
    "    else:\n",
    "        print(n2,\"is odd\")\n",
    "even_odd(n2=7,n1=8)"
   ]
  },
  {
   "cell_type": "markdown",
   "id": "434af17b-a7f2-4778-883e-6b18cd294ba6",
   "metadata": {},
   "source": [
    "# Default arguments"
   ]
  },
  {
   "cell_type": "code",
   "execution_count": 26,
   "id": "f4bff99d-af64-4e96-9504-fe976fb6d687",
   "metadata": {},
   "outputs": [
    {
     "name": "stdout",
     "output_type": "stream",
     "text": [
      "The product of 7,6 & 8 is: 336\n"
     ]
    }
   ],
   "source": [
    "def multiplication(b,c=8,a=7):\n",
    "    product=a*b*c\n",
    "    print(f\"The product of {a},{b} & {c} is: {product}\")\n",
    "multiplication(6)"
   ]
  },
  {
   "cell_type": "code",
   "execution_count": null,
   "id": "eae1110b-c252-40e8-9351-00cecc792553",
   "metadata": {},
   "outputs": [],
   "source": [
    "# Arbitary positional arguments"
   ]
  },
  {
   "cell_type": "code",
   "execution_count": 9,
   "id": "8b9e656c-5eba-4d19-a008-f8574f993049",
   "metadata": {},
   "outputs": [
    {
     "name": "stdout",
     "output_type": "stream",
     "text": [
      "args>> (4, 6, 8, 4, 5, 67, 8, 5, 67)\n",
      "the sum of all items is: 174\n"
     ]
    }
   ],
   "source": [
    "def addition(*args):\n",
    "    print(\"args>>\",args)\n",
    "    sum1=0\n",
    "    for i in args:\n",
    "        sum1=sum1+i\n",
    "    print(\"the sum of all items is:\",sum1)\n",
    "addition(4,6,8,4,5,67,8,5,67)"
   ]
  },
  {
   "cell_type": "code",
   "execution_count": 28,
   "id": "0ed340bd-c955-458a-be0c-162a4f92d49d",
   "metadata": {},
   "outputs": [
    {
     "name": "stdout",
     "output_type": "stream",
     "text": [
      "odd numbers: 3\n",
      "odd numbers: 5\n",
      "even numbers: 6\n",
      "odd numbers: 7\n",
      "odd numbers: 3\n",
      "even numbers: 4\n",
      "odd numbers: 43\n",
      "odd numbers: 5\n",
      "even numbers: 678\n",
      "even numbers: 98\n"
     ]
    }
   ],
   "source": [
    "def even_odd(*args):\n",
    "    for i in args:\n",
    "        if i%2==0:\n",
    "            print(\"even numbers:\",i)\n",
    "        else:\n",
    "            print(\"odd numbers:\",i)\n",
    "even_odd(3,5,6,7,3,4,43,5,678,98)"
   ]
  },
  {
   "cell_type": "markdown",
   "id": "228eac9b-093c-45b1-a0a9-ae46987683dd",
   "metadata": {},
   "source": [
    "# arbitary keyword arguments"
   ]
  },
  {
   "cell_type": "code",
   "execution_count": 36,
   "id": "2cf49fca-66cd-4d2f-a665-6003b62c4de2",
   "metadata": {},
   "outputs": [
    {
     "name": "stdout",
     "output_type": "stream",
     "text": [
      "kwargs: {'tel': 67, 'hin': 78, 'eng': 87, 'mat': 90, 'sci': 78, 'soc': 90}\n",
      "81.66666666666667\n"
     ]
    }
   ],
   "source": [
    "def average(**kwargs):\n",
    "    print(\"kwargs:\",kwargs)\n",
    "    avg=sum(kwargs.values())/len(kwargs)\n",
    "    print(avg)\n",
    "average(tel=67,hin=78,eng=87,mat=90,sci=78,soc=90)\n",
    "    \n"
   ]
  },
  {
   "cell_type": "markdown",
   "id": "990892bc-0096-4ee9-91c6-7e382e398027",
   "metadata": {},
   "source": [
    "# kambda functions"
   ]
  },
  {
   "cell_type": "code",
   "execution_count": 10,
   "id": "5f85e514-af8a-4edc-89c3-40644640e440",
   "metadata": {},
   "outputs": [
    {
     "data": {
      "text/plain": [
       "11"
      ]
     },
     "execution_count": 10,
     "metadata": {},
     "output_type": "execute_result"
    }
   ],
   "source": [
    "add = lambda a,b:a+b\n",
    "add(4,7)"
   ]
  },
  {
   "cell_type": "code",
   "execution_count": 13,
   "id": "efa2f50d-e05a-4ee8-9ddb-924849915505",
   "metadata": {},
   "outputs": [
    {
     "data": {
      "text/plain": [
       "55"
      ]
     },
     "execution_count": 13,
     "metadata": {},
     "output_type": "execute_result"
    }
   ],
   "source": [
    "sum1=lambda a,b,*args:a+b+sum(args)\n",
    "sum1(3,4,5,6,6,7,8,9,4,3)\n"
   ]
  },
  {
   "cell_type": "code",
   "execution_count": 18,
   "id": "45edccf4-81ab-4f93-96ca-7a0db5cbefdd",
   "metadata": {},
   "outputs": [
    {
     "data": {
      "text/plain": [
       "39"
      ]
     },
     "execution_count": 18,
     "metadata": {},
     "output_type": "execute_result"
    }
   ],
   "source": [
    "sum1=lambda a,b,list1:a+b+sum(list1)\n",
    "list1=[3,4,6,7,6]\n",
    "sum1(5,8,list1)"
   ]
  },
  {
   "cell_type": "code",
   "execution_count": 25,
   "id": "3c65b248-aae4-4a91-b2ea-3e82f61646d2",
   "metadata": {},
   "outputs": [
    {
     "data": {
      "text/plain": [
       "[9, 16, 16]"
      ]
     },
     "execution_count": 25,
     "metadata": {},
     "output_type": "execute_result"
    }
   ],
   "source": [
    "sqr=lambda x:[i**2 for i in x]\n",
    "sqr([3,4,4])\n"
   ]
  },
  {
   "cell_type": "code",
   "execution_count": null,
   "id": "85db71ef-bd3d-4f41-9079-0d71606ad57b",
   "metadata": {},
   "outputs": [],
   "source": [
    "  "
   ]
  }
 ],
 "metadata": {
  "kernelspec": {
   "display_name": "Python 3 (ipykernel)",
   "language": "python",
   "name": "python3"
  },
  "language_info": {
   "codemirror_mode": {
    "name": "ipython",
    "version": 3
   },
   "file_extension": ".py",
   "mimetype": "text/x-python",
   "name": "python",
   "nbconvert_exporter": "python",
   "pygments_lexer": "ipython3",
   "version": "3.13.5"
  }
 },
 "nbformat": 4,
 "nbformat_minor": 5
}
