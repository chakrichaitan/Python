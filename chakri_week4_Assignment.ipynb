{
 "cells": [
  {
   "cell_type": "markdown",
   "id": "2c7f62b1-7624-4a75-b67b-090b79639f30",
   "metadata": {},
   "source": [
    "# Day 1"
   ]
  },
  {
   "cell_type": "markdown",
   "id": "25ac4b6d-1d38-4ce8-add9-cbd12353a936",
   "metadata": {},
   "source": [
    "# Question1"
   ]
  },
  {
   "cell_type": "code",
   "execution_count": 5,
   "id": "de3596ac-6cd5-4a7c-be5a-7e55e8fd05c9",
   "metadata": {},
   "outputs": [
    {
     "name": "stdout",
     "output_type": "stream",
     "text": [
      "{'anil': 89, 'chakri': 87, 'rohit': 80, 'virat': 86, 'sachin': 97}\n"
     ]
    }
   ],
   "source": [
    "student={'anil':89,'chakri':87,'rohit':80,'virat':86,'sachin':97}\n",
    "print(student)"
   ]
  },
  {
   "cell_type": "markdown",
   "id": "94e77f38-f009-4101-8497-3f0b5ef531f5",
   "metadata": {},
   "source": [
    "# Question2"
   ]
  },
  {
   "cell_type": "code",
   "execution_count": 6,
   "id": "242ea62a-4e8f-4f97-8e77-b7dc1bd84dbd",
   "metadata": {},
   "outputs": [
    {
     "data": {
      "text/plain": [
       "53"
      ]
     },
     "execution_count": 6,
     "metadata": {},
     "output_type": "execute_result"
    }
   ],
   "source": [
    "player_stats={'name':'rohit','age':39,'team':'india','100s':53,'Hs':264}\n",
    "player_stats.get(\"100s\")"
   ]
  },
  {
   "cell_type": "markdown",
   "id": "f5505f57-3088-44d9-9669-a90a15dfc34c",
   "metadata": {},
   "source": [
    "# Question3"
   ]
  },
  {
   "cell_type": "code",
   "execution_count": 14,
   "id": "748777a8-bd9a-48b2-9b53-18a30b593811",
   "metadata": {},
   "outputs": [
    {
     "data": {
      "text/plain": [
       "{'name': 'rohit',\n",
       " 'age': 39,\n",
       " 'team': 'india',\n",
       " '100s': 53,\n",
       " 'Hs': 264,\n",
       " 'DOB': '30 April'}"
      ]
     },
     "execution_count": 14,
     "metadata": {},
     "output_type": "execute_result"
    }
   ],
   "source": [
    "player_stats={'name':'rohit','age':39,'team':'india','100s':53,'Hs':264}\n",
    "player_stats.update({'DOB':'30 April'})\n",
    "player_stats"
   ]
  },
  {
   "cell_type": "markdown",
   "id": "f30d8ce8-21ff-465a-a930-46b97f857ace",
   "metadata": {},
   "source": [
    "# Question4"
   ]
  },
  {
   "cell_type": "code",
   "execution_count": 20,
   "id": "7b397fa2-200a-4a6c-bacf-7f063a6a64ad",
   "metadata": {},
   "outputs": [
    {
     "data": {
      "text/plain": [
       "{'name': 'rohit', 'age': 39, 'team': 'india', '100s': 54, 'Hs': 264}"
      ]
     },
     "execution_count": 20,
     "metadata": {},
     "output_type": "execute_result"
    }
   ],
   "source": [
    "player_stats={'name':'rohit','age':39,'team':'india','100s':53,'Hs':264}\n",
    "player_stats.update({'100s':54})\n",
    "player_stats"
   ]
  },
  {
   "cell_type": "markdown",
   "id": "26ac17eb-ba83-4423-a6a0-ac3d9195c159",
   "metadata": {},
   "source": [
    "# Question5"
   ]
  },
  {
   "cell_type": "code",
   "execution_count": 22,
   "id": "452e6c6a-83fd-47fc-a1cc-954dbe849c73",
   "metadata": {},
   "outputs": [
    {
     "data": {
      "text/plain": [
       "{'name': 'mrunal', 'age': 32, 'salary': 34000}"
      ]
     },
     "execution_count": 22,
     "metadata": {},
     "output_type": "execute_result"
    }
   ],
   "source": [
    "employee={'name':'mrunal','age':32,'salary':34000,'des':'devoloper'}\n",
    "employee.pop('des')\n",
    "employee"
   ]
  },
  {
   "cell_type": "markdown",
   "id": "9d1cfbd6-b60b-4275-825f-b30e4e05cdcf",
   "metadata": {},
   "source": [
    "# Question6"
   ]
  },
  {
   "cell_type": "code",
   "execution_count": 24,
   "id": "f0110ee5-c38b-4fb4-a2fc-e7c63abaf69a",
   "metadata": {},
   "outputs": [
    {
     "name": "stdout",
     "output_type": "stream",
     "text": [
      "['name', 'age', 'bloodgroup']\n"
     ]
    }
   ],
   "source": [
    "report={'name':'rani','age':32,'bloodgroup':'O+'}\n",
    "report.keys()\n",
    "print(list(report.keys()))"
   ]
  },
  {
   "cell_type": "markdown",
   "id": "dba8c4c9-2c61-46b9-9327-6e10b59db7e7",
   "metadata": {},
   "source": [
    "# Question7"
   ]
  },
  {
   "cell_type": "markdown",
   "id": "d1df4635-9575-4803-a054-41306337fa2e",
   "metadata": {},
   "source": [
    "customers={'name':'madhu','accountno.':2368753,'accounttype':'savings','branch':'banglore'}\n",
    "customers.values()\n",
    "print(list(customers.values()))"
   ]
  },
  {
   "cell_type": "markdown",
   "id": "f43db942-7851-4f6b-b88b-7bf91831825e",
   "metadata": {},
   "source": [
    "# Question8"
   ]
  },
  {
   "cell_type": "code",
   "execution_count": 1,
   "id": "3cb0d861-f926-4af7-8b97-72f42148c3f3",
   "metadata": {},
   "outputs": [
    {
     "name": "stdout",
     "output_type": "stream",
     "text": [
      "[('name', 'madhu'), ('accountno.', 2368753), ('accounttype', 'savings'), ('branch', 'banglore')]\n"
     ]
    }
   ],
   "source": [
    "customers={'name':'madhu','accountno.':2368753,'accounttype':'savings','branch':'banglore'}\n",
    "customers.items()\n",
    "print(list(customers.items()))"
   ]
  },
  {
   "cell_type": "markdown",
   "id": "e38d15ee-b5dd-496f-8bc6-39b58b139d91",
   "metadata": {},
   "source": [
    "# Question9"
   ]
  },
  {
   "cell_type": "code",
   "execution_count": 5,
   "id": "64c68620-5658-4a99-a5c5-5b12642f156c",
   "metadata": {},
   "outputs": [
    {
     "name": "stdout",
     "output_type": "stream",
     "text": [
      "key is present\n"
     ]
    }
   ],
   "source": [
    "class_room={'class':5,'no.of students':65,'section':'B','classteacher':'ramya'}\n",
    "if 'section' in class_room:\n",
    "    print(\"key is present\")\n",
    "else:\n",
    "    print(\"not present\")"
   ]
  },
  {
   "cell_type": "markdown",
   "id": "b2f054d2-5635-4b61-9c13-f8698c400b53",
   "metadata": {},
   "source": [
    "# Question10"
   ]
  },
  {
   "cell_type": "code",
   "execution_count": 8,
   "id": "3c43357d-0aaa-48f7-9d34-e14acb8b931e",
   "metadata": {},
   "outputs": [
    {
     "name": "stdout",
     "output_type": "stream",
     "text": [
      "name\n",
      "accountno.\n",
      "accounttype\n",
      "branch\n"
     ]
    }
   ],
   "source": [
    "customers={'name':'madhu','accountno.':2368753,'accounttype':'savings','branch':'banglore'}\n",
    "for keys in customers:\n",
    "    print(keys)"
   ]
  },
  {
   "cell_type": "markdown",
   "id": "930412cc-cf22-4db4-93a2-2427099987b5",
   "metadata": {},
   "source": [
    "# Question11"
   ]
  },
  {
   "cell_type": "code",
   "execution_count": 12,
   "id": "4a622996-6751-4698-a306-2ce06ed770d2",
   "metadata": {},
   "outputs": [
    {
     "name": "stdout",
     "output_type": "stream",
     "text": [
      "madhu\n",
      "2368753\n",
      "savings\n",
      "banglore\n"
     ]
    }
   ],
   "source": [
    "customers={'name':'madhu','accountno.':2368753,'accounttype':'savings','branch':'banglore'}\n",
    "for value in customers.values():\n",
    "    print(value)"
   ]
  },
  {
   "cell_type": "markdown",
   "id": "98477f27-60e2-4c3d-bc8d-3dd81c77ba4b",
   "metadata": {},
   "source": [
    "# Question12"
   ]
  },
  {
   "cell_type": "code",
   "execution_count": 15,
   "id": "6d7de63b-08c7-4b59-b181-abef0e5dc46d",
   "metadata": {},
   "outputs": [
    {
     "data": {
      "text/plain": [
       "{'class': 5,\n",
       " 'no.of students': 65,\n",
       " 'section': 'B',\n",
       " 'classteacher': 'ramya',\n",
       " 'name': 'adarsha',\n",
       " 'place': 'madanapalle'}"
      ]
     },
     "execution_count": 15,
     "metadata": {},
     "output_type": "execute_result"
    }
   ],
   "source": [
    "class_room={'class':5,'no.of students':65,'section':'B','classteacher':'ramya'}\n",
    "school={'name':'adarsha','place':'madanapalle'}\n",
    "class_room.update(school)\n",
    "class_room"
   ]
  },
  {
   "cell_type": "markdown",
   "id": "46a3e964-1dbc-40d9-b695-a79f94b8a058",
   "metadata": {},
   "source": [
    "# Question13"
   ]
  },
  {
   "cell_type": "code",
   "execution_count": 5,
   "id": "7e07c1d3-1d04-4608-92fc-7dc80bc21480",
   "metadata": {},
   "outputs": [
    {
     "data": {
      "text/plain": [
       "'e'"
      ]
     },
     "execution_count": 5,
     "metadata": {},
     "output_type": "execute_result"
    }
   ],
   "source": [
    "dict1={'a':3,'b':5,'c':7,'d':6,'e':9}\n",
    "max_key=max(dict1,key=dict1.get)\n",
    "max_key"
   ]
  },
  {
   "cell_type": "code",
   "execution_count": 1,
   "id": "08378b8b-2f5d-4c55-a533-65dccdd096a8",
   "metadata": {},
   "outputs": [
    {
     "data": {
      "text/plain": [
       "'d'"
      ]
     },
     "execution_count": 1,
     "metadata": {},
     "output_type": "execute_result"
    }
   ],
   "source": [
    "dict1={'a':2,'b':6,'c':3,'d':10}\n",
    "max_key=max(dict1,key=dict1.get)\n",
    "max_key"
   ]
  },
  {
   "cell_type": "markdown",
   "id": "0691759b-911d-493c-9f41-08466e12580b",
   "metadata": {},
   "source": [
    "# Question14"
   ]
  },
  {
   "cell_type": "code",
   "execution_count": 11,
   "id": "f80ba5ae-5750-4859-8f23-3600f7dde0c4",
   "metadata": {},
   "outputs": [
    {
     "data": {
      "text/plain": [
       "'anil'"
      ]
     },
     "execution_count": 11,
     "metadata": {},
     "output_type": "execute_result"
    }
   ],
   "source": [
    "employee_details={'marathahalli':{'name':'anil','age':21,'salary':25000, 'des':'devoloper'},\n",
    "                  'btm layout':{'name':'chakri','age':22,'salary':29000,'des':'devoloper'},\n",
    "                  'krpuram':{'name':'rohit','age':32,'salary':24000,'des':'tester'}}\n",
    "employee_details['marathahalli']['name']"
   ]
  },
  {
   "cell_type": "markdown",
   "id": "963b3408-a2e7-451c-a468-6cace6bd1690",
   "metadata": {},
   "source": [
    "# Question15"
   ]
  },
  {
   "cell_type": "code",
   "execution_count": 13,
   "id": "7b528884-8e2b-44c4-bffd-3c93b5fd7f84",
   "metadata": {},
   "outputs": [
    {
     "name": "stdout",
     "output_type": "stream",
     "text": [
      "{'chakri': 87, 'ravi': 89, 'ram': 90, 'kl': 78, 'ms': 80}\n"
     ]
    }
   ],
   "source": [
    "names=['chakri','ravi','ram','kl','ms']\n",
    "marks=[87,89,90,78,80]\n",
    "student=dict(zip(names,marks))\n",
    "print(student)"
   ]
  },
  {
   "cell_type": "markdown",
   "id": "0a584c9a-3310-4e43-b433-2127f58e79c7",
   "metadata": {},
   "source": [
    "# Question16"
   ]
  },
  {
   "cell_type": "code",
   "execution_count": 15,
   "id": "8c647b8f-6a32-4467-99cb-2e0b54df47d5",
   "metadata": {},
   "outputs": [
    {
     "data": {
      "text/plain": [
       "{'virat': 78, 'hema': 78, 'rohit': 78, 'deepak': 78, 'rana': 78}"
      ]
     },
     "execution_count": 15,
     "metadata": {},
     "output_type": "execute_result"
    }
   ],
   "source": [
    "names={'rana','deepak','hema','rohit','virat'}\n",
    "student=dict.fromkeys(names,78)\n",
    "student"
   ]
  },
  {
   "cell_type": "markdown",
   "id": "15ffcfb6-21ba-45d9-9f2e-793723da391c",
   "metadata": {},
   "source": [
    "# Day2"
   ]
  },
  {
   "cell_type": "markdown",
   "id": "6cc6c483-4dcf-499f-ae2b-98719a79e202",
   "metadata": {},
   "source": [
    "# Question1"
   ]
  },
  {
   "cell_type": "code",
   "execution_count": 18,
   "id": "acce4999-6953-436b-9cfa-5937e05cd967",
   "metadata": {},
   "outputs": [
    {
     "name": "stdout",
     "output_type": "stream",
     "text": [
      "Hello, world\n"
     ]
    }
   ],
   "source": [
    "def hello_world(greeting):\n",
    "    print(f\"{greeting}, world\")\n",
    "hello_world(\"Hello\")"
   ]
  },
  {
   "cell_type": "markdown",
   "id": "927f948d-f74d-4115-b48e-fab2953c21c7",
   "metadata": {},
   "source": [
    "# Question2"
   ]
  },
  {
   "cell_type": "code",
   "execution_count": 19,
   "id": "d3b1dcb5-e538-439c-9719-c3f2b3628bdc",
   "metadata": {},
   "outputs": [
    {
     "name": "stdout",
     "output_type": "stream",
     "text": [
      "Hello chakri,nice to meet you\n"
     ]
    }
   ],
   "source": [
    "def greeting(name):\n",
    "    print(f\"Hello {name},nice to meet you\")\n",
    "greeting(\"chakri\")"
   ]
  },
  {
   "cell_type": "markdown",
   "id": "691dbbba-755c-4b20-83b5-b401c0556245",
   "metadata": {},
   "source": [
    "# Question3"
   ]
  },
  {
   "cell_type": "code",
   "execution_count": 23,
   "id": "400750ca-990e-491c-8cde-a8a64b9631aa",
   "metadata": {},
   "outputs": [
    {
     "name": "stdin",
     "output_type": "stream",
     "text": [
      "enter your first number: 4\n",
      "enter your second number: 8\n"
     ]
    },
    {
     "name": "stdout",
     "output_type": "stream",
     "text": [
      "The sum of 4 & 8 is: 12\n"
     ]
    }
   ],
   "source": [
    "def addition(a,b):\n",
    "    a=int(input(\"enter your first number:\"))\n",
    "    b=int(input(\"enter your second number:\"))\n",
    "    add=a+b\n",
    "    print(f\"The sum of {a} & {b} is:\",add)\n",
    "addition(4,6)"
   ]
  },
  {
   "cell_type": "markdown",
   "id": "301a8bdb-47c7-4ffd-8979-0405b94db094",
   "metadata": {},
   "source": [
    "# Question14"
   ]
  },
  {
   "cell_type": "code",
   "execution_count": 34,
   "id": "6adaf396-b8b8-45fe-be60-99739492017a",
   "metadata": {},
   "outputs": [
    {
     "name": "stdout",
     "output_type": "stream",
     "text": [
      "The square root of 6 is:\n"
     ]
    },
    {
     "data": {
      "text/plain": [
       "36"
      ]
     },
     "execution_count": 34,
     "metadata": {},
     "output_type": "execute_result"
    }
   ],
   "source": [
    "def square(num):\n",
    "    print(f\"The square root of {num} is:\")\n",
    "    if num==1:\n",
    "        print(\"The square root of 1 is 1\")\n",
    "    else:\n",
    "        sq=num**2\n",
    "        return sq\n",
    "square(6)\n",
    "    "
   ]
  },
  {
   "cell_type": "markdown",
   "id": "cc45a537-57e8-444f-b997-6762c0c316e4",
   "metadata": {},
   "source": [
    "# Question5"
   ]
  },
  {
   "cell_type": "code",
   "execution_count": 35,
   "id": "932b0748-ca0a-444d-85ab-f3461607ee71",
   "metadata": {},
   "outputs": [
    {
     "name": "stdout",
     "output_type": "stream",
     "text": [
      "9 is odd\n"
     ]
    }
   ],
   "source": [
    "def even_odd(num):\n",
    "    if(num%2==0):\n",
    "        print(f\"{num} is even\")\n",
    "    else:\n",
    "        print(f\"{num} is odd\")\n",
    "even_odd(9)"
   ]
  },
  {
   "cell_type": "markdown",
   "id": "06c3d43b-eaf7-4242-8c40-b7b5471517f1",
   "metadata": {},
   "source": [
    "# Question6"
   ]
  },
  {
   "cell_type": "code",
   "execution_count": 36,
   "id": "7491b87c-21ed-4ee1-b2a9-46326bbaa0c1",
   "metadata": {},
   "outputs": [
    {
     "name": "stdout",
     "output_type": "stream",
     "text": [
      "The factorial of 12 is: 479001600\n"
     ]
    }
   ],
   "source": [
    "def factorial(num):\n",
    "    fact=1\n",
    "    if num<0:\n",
    "        print(\"factorial dosenot exist\")\n",
    "    elif num==0:\n",
    "        print(\"factorial is 1\")\n",
    "    else :\n",
    "        for i in range(1,num+1):\n",
    "            fact=fact*i\n",
    "    print(f\"The factorial of {num} is: {fact}\")\n",
    "factorial(12)"
   ]
  },
  {
   "cell_type": "markdown",
   "id": "8ecec7c5-ba02-48a3-8c26-63def9e49470",
   "metadata": {},
   "source": [
    "# Question7"
   ]
  },
  {
   "cell_type": "code",
   "execution_count": 44,
   "id": "7cd615b9-01f7-45ef-bf3c-453b9bd690b1",
   "metadata": {},
   "outputs": [
    {
     "name": "stdout",
     "output_type": "stream",
     "text": [
      "32\n"
     ]
    }
   ],
   "source": [
    "list1=[6,5,8,5,6,2]\n",
    "def list_sum(iterable):\n",
    "    sum1=0\n",
    "    for i in iterable:\n",
    "        sum1=sum1+i\n",
    "    return sum1\n",
    "x=list_sum(list1)\n",
    "print(x)\n",
    "        "
   ]
  },
  {
   "cell_type": "markdown",
   "id": "77f9e6eb-79f5-4cec-bca8-0daec6b030d6",
   "metadata": {},
   "source": [
    "# Question8"
   ]
  },
  {
   "cell_type": "code",
   "execution_count": 49,
   "id": "3f138bc0-303d-4b46-880f-11187e6311a3",
   "metadata": {},
   "outputs": [
    {
     "name": "stdout",
     "output_type": "stream",
     "text": [
      "[4, 54, 10]\n"
     ]
    }
   ],
   "source": [
    "list1=[4,3,5,7,9,54,67,19,10]\n",
    "def even_list(iterable):\n",
    "    new_list=[]\n",
    "    for i in list1:\n",
    "        if i%2==0:\n",
    "            new_list.append(i)\n",
    "    return new_list\n",
    "x=even_list(list1)\n",
    "print(x)\n",
    "\n",
    "            "
   ]
  },
  {
   "cell_type": "markdown",
   "id": "542a226a-ccd6-4ed5-a0c5-a574f62a5bf5",
   "metadata": {},
   "source": [
    "# Question9"
   ]
  },
  {
   "cell_type": "code",
   "execution_count": 50,
   "id": "3c44c06e-cb9e-48b5-a836-dea8d37dc756",
   "metadata": {},
   "outputs": [
    {
     "data": {
      "text/plain": [
       "'worldcup'"
      ]
     },
     "execution_count": 50,
     "metadata": {},
     "output_type": "execute_result"
    }
   ],
   "source": [
    "\n",
    "def long_string(str1,str2):\n",
    "    if len(str1)>len(str2):\n",
    "        return str1\n",
    "    else:\n",
    "        return str2\n",
    "long_string(\"worldcup\",\"laliga\")\n"
   ]
  },
  {
   "cell_type": "markdown",
   "id": "f99017f9-fc2f-43e7-be1c-b3349f1725bf",
   "metadata": {},
   "source": [
    "# Question10"
   ]
  },
  {
   "cell_type": "code",
   "execution_count": 53,
   "id": "b3ac4f6a-3b81-4fd5-bfb9-0e77696e2e98",
   "metadata": {},
   "outputs": [
    {
     "data": {
      "text/plain": [
       "132.8"
      ]
     },
     "execution_count": 53,
     "metadata": {},
     "output_type": "execute_result"
    }
   ],
   "source": [
    "def celsius_to_fahrenheit(celsius):\n",
    "    fahrenheit=(celsius*9/5)+32\n",
    "    return fahrenheit\n",
    "celsius_to_fahrenheit(56)\n"
   ]
  },
  {
   "cell_type": "code",
   "execution_count": 2,
   "id": "529baa8f-9a3e-43c1-b351-2af6fea17137",
   "metadata": {},
   "outputs": [
    {
     "name": "stdout",
     "output_type": "stream",
     "text": [
      "132.8\n"
     ]
    }
   ],
   "source": [
    "def temperature(celsius):\n",
    "    farenheit=(celsius*9/5)+32\n",
    "    print(farenheit)\n",
    "temperature(56)"
   ]
  },
  {
   "cell_type": "code",
   "execution_count": null,
   "id": "8342828e-849a-4158-bd1a-89065a5b91ac",
   "metadata": {},
   "outputs": [],
   "source": []
  }
 ],
 "metadata": {
  "kernelspec": {
   "display_name": "Python 3 (ipykernel)",
   "language": "python",
   "name": "python3"
  },
  "language_info": {
   "codemirror_mode": {
    "name": "ipython",
    "version": 3
   },
   "file_extension": ".py",
   "mimetype": "text/x-python",
   "name": "python",
   "nbconvert_exporter": "python",
   "pygments_lexer": "ipython3",
   "version": "3.11.11"
  }
 },
 "nbformat": 4,
 "nbformat_minor": 5
}
